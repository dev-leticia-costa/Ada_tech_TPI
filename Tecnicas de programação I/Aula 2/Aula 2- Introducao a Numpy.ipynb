{
 "cells": [
  {
   "cell_type": "markdown",
   "id": "396e845d",
   "metadata": {},
   "source": [
    "# Numpy\n",
    "\n",
    "Hoje, vamos começara ver a biblioteca matemática mais importante pro ecossistema \n",
    "científico do Python: O Numpy."
   ]
  },
  {
   "cell_type": "markdown",
   "id": "a5994e92",
   "metadata": {},
   "source": [
    "Vamos relembrar alguns conceitos"
   ]
  },
  {
   "cell_type": "code",
   "execution_count": null,
   "id": "df7119fb",
   "metadata": {},
   "outputs": [],
   "source": []
  },
  {
   "cell_type": "code",
   "execution_count": null,
   "id": "a2b0a0b5",
   "metadata": {},
   "outputs": [],
   "source": []
  },
  {
   "cell_type": "code",
   "execution_count": null,
   "id": "6a9d0ef4",
   "metadata": {},
   "outputs": [],
   "source": []
  },
  {
   "cell_type": "code",
   "execution_count": null,
   "id": "255aec1a",
   "metadata": {},
   "outputs": [],
   "source": []
  },
  {
   "cell_type": "code",
   "execution_count": null,
   "id": "5fd19229",
   "metadata": {},
   "outputs": [],
   "source": []
  },
  {
   "cell_type": "code",
   "execution_count": null,
   "id": "fc5445f4",
   "metadata": {},
   "outputs": [],
   "source": []
  },
  {
   "cell_type": "markdown",
   "id": "f7b40eb6",
   "metadata": {},
   "source": [
    "A biblioteca **NumPy** _(Numerical Python)_ proporciona uma forma eficiente de armazenagem e processamento de conjuntos de dados, e é utilizada como base para a construção da biblioteca Pandas, que estudaremos a seguir.\n",
    "\n",
    "O diferencial do Numpy é sua velocidade e eficiência, o que faz com que ela seja amplamente utilizada para computação científica e analise de dados. \n",
    "\n",
    "A velocidade e eficiência é possível graças à estrutura chamada **numpy array**, que é um forma eficiente de guardar e manipular matrizes, que serve como base para as tabelas que iremos utilizar."
   ]
  },
  {
   "cell_type": "code",
   "execution_count": 3,
   "id": "9c2e96a9",
   "metadata": {},
   "outputs": [],
   "source": [
    "# A gente importa o numpy sempre chamando ele de \"np\"\n",
    "import numpy as np"
   ]
  },
  {
   "cell_type": "code",
   "execution_count": 2,
   "id": "e70ebe21",
   "metadata": {},
   "outputs": [
    {
     "name": "stdout",
     "output_type": "stream",
     "text": [
      "[[1, 2, 3]]\n",
      "<class 'list'>\n"
     ]
    }
   ],
   "source": [
    "# Vamos fazer uma comparação com uma lista de Python\n",
    "py_array = [[1,2,3]]\n",
    "\n",
    "print(py_array)\n",
    "print(type(py_array))"
   ]
  },
  {
   "cell_type": "code",
   "execution_count": 3,
   "id": "e8d181e7",
   "metadata": {},
   "outputs": [
    {
     "name": "stdout",
     "output_type": "stream",
     "text": [
      "<class 'list'>\n"
     ]
    }
   ],
   "source": [
    "# Uma lista com 2 dimensões é uma lista de listas\n",
    "\n",
    "print(type(py_array[0]))"
   ]
  },
  {
   "cell_type": "code",
   "execution_count": 4,
   "id": "7ab9fbe9",
   "metadata": {},
   "outputs": [
    {
     "name": "stdout",
     "output_type": "stream",
     "text": [
      "[[1 2 3]]\n",
      "<class 'numpy.ndarray'>\n"
     ]
    }
   ],
   "source": [
    "# Nota como o tipo da variável muda para \"ndarray\"\n",
    "\n",
    "np_array = np.array(py_array)\n",
    "\n",
    "print(np_array)\n",
    "print(type(np_array))"
   ]
  },
  {
   "cell_type": "code",
   "execution_count": 8,
   "id": "3908c9a0",
   "metadata": {},
   "outputs": [
    {
     "name": "stdout",
     "output_type": "stream",
     "text": [
      "[['a' '1' '2']]\n",
      "<class 'numpy.ndarray'>\n",
      "<U21\n"
     ]
    }
   ],
   "source": [
    "py_array_string = [['a',1,2]]\n",
    "np_array_string = np.array(py_array_string)\n",
    "\n",
    "print(np_array_string)\n",
    "print(type(np_array_string))\n",
    "print(np_array_string.dtype)"
   ]
  },
  {
   "cell_type": "code",
   "execution_count": null,
   "id": "5f3a07bf",
   "metadata": {},
   "outputs": [],
   "source": [
    "# Mas no  numpy, um ndarray continua sendo formado de ndarrays."
   ]
  },
  {
   "cell_type": "code",
   "execution_count": null,
   "id": "ad7087b8",
   "metadata": {},
   "outputs": [],
   "source": [
    "# 3 atributos básicos pra um ndarray"
   ]
  },
  {
   "cell_type": "code",
   "execution_count": null,
   "id": "61e3d7b5",
   "metadata": {},
   "outputs": [],
   "source": []
  },
  {
   "cell_type": "code",
   "execution_count": 9,
   "id": "984f58cd",
   "metadata": {},
   "outputs": [],
   "source": [
    "# O dtype de um array do numpy pode ser controlado na hora que a gente cria.\n",
    "\n",
    "py_array = [1,2,3]\n",
    "\n",
    "array_int = np.array(py_array, dtype=np.float64)"
   ]
  },
  {
   "cell_type": "code",
   "execution_count": 10,
   "id": "23d3f5a4",
   "metadata": {},
   "outputs": [
    {
     "name": "stdout",
     "output_type": "stream",
     "text": [
      "[1. 2. 3.]\n",
      "float64\n"
     ]
    }
   ],
   "source": [
    "print(array_int)\n",
    "print(array_int.dtype)"
   ]
  },
  {
   "cell_type": "code",
   "execution_count": null,
   "id": "26597647",
   "metadata": {},
   "outputs": [],
   "source": [
    "# Mas quando a gente não define, ele infere a partir dos nossos dados."
   ]
  },
  {
   "cell_type": "code",
   "execution_count": null,
   "id": "25019902",
   "metadata": {},
   "outputs": [],
   "source": [
    "# Para selecionar um elemento de uma tabela no Python e no Numpy, tem uma ligeira diferença."
   ]
  },
  {
   "cell_type": "markdown",
   "id": "ea6b13b7",
   "metadata": {},
   "source": [
    "**Revisando**"
   ]
  },
  {
   "cell_type": "code",
   "execution_count": null,
   "id": "08c1bea8",
   "metadata": {},
   "outputs": [],
   "source": [
    "# No Python, existe o conceito de \"indexing\", que é pegar elementos pelo seu índice (a sua posição) "
   ]
  },
  {
   "cell_type": "code",
   "execution_count": null,
   "id": "79573a18",
   "metadata": {},
   "outputs": [],
   "source": []
  },
  {
   "cell_type": "code",
   "execution_count": null,
   "id": "25ad1f32",
   "metadata": {},
   "outputs": [],
   "source": [
    "# Também existe uma forma de pegar um subconjunto da lista.\n",
    "# A gente chama isso de \"slicing\". Nota que o último elemento não entra!"
   ]
  },
  {
   "cell_type": "code",
   "execution_count": 19,
   "id": "6102d0e4",
   "metadata": {},
   "outputs": [
    {
     "name": "stdout",
     "output_type": "stream",
     "text": [
      "[9, 8, 7, 6, 5, 4, 3, 2, 1]\n",
      "[9, 8, 7, 6, 5, 4, 3, 2, 1]\n",
      "[9, 8, 7, 6, 5, 4, 3, 2, 1]\n"
     ]
    }
   ],
   "source": [
    "# Invertendo lista\n",
    "\n",
    "# Maneira 1\n",
    "lista = [1,2,3,4,5,6,7,8,9]\n",
    "lista_reversa_obj = reversed(lista)\n",
    "print(list(lista_reversa_obj))\n",
    "\n",
    "# Maneira 2\n",
    "lista2 = [1,2,3,4,5,6,7,8,9]\n",
    "lista2.reverse()\n",
    "print(lista2)\n",
    "\n",
    "# Maneira 3\n",
    "lista3 = [1,2,3,4,5,6,7,8,9]\n",
    "print(lista3[::-1])\n"
   ]
  },
  {
   "cell_type": "code",
   "execution_count": null,
   "id": "a1e06838",
   "metadata": {},
   "outputs": [],
   "source": [
    "# Podemos definir um início também pro slicing.\n",
    "# Quando não colocamos nada, ele assume que o início é 0.\n",
    "# No caso do fim, se não colocamos nada, ele assume que o fim é o último elemento."
   ]
  },
  {
   "cell_type": "code",
   "execution_count": null,
   "id": "8d08c2f9",
   "metadata": {
    "scrolled": true
   },
   "outputs": [],
   "source": [
    "# O poder do slicing é que a gente pode definir diferentes tamanhos de passo."
   ]
  },
  {
   "cell_type": "markdown",
   "id": "4ed4c99b",
   "metadata": {},
   "source": [
    "Também podemos aplicar o conceito do slicing no numpy"
   ]
  },
  {
   "cell_type": "code",
   "execution_count": null,
   "id": "c6851172",
   "metadata": {},
   "outputs": [],
   "source": []
  },
  {
   "cell_type": "markdown",
   "id": "e864132c",
   "metadata": {},
   "source": [
    "**Funções numpy**  \n",
    "O numpy também tem diversas funções para facilitar criação de arrays."
   ]
  },
  {
   "cell_type": "code",
   "execution_count": 8,
   "id": "cb47ae67",
   "metadata": {},
   "outputs": [
    {
     "name": "stdout",
     "output_type": "stream",
     "text": [
      "[0. 0. 0. 0. 0. 0. 0. 0. 0. 0.]\n",
      "[1. 1. 1. 1. 1.]\n",
      "[[1. 0. 0. 0.]\n",
      " [0. 1. 0. 0.]\n",
      " [0. 0. 1. 0.]\n",
      " [0. 0. 0. 1.]]\n",
      "[[1. 0. 0.]\n",
      " [0. 1. 0.]\n",
      " [0. 0. 1.]\n",
      " [0. 0. 0.]]\n"
     ]
    }
   ],
   "source": [
    "print(np.zeros(10))\n",
    "print(np.ones(5))\n",
    "\n",
    "\n",
    "# Observações\n",
    "\n",
    "#Matriz identitária preenche a diagonal com 1 e o resto 0. Ela também é uma matriz quadrada, com mesma quantidade de linhas e colunas\n",
    "print(np.identity(4))\n",
    "\n",
    "#Matriz de olho, quando não há a quantidade de números corretos, ela preenche só com o que tem\n",
    "print(np.eye(4,3))\n"
   ]
  },
  {
   "cell_type": "code",
   "execution_count": 5,
   "id": "55a44241",
   "metadata": {},
   "outputs": [
    {
     "data": {
      "text/plain": [
       "[2, 4, 6, 8]"
      ]
     },
     "execution_count": 5,
     "metadata": {},
     "output_type": "execute_result"
    }
   ],
   "source": [
    "# Relembrando a função range\n",
    "\n",
    "list(range(2,10))\n",
    "\n",
    "# Aplicando slice\n",
    "list(range(2,10,2))\n"
   ]
  },
  {
   "cell_type": "code",
   "execution_count": 10,
   "id": "577f8ac5",
   "metadata": {},
   "outputs": [
    {
     "name": "stdout",
     "output_type": "stream",
     "text": [
      "[2 4 6 8]\n",
      "[10.5 20.5]\n"
     ]
    }
   ],
   "source": [
    "# Também podemos fazer listas de números.\n",
    "\n",
    "print(np.arange(2,10,2))\n",
    "\n",
    "print(np.arange(10.5,30.5,10))"
   ]
  },
  {
   "cell_type": "code",
   "execution_count": 11,
   "id": "d558f3dd",
   "metadata": {},
   "outputs": [
    {
     "name": "stdout",
     "output_type": "stream",
     "text": [
      "[10.         12.22222222 14.44444444 16.66666667 18.88888889 21.11111111\n",
      " 23.33333333 25.55555556 27.77777778 30.        ]\n"
     ]
    }
   ],
   "source": [
    "print(np.linspace(10,30,10))"
   ]
  },
  {
   "cell_type": "markdown",
   "id": "f4de84d1",
   "metadata": {},
   "source": [
    "# Operações Básicas"
   ]
  },
  {
   "cell_type": "code",
   "execution_count": 13,
   "id": "35472610",
   "metadata": {},
   "outputs": [
    {
     "name": "stdout",
     "output_type": "stream",
     "text": [
      "[0 1 2 3 4 5 6 7 8 9]\n",
      "[ 0  2  4  6  8 10 12 14 16 18]\n"
     ]
    }
   ],
   "source": [
    "# Se a força do numpy é ter tudo operando como vetores, \n",
    "# então ele tem que ter operações de vetores.\n",
    "\n",
    "vetor1 = np.arange(0,10)\n",
    "vetor2 = np.arange(0,20,2)\n",
    "\n",
    "print(vetor1)\n",
    "print(vetor2)"
   ]
  },
  {
   "cell_type": "code",
   "execution_count": 14,
   "id": "bf86da54",
   "metadata": {},
   "outputs": [
    {
     "name": "stdout",
     "output_type": "stream",
     "text": [
      "[ 0  3  6  9 12 15 18 21 24 27]\n"
     ]
    }
   ],
   "source": [
    "# Soma por elemento\n",
    "\n",
    "# soma cada valor do vetor individualmente\n",
    "\n",
    "print(vetor1 + vetor2)"
   ]
  },
  {
   "cell_type": "code",
   "execution_count": 15,
   "id": "cf606dab",
   "metadata": {},
   "outputs": [
    {
     "name": "stdout",
     "output_type": "stream",
     "text": [
      "[  0   2   8  18  32  50  72  98 128 162]\n"
     ]
    }
   ],
   "source": [
    "# Multiplicação elemento por elemento\n",
    "\n",
    "# multiplica cada valor do vetor individualmente\n",
    "\n",
    "print(vetor1 * vetor2)"
   ]
  },
  {
   "cell_type": "code",
   "execution_count": 17,
   "id": "97971086",
   "metadata": {},
   "outputs": [
    {
     "name": "stdout",
     "output_type": "stream",
     "text": [
      "570\n",
      "570\n"
     ]
    }
   ],
   "source": [
    "# produto de matrizes (neste caso, produto escalar)\n",
    "# Isso é multiplicar elemento por elemento, e depois somar\n",
    "\n",
    "print((vetor1 * vetor2).sum())\n",
    "\n",
    "print(vetor1 @ vetor2)"
   ]
  },
  {
   "cell_type": "markdown",
   "id": "a830d605",
   "metadata": {},
   "source": [
    "## Bora praticar!"
   ]
  },
  {
   "cell_type": "markdown",
   "id": "decc3719",
   "metadata": {},
   "source": [
    "1) Inverta um vetor (o primeiro elemento vira o último). Para testar crie um vetor a partir da seguinte lista [0, 5, 1, 9, 9, 87]"
   ]
  },
  {
   "cell_type": "code",
   "execution_count": 44,
   "id": "334ec634",
   "metadata": {},
   "outputs": [
    {
     "name": "stdout",
     "output_type": "stream",
     "text": [
      "[87, 9, 9, 1, 5, 0]\n",
      "[87  9  9  1  5  0]\n",
      "[87, 9, 9, 1, 5, 0]\n",
      "[87, 9, 9, 1, 5, 0]\n"
     ]
    }
   ],
   "source": [
    "# Maneira 1\n",
    "vetor = [0, 5, 1, 9, 9, 87]\n",
    "print(vetor[::-1])\n",
    "\n",
    "# Maneira 2\n",
    "vetor2 = [0, 5, 1, 9, 9, 87]\n",
    "vetor2.reverse()\n",
    "print(vetor2)\n",
    "\n",
    "# Maneira 3\n",
    "vetor3 = [0, 5, 1, 9, 9, 87]\n",
    "vetor3_obj = reversed(vetor3)\n",
    "print(list(vetor3_obj))\n",
    "\n",
    "# Maneira 4\n",
    "vetor4 = [0, 5, 1, 9, 9, 87]\n",
    "vetor4_invert = np.array(vetor4[::-1])\n",
    "print(vetor4_invert)\n"
   ]
  },
  {
   "cell_type": "markdown",
   "id": "22f43f5a",
   "metadata": {},
   "source": [
    "2) Crie um vetor com valores que vão de 1 até 21 de dois em dois, a partir da função arange"
   ]
  },
  {
   "cell_type": "code",
   "execution_count": 27,
   "id": "d1435bb6",
   "metadata": {},
   "outputs": [
    {
     "name": "stdout",
     "output_type": "stream",
     "text": [
      "[ 1  3  5  7  9 11 13 15 17 19 21]\n"
     ]
    }
   ],
   "source": [
    "print(np.arange(1,22,2))"
   ]
  },
  {
   "cell_type": "markdown",
   "id": "a13b9a8f",
   "metadata": {},
   "source": [
    "3) Ache os índices dos elementos não-zero a partir do array [1,2,0,0,4,0]"
   ]
  },
  {
   "cell_type": "code",
   "execution_count": 68,
   "id": "54173573",
   "metadata": {},
   "outputs": [
    {
     "name": "stdout",
     "output_type": "stream",
     "text": [
      "[0 1 4]\n",
      "[0 1 4]\n"
     ]
    }
   ],
   "source": [
    "array = np.array([1,2,0,0,4,0])\n",
    "\n",
    "indice_nao_zero = np.nonzero(array)[0]\n",
    "# ou\n",
    "indice_nao_zero2 = np.where(array != 0)[0]\n",
    "\n",
    "print(indice_nao_zero)\n",
    "print(indice_nao_zero2)"
   ]
  },
  {
   "cell_type": "markdown",
   "id": "a440386d",
   "metadata": {},
   "source": [
    "E se a gente quisesse pegar os elementos diferentes de zero?"
   ]
  },
  {
   "cell_type": "code",
   "execution_count": 36,
   "id": "80276ee0",
   "metadata": {},
   "outputs": [
    {
     "name": "stdout",
     "output_type": "stream",
     "text": [
      "[1 2 4]\n"
     ]
    }
   ],
   "source": [
    "#elementos_nao_zero1 = np.where(array != 0)[0]\n",
    "array = np.array([1,2,0,0,4,0])\n",
    "elementos_nao_zero = array[array != 0]\n",
    "print(elementos_nao_zero)"
   ]
  },
  {
   "cell_type": "markdown",
   "id": "c8badc9d",
   "metadata": {},
   "source": [
    "4) Crie uma matriz identidade 3x3"
   ]
  },
  {
   "cell_type": "code",
   "execution_count": 39,
   "id": "bb39a57e",
   "metadata": {},
   "outputs": [
    {
     "name": "stdout",
     "output_type": "stream",
     "text": [
      "[[1. 0. 0.]\n",
      " [0. 1. 0.]\n",
      " [0. 0. 1.]]\n"
     ]
    }
   ],
   "source": [
    "print(np.identity(3))"
   ]
  },
  {
   "cell_type": "markdown",
   "id": "81c1b69e",
   "metadata": {},
   "source": [
    "5) Crie um array de 10 com valores aleatórios "
   ]
  },
  {
   "cell_type": "code",
   "execution_count": 51,
   "id": "412fcfb6",
   "metadata": {},
   "outputs": [
    {
     "name": "stdout",
     "output_type": "stream",
     "text": [
      "[0.42570523 0.20855894 0.09457377 0.57432516 0.61540708 0.32564659\n",
      " 0.4733843  0.63723033 0.18725518 0.85685645]\n"
     ]
    }
   ],
   "source": [
    "array_aleatorio_0_1 = np.random.rand(10)\n",
    "print(array_aleatorio_0_1)\n"
   ]
  },
  {
   "cell_type": "markdown",
   "id": "bf75c0c6",
   "metadata": {},
   "source": [
    "6) Crie um array 100 com valores aleatórios e ache os valores máximo e mínimo"
   ]
  },
  {
   "cell_type": "code",
   "execution_count": 49,
   "id": "53880205",
   "metadata": {},
   "outputs": [
    {
     "name": "stdout",
     "output_type": "stream",
     "text": [
      "[51 54 15 80 81 57 99 39 70 61 54 17 48 65 49 74 80 53 93 97 92 46 23 47\n",
      "  9 51 12 32 70 44 23 60 68  7 26 95  6 17 50 69 63 67 30 46 86 73  3 14\n",
      " 80 19 65 20 56 40 87  9 71 40 19 71  3 39 17 57 38 37 79 31 29 31 72 74\n",
      " 94 76 68 72 33  6 77 47 67 43 68 22 97 38 97 51  2 68  3 53 73 11 16 26\n",
      " 88 11  2 87]\n",
      "valor maximo: 99\n",
      "valor minimo: 2\n"
     ]
    }
   ],
   "source": [
    "\n",
    "array_inteiro_aleatorio = np.random.randint(1, 101, size=100)\n",
    "\n",
    "maximo = np.max(array_inteiro_aleatorio)\n",
    "minimo = np.min(array_inteiro_aleatorio)\n",
    "print(array_inteiro_aleatorio)\n",
    "print(f'valor maximo: {maximo}')\n",
    "print(f'valor minimo: {minimo}')"
   ]
  },
  {
   "cell_type": "markdown",
   "id": "6d439722",
   "metadata": {},
   "source": [
    "7) Crie um array 2D (bidimensional) com 1 na borda e 0 dentro"
   ]
  },
  {
   "cell_type": "code",
   "execution_count": 1,
   "id": "0d0e789a",
   "metadata": {},
   "outputs": [
    {
     "ename": "NameError",
     "evalue": "name 'np' is not defined",
     "output_type": "error",
     "traceback": [
      "\u001b[0;31m---------------------------------------------------------------------------\u001b[0m",
      "\u001b[0;31mNameError\u001b[0m                                 Traceback (most recent call last)",
      "Cell \u001b[0;32mIn[1], line 4\u001b[0m\n\u001b[1;32m      1\u001b[0m linhas \u001b[38;5;241m=\u001b[39m \u001b[38;5;241m5\u001b[39m\n\u001b[1;32m      2\u001b[0m colunas \u001b[38;5;241m=\u001b[39m \u001b[38;5;241m5\u001b[39m\n\u001b[0;32m----> 4\u001b[0m array_2d \u001b[38;5;241m=\u001b[39m np\u001b[38;5;241m.\u001b[39mones((linhas, colunas))\n\u001b[1;32m      6\u001b[0m array_2d[\u001b[38;5;241m1\u001b[39m:\u001b[38;5;241m-\u001b[39m\u001b[38;5;241m1\u001b[39m,\u001b[38;5;241m1\u001b[39m:\u001b[38;5;241m-\u001b[39m\u001b[38;5;241m1\u001b[39m] \u001b[38;5;241m=\u001b[39m \u001b[38;5;241m0\u001b[39m\n\u001b[1;32m      7\u001b[0m \u001b[38;5;28mprint\u001b[39m(array_2d)\n",
      "\u001b[0;31mNameError\u001b[0m: name 'np' is not defined"
     ]
    }
   ],
   "source": [
    "linhas = 5\n",
    "colunas = 5\n",
    "\n",
    "matriz_2d = np.ones((linhas, colunas))\n",
    "\n",
    "matriz_2d[1:-1,1:-1] = 0\n",
    "print(matriz_2d)"
   ]
  },
  {
   "cell_type": "markdown",
   "id": "1da76040",
   "metadata": {},
   "source": [
    "8) Crie uma matriz 5x5 com valores 1, 2, 3, 4 logo abaixo da diagonal"
   ]
  },
  {
   "cell_type": "code",
   "execution_count": 11,
   "id": "95e65fda",
   "metadata": {},
   "outputs": [
    {
     "name": "stdout",
     "output_type": "stream",
     "text": [
      "[[0. 0. 0. 0. 0.]\n",
      " [1. 0. 0. 0. 0.]\n",
      " [0. 2. 0. 0. 0.]\n",
      " [0. 0. 3. 0. 0.]\n",
      " [0. 0. 0. 4. 0.]]\n",
      "[[0 0 0 0 0]\n",
      " [1 0 0 0 0]\n",
      " [0 2 0 0 0]\n",
      " [0 0 3 0 0]\n",
      " [0 0 0 4 0]]\n"
     ]
    }
   ],
   "source": [
    "matriz = np.zeros((5, 5))\n",
    "for i in range(1, 5):\n",
    "    matriz[i, i - 1] = i\n",
    "print(matriz)\n",
    "\n",
    "# ou\n",
    "oito = np.diag([1, 2, 3, 4], k=-1)\n",
    "print(oito)\n"
   ]
  },
  {
   "cell_type": "markdown",
   "id": "96a07cf8",
   "metadata": {},
   "source": [
    "## Mini tarefa"
   ]
  },
  {
   "cell_type": "markdown",
   "id": "61067a54",
   "metadata": {},
   "source": [
    "Utilizando o numpy crie dois vetores a partir das listas ```lista_1 = [1, 2, 3, 4]``` e ```lista_2 = [12, 6, 0, 29]``` e calcule o produto escalar entre esses dois vetores. Responda no [link](https://forms.gle/oz5cHCfj5yQFWw6a9)."
   ]
  },
  {
   "cell_type": "code",
   "execution_count": 69,
   "id": "c371497b",
   "metadata": {},
   "outputs": [
    {
     "name": "stdout",
     "output_type": "stream",
     "text": [
      "Vetor 1: [1 2 3 4]\n",
      "Vetor 2: [12  6  0 29]\n",
      "Produto escalar: 140\n"
     ]
    }
   ],
   "source": [
    "lista_1 = [1, 2, 3, 4]\n",
    "lista_2 = [12, 6, 0, 29]\n",
    "\n",
    "vetor_1 = np.array(lista_1)\n",
    "vetor_2 = np.array(lista_2)\n",
    "\n",
    "produto_escalar = np.dot(vetor_1, vetor_2)\n",
    "\n",
    "print(\"Vetor 1:\", vetor_1)\n",
    "print(\"Vetor 2:\", vetor_2)\n",
    "print(\"Produto escalar:\", produto_escalar)"
   ]
  }
 ],
 "metadata": {
  "kernelspec": {
   "display_name": "Python 3 (ipykernel)",
   "language": "python",
   "name": "python3"
  },
  "language_info": {
   "codemirror_mode": {
    "name": "ipython",
    "version": 3
   },
   "file_extension": ".py",
   "mimetype": "text/x-python",
   "name": "python",
   "nbconvert_exporter": "python",
   "pygments_lexer": "ipython3",
   "version": "3.11.4"
  },
  "vscode": {
   "interpreter": {
    "hash": "7f52069df51f55474cef70a04f6de2c8e83f851022777c4983d9d0bb63ea6184"
   }
  }
 },
 "nbformat": 4,
 "nbformat_minor": 5
}
