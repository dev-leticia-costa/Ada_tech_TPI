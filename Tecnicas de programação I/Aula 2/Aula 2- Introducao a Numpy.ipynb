{
 "cells": [
  {
   "cell_type": "markdown",
   "id": "396e845d",
   "metadata": {},
   "source": [
    "# Numpy\n",
    "\n",
    "Hoje, vamos começara ver a biblioteca matemática mais importante pro ecossistema \n",
    "científico do Python: O Numpy."
   ]
  },
  {
   "cell_type": "markdown",
   "id": "a5994e92",
   "metadata": {},
   "source": [
    "Vamos relembrar alguns conceitos"
   ]
  },
  {
   "cell_type": "code",
   "execution_count": null,
   "id": "df7119fb",
   "metadata": {},
   "outputs": [],
   "source": []
  },
  {
   "cell_type": "code",
   "execution_count": null,
   "id": "a2b0a0b5",
   "metadata": {},
   "outputs": [],
   "source": []
  },
  {
   "cell_type": "code",
   "execution_count": null,
   "id": "6a9d0ef4",
   "metadata": {},
   "outputs": [],
   "source": []
  },
  {
   "cell_type": "code",
   "execution_count": null,
   "id": "255aec1a",
   "metadata": {},
   "outputs": [],
   "source": []
  },
  {
   "cell_type": "code",
   "execution_count": null,
   "id": "5fd19229",
   "metadata": {},
   "outputs": [],
   "source": []
  },
  {
   "cell_type": "code",
   "execution_count": null,
   "id": "fc5445f4",
   "metadata": {},
   "outputs": [],
   "source": []
  },
  {
   "cell_type": "markdown",
   "id": "f7b40eb6",
   "metadata": {},
   "source": [
    "A biblioteca **NumPy** _(Numerical Python)_ proporciona uma forma eficiente de armazenagem e processamento de conjuntos de dados, e é utilizada como base para a construção da biblioteca Pandas, que estudaremos a seguir.\n",
    "\n",
    "O diferencial do Numpy é sua velocidade e eficiência, o que faz com que ela seja amplamente utilizada para computação científica e analise de dados. \n",
    "\n",
    "A velocidade e eficiência é possível graças à estrutura chamada **numpy array**, que é um forma eficiente de guardar e manipular matrizes, que serve como base para as tabelas que iremos utilizar."
   ]
  },
  {
   "cell_type": "code",
   "execution_count": null,
   "id": "9c2e96a9",
   "metadata": {},
   "outputs": [],
   "source": [
    "# A gente importa o numpy sempre chamando ele de \"np\""
   ]
  },
  {
   "cell_type": "code",
   "execution_count": null,
   "id": "e70ebe21",
   "metadata": {},
   "outputs": [],
   "source": [
    "# Vamos fazer uma comparação com uma lista de Python"
   ]
  },
  {
   "cell_type": "code",
   "execution_count": null,
   "id": "e8d181e7",
   "metadata": {},
   "outputs": [],
   "source": [
    "# Uma lista com 2 dimensões é uma lista de listas"
   ]
  },
  {
   "cell_type": "code",
   "execution_count": null,
   "id": "7ab9fbe9",
   "metadata": {},
   "outputs": [],
   "source": [
    "# Nota como o tipo da variável muda para \"ndarray\""
   ]
  },
  {
   "cell_type": "code",
   "execution_count": null,
   "id": "3908c9a0",
   "metadata": {},
   "outputs": [],
   "source": []
  },
  {
   "cell_type": "code",
   "execution_count": null,
   "id": "5f3a07bf",
   "metadata": {},
   "outputs": [],
   "source": [
    "# Mas no  numpy, um ndarray continua sendo formado de ndarrays."
   ]
  },
  {
   "cell_type": "code",
   "execution_count": null,
   "id": "ad7087b8",
   "metadata": {},
   "outputs": [],
   "source": [
    "# 3 atributos básicos pra um ndarray"
   ]
  },
  {
   "cell_type": "code",
   "execution_count": null,
   "id": "61e3d7b5",
   "metadata": {},
   "outputs": [],
   "source": []
  },
  {
   "cell_type": "code",
   "execution_count": null,
   "id": "984f58cd",
   "metadata": {},
   "outputs": [],
   "source": [
    "# O dtype de um array do numpy pode ser controlado na hora que a gente cria."
   ]
  },
  {
   "cell_type": "code",
   "execution_count": null,
   "id": "23d3f5a4",
   "metadata": {},
   "outputs": [],
   "source": []
  },
  {
   "cell_type": "code",
   "execution_count": null,
   "id": "26597647",
   "metadata": {},
   "outputs": [],
   "source": [
    "# Mas quando a gente não define, ele infere a partir dos nossos dados."
   ]
  },
  {
   "cell_type": "code",
   "execution_count": null,
   "id": "25019902",
   "metadata": {},
   "outputs": [],
   "source": [
    "# Para selecionar um elemento de uma tabela no Python e no Numpy, tem uma ligeira diferença."
   ]
  },
  {
   "cell_type": "markdown",
   "id": "ea6b13b7",
   "metadata": {},
   "source": [
    "**Revisando**"
   ]
  },
  {
   "cell_type": "code",
   "execution_count": null,
   "id": "08c1bea8",
   "metadata": {},
   "outputs": [],
   "source": [
    "# No Python, existe o conceito de \"indexing\", que é pegar elementos pelo seu índice (a sua posição) "
   ]
  },
  {
   "cell_type": "code",
   "execution_count": null,
   "id": "79573a18",
   "metadata": {},
   "outputs": [],
   "source": []
  },
  {
   "cell_type": "code",
   "execution_count": null,
   "id": "25ad1f32",
   "metadata": {},
   "outputs": [],
   "source": [
    "# Também existe uma forma de pegar um subconjunto da lista.\n",
    "# A gente chama isso de \"slicing\". Nota que o último elemento não entra!"
   ]
  },
  {
   "cell_type": "code",
   "execution_count": null,
   "id": "a1e06838",
   "metadata": {},
   "outputs": [],
   "source": [
    "# Podemos definir um início também pro slicing.\n",
    "# Quando não colocamos nada, ele assume que o início é 0.\n",
    "# No caso do fim, se não colocamos nada, ele assume que o fim é o último elemento."
   ]
  },
  {
   "cell_type": "code",
   "execution_count": null,
   "id": "8d08c2f9",
   "metadata": {
    "scrolled": true
   },
   "outputs": [],
   "source": [
    "# O poder do slicing é que a gente pode definir diferentes tamanhos de passo."
   ]
  },
  {
   "cell_type": "markdown",
   "id": "4ed4c99b",
   "metadata": {},
   "source": [
    "Também podemos aplicar o conceito do slicing no numpy"
   ]
  },
  {
   "cell_type": "code",
   "execution_count": null,
   "id": "c6851172",
   "metadata": {},
   "outputs": [],
   "source": []
  },
  {
   "cell_type": "markdown",
   "id": "e864132c",
   "metadata": {},
   "source": [
    "**Funções numpy**  \n",
    "O numpy também tem diversas funções para facilitar criação de arrays."
   ]
  },
  {
   "cell_type": "code",
   "execution_count": null,
   "id": "cb47ae67",
   "metadata": {},
   "outputs": [],
   "source": []
  },
  {
   "cell_type": "code",
   "execution_count": null,
   "id": "55a44241",
   "metadata": {},
   "outputs": [],
   "source": [
    "# Relembrando a função range"
   ]
  },
  {
   "cell_type": "code",
   "execution_count": null,
   "id": "577f8ac5",
   "metadata": {},
   "outputs": [],
   "source": [
    "# Também podemos fazer listas de números."
   ]
  },
  {
   "cell_type": "markdown",
   "id": "f4de84d1",
   "metadata": {},
   "source": [
    "# Operações Básicas"
   ]
  },
  {
   "cell_type": "code",
   "execution_count": null,
   "id": "35472610",
   "metadata": {},
   "outputs": [],
   "source": [
    "# Se a força do numpy é ter tudo operando como vetores, \n",
    "# então ele tem que ter operações de vetores."
   ]
  },
  {
   "cell_type": "code",
   "execution_count": null,
   "id": "bf86da54",
   "metadata": {},
   "outputs": [],
   "source": [
    "# Soma por elemento"
   ]
  },
  {
   "cell_type": "code",
   "execution_count": null,
   "id": "cf606dab",
   "metadata": {},
   "outputs": [],
   "source": [
    "# Multiplicação elemento por elemento"
   ]
  },
  {
   "cell_type": "code",
   "execution_count": null,
   "id": "97971086",
   "metadata": {},
   "outputs": [],
   "source": [
    "# produto de matrizes (neste caso, produto escalar)\n",
    "# Isso é multiplicar elemento por elemento, e depois somar"
   ]
  },
  {
   "cell_type": "markdown",
   "id": "a830d605",
   "metadata": {},
   "source": [
    "## Bora praticar!"
   ]
  },
  {
   "cell_type": "markdown",
   "id": "decc3719",
   "metadata": {},
   "source": [
    "1) Inverta um vetor (o primeiro elemento vira o último). Para testar crie um vetor a partir da seguinte lista [0, 5, 1, 9, 9, 87]"
   ]
  },
  {
   "cell_type": "code",
   "execution_count": null,
   "id": "334ec634",
   "metadata": {},
   "outputs": [],
   "source": []
  },
  {
   "cell_type": "markdown",
   "id": "22f43f5a",
   "metadata": {},
   "source": [
    "2) Crie um vetor com valores que vão de 1 até 21 de dois em dois, a partir da função arange"
   ]
  },
  {
   "cell_type": "code",
   "execution_count": null,
   "id": "d1435bb6",
   "metadata": {},
   "outputs": [],
   "source": []
  },
  {
   "cell_type": "markdown",
   "id": "a13b9a8f",
   "metadata": {},
   "source": [
    "3) Ache os índices dos elementos não-zero a partir do array [1,2,0,0,4,0]"
   ]
  },
  {
   "cell_type": "code",
   "execution_count": null,
   "id": "54173573",
   "metadata": {},
   "outputs": [],
   "source": []
  },
  {
   "cell_type": "markdown",
   "id": "a440386d",
   "metadata": {},
   "source": [
    "E se a gente quisesse pegar os elementos diferentes de zero?"
   ]
  },
  {
   "cell_type": "code",
   "execution_count": null,
   "id": "80276ee0",
   "metadata": {},
   "outputs": [],
   "source": []
  },
  {
   "cell_type": "markdown",
   "id": "c8badc9d",
   "metadata": {},
   "source": [
    "4) Crie uma matriz identidade 3x3"
   ]
  },
  {
   "cell_type": "code",
   "execution_count": null,
   "id": "bb39a57e",
   "metadata": {},
   "outputs": [],
   "source": []
  },
  {
   "cell_type": "markdown",
   "id": "81c1b69e",
   "metadata": {},
   "source": [
    "5) Crie um array de 10 com valores aleatórios "
   ]
  },
  {
   "cell_type": "code",
   "execution_count": null,
   "id": "412fcfb6",
   "metadata": {},
   "outputs": [],
   "source": []
  },
  {
   "cell_type": "markdown",
   "id": "bf75c0c6",
   "metadata": {},
   "source": [
    "6) Crie um array 100 com valores aleatórios e ache os valores máximo e mínimo"
   ]
  },
  {
   "cell_type": "code",
   "execution_count": null,
   "id": "53880205",
   "metadata": {},
   "outputs": [],
   "source": []
  },
  {
   "cell_type": "markdown",
   "id": "6d439722",
   "metadata": {},
   "source": [
    "7) Crie um array 2D (bidimensional) com 1 na borda e 0 dentro"
   ]
  },
  {
   "cell_type": "code",
   "execution_count": null,
   "id": "0d0e789a",
   "metadata": {},
   "outputs": [],
   "source": []
  },
  {
   "cell_type": "markdown",
   "id": "1da76040",
   "metadata": {},
   "source": [
    "8) Crie uma matriz 5x5 com valores 1, 2, 3, 4 logo abaixo da diagonal"
   ]
  },
  {
   "cell_type": "code",
   "execution_count": null,
   "id": "95e65fda",
   "metadata": {},
   "outputs": [],
   "source": []
  },
  {
   "cell_type": "markdown",
   "id": "96a07cf8",
   "metadata": {},
   "source": [
    "## Mini tarefa"
   ]
  },
  {
   "cell_type": "markdown",
   "id": "61067a54",
   "metadata": {},
   "source": [
    "Utilizando o numpy crie dois vetores a partir das listas ```lista_1 = [1, 2, 3, 4]``` e ```lista_2 = [12, 6, 0, 29]``` e calcule o produto escalar entre esses dois vetores. Responda no [link](https://forms.gle/oz5cHCfj5yQFWw6a9)."
   ]
  },
  {
   "cell_type": "code",
   "execution_count": null,
   "id": "c371497b",
   "metadata": {},
   "outputs": [],
   "source": []
  }
 ],
 "metadata": {
  "kernelspec": {
   "display_name": "Python 3 (ipykernel)",
   "language": "python",
   "name": "python3"
  },
  "language_info": {
   "codemirror_mode": {
    "name": "ipython",
    "version": 3
   },
   "file_extension": ".py",
   "mimetype": "text/x-python",
   "name": "python",
   "nbconvert_exporter": "python",
   "pygments_lexer": "ipython3",
   "version": "3.9.13"
  },
  "vscode": {
   "interpreter": {
    "hash": "7f52069df51f55474cef70a04f6de2c8e83f851022777c4983d9d0bb63ea6184"
   }
  }
 },
 "nbformat": 4,
 "nbformat_minor": 5
}
