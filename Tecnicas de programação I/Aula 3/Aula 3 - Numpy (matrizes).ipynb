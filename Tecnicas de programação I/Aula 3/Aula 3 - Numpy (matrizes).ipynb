{
 "cells": [
  {
   "cell_type": "markdown",
   "id": "396e845d",
   "metadata": {},
   "source": [
    "# Numpy"
   ]
  },
  {
   "cell_type": "markdown",
   "id": "f7b40eb6",
   "metadata": {},
   "source": [
    "**Relembrando**  \n",
    "  \n",
    "A biblioteca **NumPy** _(Numerical Python)_ proporciona uma forma eficiente de armazenagem e processamento de conjuntos de dados, e é utilizada como base para a construção da biblioteca Pandas, que estudaremos a seguir.\n",
    "\n",
    "O diferencial do Numpy é sua velocidade e eficiência, o que faz com que ela seja amplamente utilizada para computação científica e analise de dados. \n",
    "\n",
    "A velocidade e eficiência é possível graças à estrutura chamada **numpy array**, que é um forma eficiente de guardar e manipular matrizes, que serve como base para as tabelas que iremos utilizar."
   ]
  },
  {
   "cell_type": "code",
   "execution_count": 1,
   "id": "9c2e96a9",
   "metadata": {},
   "outputs": [],
   "source": [
    "# A gente importa o numpy sempre chamando ele de \"np\"\n",
    "import numpy as np"
   ]
  },
  {
   "cell_type": "code",
   "execution_count": null,
   "id": "7ab9fbe9",
   "metadata": {},
   "outputs": [],
   "source": [
    "py_array = [1,2,3]\n",
    "\n",
    "print(py_array)\n",
    "print(type(py_array))"
   ]
  },
  {
   "cell_type": "code",
   "execution_count": null,
   "id": "5f3a07bf",
   "metadata": {},
   "outputs": [],
   "source": [
    "print(type(py_array[0]))"
   ]
  },
  {
   "cell_type": "code",
   "execution_count": 3,
   "id": "7b65c4bc",
   "metadata": {},
   "outputs": [
    {
     "name": "stdout",
     "output_type": "stream",
     "text": [
      "[[ 1  2  3]\n",
      " [ 3  4  5]\n",
      " [ 7  8  9]\n",
      " [10 11 12]]\n",
      "<class 'numpy.ndarray'>\n"
     ]
    }
   ],
   "source": [
    "# Vamos fazer uma comparação com um vetor do numpy\n",
    "py_matriz = [[1,2,3],\n",
    "             [3,4,5],\n",
    "             [7,8,9],\n",
    "             [10,11,12],\n",
    "             ]\n",
    "\n",
    "np_matriz = np.array(py_matriz)\n",
    "\n",
    "print(np_matriz)\n",
    "print(type(np_matriz))"
   ]
  },
  {
   "cell_type": "code",
   "execution_count": 9,
   "id": "4ec6934a",
   "metadata": {},
   "outputs": [
    {
     "name": "stdout",
     "output_type": "stream",
     "text": [
      "[1 2 3]\n",
      "<class 'numpy.ndarray'>\n"
     ]
    }
   ],
   "source": [
    "array_np = np_matriz[0]\n",
    "print(array_np)\n",
    "print(type(np_matriz[0]))\n"
   ]
  },
  {
   "cell_type": "code",
   "execution_count": 11,
   "id": "7cbb8c76",
   "metadata": {},
   "outputs": [
    {
     "name": "stdout",
     "output_type": "stream",
     "text": [
      "1\n",
      "1\n",
      "<class 'numpy.int64'>\n"
     ]
    }
   ],
   "source": [
    "# Existem 2 formas de capturar um dado dentro da matriz\n",
    "\n",
    "array_np = np_matriz[0,0]\n",
    "array_np2 = np_matriz[0][0]\n",
    "print(array_np)\n",
    "print(array_np2)\n",
    "print(type(array_np))"
   ]
  },
  {
   "cell_type": "code",
   "execution_count": null,
   "id": "70a6c74c",
   "metadata": {},
   "outputs": [],
   "source": []
  },
  {
   "cell_type": "code",
   "execution_count": 14,
   "id": "ad7087b8",
   "metadata": {},
   "outputs": [
    {
     "name": "stdout",
     "output_type": "stream",
     "text": [
      "(4, 3)\n",
      "2\n",
      "int64\n"
     ]
    }
   ],
   "source": [
    "# 3 atributos básicos pra um ndarray\n",
    "\n",
    "print(np_matriz.shape) # Mostra o formato da matriz\n",
    "print(np_matriz.ndim) # Mostra a quantidade de dimensões\n",
    "print(np_matriz.dtype) # Mostra o tipo de dado dos elementos da matriz"
   ]
  },
  {
   "cell_type": "code",
   "execution_count": 15,
   "id": "61e3d7b5",
   "metadata": {},
   "outputs": [
    {
     "name": "stdout",
     "output_type": "stream",
     "text": [
      "<class 'numpy.ndarray'>\n",
      "int64\n"
     ]
    }
   ],
   "source": [
    "x = np.array([1,2,3])\n",
    "print(type(x))\n",
    "print(x.dtype)"
   ]
  },
  {
   "cell_type": "code",
   "execution_count": 30,
   "id": "30797cb3",
   "metadata": {},
   "outputs": [],
   "source": [
    "# O dtype de um array do numpy pode ser controlado na hora que a gente cria.\n",
    "py_matriz = [[1,2,3],\n",
    "             [4,5,6],\n",
    "             [7,8,9],\n",
    "             [10,11,12],\n",
    "             ]\n",
    "\n",
    "matriz = np.array(py_matriz, dtype=np.float64)"
   ]
  },
  {
   "cell_type": "code",
   "execution_count": 31,
   "id": "bc3a2f7f",
   "metadata": {},
   "outputs": [
    {
     "name": "stdout",
     "output_type": "stream",
     "text": [
      "[[ 1.  2.  3.]\n",
      " [ 4.  5.  6.]\n",
      " [ 7.  8.  9.]\n",
      " [10. 11. 12.]]\n",
      "float64\n"
     ]
    }
   ],
   "source": [
    "print(matriz)\n",
    "print(matriz.dtype)"
   ]
  },
  {
   "cell_type": "code",
   "execution_count": 32,
   "id": "99c0d86d",
   "metadata": {},
   "outputs": [
    {
     "name": "stdout",
     "output_type": "stream",
     "text": [
      "1.0\n",
      "1.0\n"
     ]
    }
   ],
   "source": [
    "# Para selecionar um elemento de uma tabela no Python e no Numpy, tem uma ligeira diferença.\n",
    "\n",
    "print(matriz[0][0])\n",
    "print(matriz[0,0])"
   ]
  },
  {
   "cell_type": "markdown",
   "id": "6bda33f8",
   "metadata": {},
   "source": [
    "Slicing com matriz"
   ]
  },
  {
   "cell_type": "code",
   "execution_count": 41,
   "id": "8f9e2122",
   "metadata": {},
   "outputs": [
    {
     "name": "stdout",
     "output_type": "stream",
     "text": [
      "[[ 1.  2.  3.]\n",
      " [ 4.  5.  6.]\n",
      " [ 7.  8.  9.]\n",
      " [10. 11. 12.]]\n",
      "\n",
      "Retirando a primeira coluna\n",
      "[[ 2.  3.]\n",
      " [ 5.  6.]\n",
      " [ 8.  9.]\n",
      " [11. 12.]]\n",
      "\n",
      "Retirando a primeira linha\n",
      "[[ 4.  5.  6.]\n",
      " [ 7.  8.  9.]\n",
      " [10. 11. 12.]]\n",
      "\n",
      "Captura a segunda linha e inverte os valores\n",
      "[6. 5. 4.]\n",
      "\n",
      "Captura somente alguns valores na matriz\n",
      "[[6.]\n",
      " [9.]]\n"
     ]
    }
   ],
   "source": [
    "# Slicing funciona no numpy!\n",
    "\n",
    "print(matriz)\n",
    "\n",
    "# print(matriz[linhas:colunas:step])\n",
    "\n",
    "print('\\nRetirando a primeira coluna')\n",
    "print(matriz[:,1:])\n",
    "\n",
    "print('\\nRetirando a primeira linha')\n",
    "print(matriz[1:,:])\n",
    "\n",
    "print('\\nCaptura a segunda linha e inverte os valores')\n",
    "print(matriz[1,::-1])\n",
    "\n",
    "print('\\nCaptura somente alguns valores na matriz')\n",
    "print(matriz[1:-1,-1:])\n"
   ]
  },
  {
   "cell_type": "markdown",
   "id": "e864132c",
   "metadata": {},
   "source": [
    "**Funções numpy**  \n",
    "O numpy também tem diversas funções para facilitar criação de matrizes."
   ]
  },
  {
   "cell_type": "code",
   "execution_count": 46,
   "id": "cb47ae67",
   "metadata": {},
   "outputs": [
    {
     "name": "stdout",
     "output_type": "stream",
     "text": [
      "[[0. 0. 0.]\n",
      " [0. 0. 0.]]\n",
      "[[1. 1.]\n",
      " [1. 1.]\n",
      " [1. 1.]]\n",
      "[[1. 0. 0.]\n",
      " [0. 1. 0.]\n",
      " [0. 0. 1.]]\n",
      "[[1. 0. 0. 0.]\n",
      " [0. 1. 0. 0.]\n",
      " [0. 0. 1. 0.]\n",
      " [0. 0. 0. 1.]]\n"
     ]
    }
   ],
   "source": [
    "print(np.zeros((2,3)))\n",
    "print(np.ones((3,2)))\n",
    "print(np.identity((3)))\n",
    "print(np.eye(4,4))"
   ]
  },
  {
   "cell_type": "markdown",
   "id": "af8b483d",
   "metadata": {},
   "source": [
    "# Manipulações de matrizes"
   ]
  },
  {
   "cell_type": "code",
   "execution_count": 47,
   "id": "103153e3",
   "metadata": {},
   "outputs": [
    {
     "data": {
      "text/plain": [
       "array([[ 1.,  2.,  3.],\n",
       "       [ 4.,  5.,  6.],\n",
       "       [ 7.,  8.,  9.],\n",
       "       [10., 11., 12.]])"
      ]
     },
     "execution_count": 47,
     "metadata": {},
     "output_type": "execute_result"
    }
   ],
   "source": [
    "matriz"
   ]
  },
  {
   "cell_type": "code",
   "execution_count": 48,
   "id": "5ead4367",
   "metadata": {},
   "outputs": [
    {
     "data": {
      "text/plain": [
       "array([[ 1.,  4.,  7., 10.],\n",
       "       [ 2.,  5.,  8., 11.],\n",
       "       [ 3.,  6.,  9., 12.]])"
      ]
     },
     "execution_count": 48,
     "metadata": {},
     "output_type": "execute_result"
    }
   ],
   "source": [
    "# Transposição de matrizes (quando as linhas viram colunas)\n",
    "\n",
    "matriz.T"
   ]
  },
  {
   "cell_type": "code",
   "execution_count": 49,
   "id": "87df6a49",
   "metadata": {},
   "outputs": [
    {
     "data": {
      "text/plain": [
       "array([[ 1.,  4.,  7., 10.],\n",
       "       [ 2.,  5.,  8., 11.],\n",
       "       [ 3.,  6.,  9., 12.]])"
      ]
     },
     "execution_count": 49,
     "metadata": {},
     "output_type": "execute_result"
    }
   ],
   "source": [
    "\n",
    "np.transpose(matriz)"
   ]
  },
  {
   "cell_type": "code",
   "execution_count": 50,
   "id": "b7bc6bc8",
   "metadata": {},
   "outputs": [
    {
     "data": {
      "text/plain": [
       "array([[ 1.,  4.,  7., 10.],\n",
       "       [ 2.,  5.,  8., 11.],\n",
       "       [ 3.,  6.,  9., 12.]])"
      ]
     },
     "execution_count": 50,
     "metadata": {},
     "output_type": "execute_result"
    }
   ],
   "source": [
    "matriz.transpose()"
   ]
  },
  {
   "cell_type": "code",
   "execution_count": 51,
   "id": "e347d8b8",
   "metadata": {},
   "outputs": [
    {
     "data": {
      "text/plain": [
       "(9,)"
      ]
     },
     "execution_count": 51,
     "metadata": {},
     "output_type": "execute_result"
    }
   ],
   "source": [
    "x = np.array([0.1, 0.4, 1.0, 0.2, 0.7, 1.2, 1.1, 1.0, 0.9])\n",
    "x.shape"
   ]
  },
  {
   "cell_type": "code",
   "execution_count": 52,
   "id": "5c298535",
   "metadata": {},
   "outputs": [
    {
     "data": {
      "text/plain": [
       "array([[0.1, 0.4, 1. ],\n",
       "       [0.2, 0.7, 1.2],\n",
       "       [1.1, 1. , 0.9]])"
      ]
     },
     "execution_count": 52,
     "metadata": {},
     "output_type": "execute_result"
    }
   ],
   "source": [
    "# Redimensionamento\n",
    "x.reshape(3,3)"
   ]
  },
  {
   "cell_type": "code",
   "execution_count": 53,
   "id": "9e51e72f",
   "metadata": {},
   "outputs": [
    {
     "data": {
      "text/plain": [
       "(12,)"
      ]
     },
     "execution_count": 53,
     "metadata": {},
     "output_type": "execute_result"
    }
   ],
   "source": [
    "y = np.array([0.1, 0.4, 1.0, 0.2, 0.7, 1.2, 1.1, 1.0, 0.9, 2.0,\n",
    "              1.5, 1.6])\n",
    "y.shape"
   ]
  },
  {
   "cell_type": "code",
   "execution_count": 54,
   "id": "01201e9a",
   "metadata": {
    "scrolled": true
   },
   "outputs": [
    {
     "ename": "ValueError",
     "evalue": "cannot reshape array of size 12 into shape (4,4)",
     "output_type": "error",
     "traceback": [
      "\u001b[0;31m---------------------------------------------------------------------------\u001b[0m",
      "\u001b[0;31mValueError\u001b[0m                                Traceback (most recent call last)",
      "Cell \u001b[0;32mIn[54], line 2\u001b[0m\n\u001b[1;32m      1\u001b[0m \u001b[38;5;66;03m# Vejam o que acontece se as dimensões não são condizentes\u001b[39;00m\n\u001b[0;32m----> 2\u001b[0m y\u001b[38;5;241m.\u001b[39mreshape(\u001b[38;5;241m4\u001b[39m,\u001b[38;5;241m4\u001b[39m)\n",
      "\u001b[0;31mValueError\u001b[0m: cannot reshape array of size 12 into shape (4,4)"
     ]
    }
   ],
   "source": [
    "# Vejam o que acontece se as dimensões não são condizentes\n",
    "y.reshape(4,4)"
   ]
  },
  {
   "cell_type": "code",
   "execution_count": 55,
   "id": "b64b9ce4",
   "metadata": {},
   "outputs": [
    {
     "data": {
      "text/plain": [
       "array([[1, 2, 3, 4, 5, 6, 7, 8, 9]])"
      ]
     },
     "execution_count": 55,
     "metadata": {},
     "output_type": "execute_result"
    }
   ],
   "source": [
    "# E se eu quiser retornar para um vetor\n",
    "x = np.array([[1, 2, 3],\n",
    "              [4, 5, 6],\n",
    "              [7, 8, 9]])\n",
    "\n",
    "x.reshape(-1,9)"
   ]
  },
  {
   "cell_type": "code",
   "execution_count": 56,
   "id": "69d11867",
   "metadata": {},
   "outputs": [
    {
     "data": {
      "text/plain": [
       "array([1, 2, 3, 4, 5, 6, 7, 8, 9])"
      ]
     },
     "execution_count": 56,
     "metadata": {},
     "output_type": "execute_result"
    }
   ],
   "source": [
    "# Também é possível utilizar o flatten\n",
    "x.flatten()"
   ]
  },
  {
   "cell_type": "code",
   "execution_count": 64,
   "id": "0bf692ae",
   "metadata": {},
   "outputs": [],
   "source": [
    "# Também podemos combinar arrays diferentes.\n",
    "# Imagina que temos duas features, altura e peso de pessoas físicas.\n",
    "x1 = np.array([[1.67, 89.],\n",
    "               [1.79, 85.],\n",
    "               [1.69, 65.],\n",
    "               [1.54, 57.],\n",
    "               [1.50, 45.]])\n",
    "\n",
    "# Porém, nós queremos testar agora adicionar uma terceira feature, se a pessoa é homem ou mulher.\n",
    "# 1 é mulher, 0 é homem\n",
    "x2 = np.array([1, 0, 1, 0, 1])\n",
    "\n",
    "# Como podemos fazer?"
   ]
  },
  {
   "cell_type": "code",
   "execution_count": 62,
   "id": "71f46c3f",
   "metadata": {},
   "outputs": [
    {
     "data": {
      "text/plain": [
       "array([[ 1.67, 89.  ,  1.  ],\n",
       "       [ 1.79, 85.  ,  0.  ],\n",
       "       [ 1.69, 65.  ,  1.  ],\n",
       "       [ 1.54, 57.  ,  0.  ],\n",
       "       [ 1.5 , 45.  ,  1.  ]])"
      ]
     },
     "execution_count": 62,
     "metadata": {},
     "output_type": "execute_result"
    }
   ],
   "source": [
    "#Podemos utilizar o concatenate (forma mais utilizada para concatenar bases)\n",
    "\n",
    "#Organizando o dado(linha) para incluir na matriz\n",
    "# nova_coluna = x2.reshape(linhas, colunas) # Use o -1 nas linhas para não definir a quantidade de linhas (funciona para colunas tbm)\n",
    "nova_coluna = x2.reshape(-1,1)\n",
    "\n",
    "#Juntando o novo dado a coluna\n",
    "np.concatenate((x1, nova_coluna), axis=1)"
   ]
  },
  {
   "cell_type": "code",
   "execution_count": 67,
   "id": "f50d4542",
   "metadata": {},
   "outputs": [
    {
     "ename": "ValueError",
     "evalue": "all the input arrays must have same number of dimensions, but the array at index 0 has 2 dimension(s) and the array at index 1 has 1 dimension(s)",
     "output_type": "error",
     "traceback": [
      "\u001b[0;31m---------------------------------------------------------------------------\u001b[0m",
      "\u001b[0;31mValueError\u001b[0m                                Traceback (most recent call last)",
      "Cell \u001b[0;32mIn[67], line 2\u001b[0m\n\u001b[1;32m      1\u001b[0m transpondo \u001b[38;5;241m=\u001b[39m x2\u001b[38;5;241m.\u001b[39mT\n\u001b[0;32m----> 2\u001b[0m np\u001b[38;5;241m.\u001b[39mconcatenate((x1, transpondo), axis\u001b[38;5;241m=\u001b[39m\u001b[38;5;241m1\u001b[39m)\n",
      "File \u001b[0;32m<__array_function__ internals>:200\u001b[0m, in \u001b[0;36mconcatenate\u001b[0;34m(*args, **kwargs)\u001b[0m\n",
      "\u001b[0;31mValueError\u001b[0m: all the input arrays must have same number of dimensions, but the array at index 0 has 2 dimension(s) and the array at index 1 has 1 dimension(s)"
     ]
    }
   ],
   "source": [
    "transpondo = x2.T\n",
    "np.concatenate((x1, transpondo), axis=1)"
   ]
  },
  {
   "cell_type": "code",
   "execution_count": 68,
   "id": "f8679c60",
   "metadata": {},
   "outputs": [
    {
     "data": {
      "text/plain": [
       "array([[ 1.67, 89.  ,  1.  ],\n",
       "       [ 1.79, 85.  ,  0.  ],\n",
       "       [ 1.69, 65.  ,  1.  ],\n",
       "       [ 1.54, 57.  ,  0.  ],\n",
       "       [ 1.5 , 45.  ,  1.  ]])"
      ]
     },
     "execution_count": 68,
     "metadata": {},
     "output_type": "execute_result"
    }
   ],
   "source": [
    "np.append(x1, x2.reshape(-1, 1), axis=1)"
   ]
  },
  {
   "cell_type": "code",
   "execution_count": 70,
   "id": "b44bef12",
   "metadata": {},
   "outputs": [
    {
     "data": {
      "text/plain": [
       "array([[ 1.67,  1.  , 89.  ],\n",
       "       [ 1.79,  0.  , 85.  ],\n",
       "       [ 1.69,  1.  , 65.  ],\n",
       "       [ 1.54,  0.  , 57.  ],\n",
       "       [ 1.5 ,  1.  , 45.  ]])"
      ]
     },
     "execution_count": 70,
     "metadata": {},
     "output_type": "execute_result"
    }
   ],
   "source": [
    "# O insert tem a vantagem de não precisar transpor a linhas que será inseriada às coluna\n",
    "np.insert(x1, 1, x2, axis=1)"
   ]
  },
  {
   "cell_type": "code",
   "execution_count": 71,
   "id": "f427bf99",
   "metadata": {},
   "outputs": [
    {
     "data": {
      "text/plain": [
       "array([[ 1.67,  1.79,  1.69,  1.54,  1.5 ],\n",
       "       [89.  , 85.  , 65.  , 57.  , 45.  ],\n",
       "       [ 1.  ,  0.  ,  1.  ,  0.  ,  1.  ]])"
      ]
     },
     "execution_count": 71,
     "metadata": {},
     "output_type": "execute_result"
    }
   ],
   "source": [
    "# unido dados verticalmente adicionando uma linha\n",
    "np.vstack([x1.T, x2])"
   ]
  },
  {
   "cell_type": "code",
   "execution_count": 72,
   "id": "6abcbb1c",
   "metadata": {},
   "outputs": [
    {
     "data": {
      "text/plain": [
       "array([[ 1.67, 89.  ,  1.  ],\n",
       "       [ 1.79, 85.  ,  0.  ],\n",
       "       [ 1.69, 65.  ,  1.  ],\n",
       "       [ 1.54, 57.  ,  0.  ],\n",
       "       [ 1.5 , 45.  ,  1.  ]])"
      ]
     },
     "execution_count": 72,
     "metadata": {},
     "output_type": "execute_result"
    }
   ],
   "source": [
    "np.vstack([x1.T, x2]).T"
   ]
  },
  {
   "cell_type": "code",
   "execution_count": 73,
   "id": "429fec63",
   "metadata": {},
   "outputs": [
    {
     "data": {
      "text/plain": [
       "array([[ 1.67, 89.  ,  1.  ],\n",
       "       [ 1.79, 85.  ,  0.  ],\n",
       "       [ 1.69, 65.  ,  1.  ],\n",
       "       [ 1.54, 57.  ,  0.  ],\n",
       "       [ 1.5 , 45.  ,  1.  ]])"
      ]
     },
     "execution_count": 73,
     "metadata": {},
     "output_type": "execute_result"
    }
   ],
   "source": [
    "# unindo dados horizontalmente adicionando uma nova coluna\n",
    "\n",
    "np.hstack([x1, x2.reshape(-1,1)])"
   ]
  },
  {
   "cell_type": "code",
   "execution_count": 75,
   "id": "19ae7488",
   "metadata": {},
   "outputs": [
    {
     "data": {
      "text/plain": [
       "array([[ 1.67, 89.  ,  1.  ],\n",
       "       [ 1.79, 85.  ,  0.  ],\n",
       "       [ 1.69, 65.  ,  1.  ],\n",
       "       [ 1.54, 57.  ,  0.  ],\n",
       "       [ 1.5 , 45.  ,  1.  ]])"
      ]
     },
     "execution_count": 75,
     "metadata": {},
     "output_type": "execute_result"
    }
   ],
   "source": [
    "np.column_stack([x1, x2])"
   ]
  },
  {
   "cell_type": "code",
   "execution_count": 79,
   "id": "42ac946c",
   "metadata": {},
   "outputs": [],
   "source": [
    "# Agora temos a tabela de dados abaixo.\n",
    "table = np.array([[1.67, 89., 1],\n",
    "                  [1.79, 85., 0],\n",
    "                  [1.69, 65., 1],\n",
    "                  [1.54, 57., 0],\n",
    "                  [1.50, 45., 1]])\n",
    "\n",
    "# Mas tinhamos esquecido de outras 3 pessoas!\n",
    "new_table = np.array([[1.78, 91, 0],\n",
    "                      [1.72, 67, 1],\n",
    "                      [1.77, 76, 1]])"
   ]
  },
  {
   "cell_type": "code",
   "execution_count": 81,
   "id": "582baf26",
   "metadata": {},
   "outputs": [
    {
     "data": {
      "text/plain": [
       "array([[ 1.67, 89.  ,  1.  ],\n",
       "       [ 1.79, 85.  ,  0.  ],\n",
       "       [ 1.69, 65.  ,  1.  ],\n",
       "       [ 1.54, 57.  ,  0.  ],\n",
       "       [ 1.5 , 45.  ,  1.  ],\n",
       "       [ 1.78, 91.  ,  0.  ],\n",
       "       [ 1.72, 67.  ,  1.  ],\n",
       "       [ 1.77, 76.  ,  1.  ]])"
      ]
     },
     "execution_count": 81,
     "metadata": {},
     "output_type": "execute_result"
    }
   ],
   "source": [
    "# Como podemos juntar as tabelas?\n",
    "\n",
    "\n",
    "np.concatenate((table, new_table), axis=0)\n"
   ]
  },
  {
   "cell_type": "code",
   "execution_count": 82,
   "id": "2aa445e6",
   "metadata": {},
   "outputs": [
    {
     "data": {
      "text/plain": [
       "array([[ 1.67, 89.  ,  1.  ],\n",
       "       [ 1.79, 85.  ,  0.  ],\n",
       "       [ 1.69, 65.  ,  1.  ],\n",
       "       [ 1.54, 57.  ,  0.  ],\n",
       "       [ 1.5 , 45.  ,  1.  ],\n",
       "       [ 1.78, 91.  ,  0.  ],\n",
       "       [ 1.72, 67.  ,  1.  ],\n",
       "       [ 1.77, 76.  ,  1.  ]])"
      ]
     },
     "execution_count": 82,
     "metadata": {},
     "output_type": "execute_result"
    }
   ],
   "source": [
    "np.append(table, new_table, axis=0)"
   ]
  },
  {
   "cell_type": "code",
   "execution_count": 83,
   "id": "1ff93db0",
   "metadata": {},
   "outputs": [
    {
     "data": {
      "text/plain": [
       "array([[ 1.67, 89.  ,  1.  ],\n",
       "       [ 1.79, 85.  ,  0.  ],\n",
       "       [ 1.69, 65.  ,  1.  ],\n",
       "       [ 1.54, 57.  ,  0.  ],\n",
       "       [ 1.5 , 45.  ,  1.  ],\n",
       "       [ 1.78, 91.  ,  0.  ],\n",
       "       [ 1.72, 67.  ,  1.  ],\n",
       "       [ 1.77, 76.  ,  1.  ]])"
      ]
     },
     "execution_count": 83,
     "metadata": {},
     "output_type": "execute_result"
    }
   ],
   "source": [
    "np.vstack([table, new_table])"
   ]
  },
  {
   "cell_type": "markdown",
   "id": "ca533559",
   "metadata": {},
   "source": [
    "Extra"
   ]
  },
  {
   "cell_type": "code",
   "execution_count": 84,
   "id": "2125056d",
   "metadata": {},
   "outputs": [
    {
     "data": {
      "text/plain": [
       "array([[ 0.17647059, -0.00326797, -0.02287582],\n",
       "       [ 0.05882353, -0.13071895,  0.08496732],\n",
       "       [-0.11764706,  0.1503268 ,  0.05228758]])"
      ]
     },
     "execution_count": 84,
     "metadata": {},
     "output_type": "execute_result"
    }
   ],
   "source": [
    "# Inversão de matriz\n",
    "\n",
    "A = np.array(\n",
    "    [[6,1,1],\n",
    "    [4,-2,5],\n",
    "    [2,8,7]]\n",
    ")\n",
    "np.linalg.inv(A)"
   ]
  },
  {
   "cell_type": "markdown",
   "id": "5e63879e",
   "metadata": {},
   "source": [
    "# Operações Básicas"
   ]
  },
  {
   "cell_type": "code",
   "execution_count": 85,
   "id": "92aa6dfc",
   "metadata": {},
   "outputs": [
    {
     "data": {
      "text/plain": [
       "array([[ 1.,  2.,  3.],\n",
       "       [ 4.,  5.,  6.],\n",
       "       [ 7.,  8.,  9.],\n",
       "       [10., 11., 12.]])"
      ]
     },
     "execution_count": 85,
     "metadata": {},
     "output_type": "execute_result"
    }
   ],
   "source": [
    "matriz"
   ]
  },
  {
   "cell_type": "code",
   "execution_count": 87,
   "id": "dd788bdd",
   "metadata": {},
   "outputs": [
    {
     "data": {
      "text/plain": [
       "array([[ 2.,  4.,  6.],\n",
       "       [ 8., 10., 12.],\n",
       "       [14., 16., 18.],\n",
       "       [20., 22., 24.]])"
      ]
     },
     "execution_count": 87,
     "metadata": {},
     "output_type": "execute_result"
    }
   ],
   "source": [
    "#Podemos multiplicar por um escalar\n",
    "matriz_dobro = 2 * matriz\n",
    "matriz_dobro"
   ]
  },
  {
   "cell_type": "code",
   "execution_count": 88,
   "id": "a7002dda",
   "metadata": {},
   "outputs": [
    {
     "name": "stdout",
     "output_type": "stream",
     "text": [
      "[[ 3.  6.  9.]\n",
      " [12. 15. 18.]\n",
      " [21. 24. 27.]\n",
      " [30. 33. 36.]]\n"
     ]
    }
   ],
   "source": [
    "# Podemos somar duas matrizes\n",
    "\n",
    "print(matriz + matriz_dobro)"
   ]
  },
  {
   "cell_type": "code",
   "execution_count": 89,
   "id": "cf606dab",
   "metadata": {},
   "outputs": [
    {
     "name": "stdout",
     "output_type": "stream",
     "text": [
      "[[  2.   8.  18.]\n",
      " [ 32.  50.  72.]\n",
      " [ 98. 128. 162.]\n",
      " [200. 242. 288.]]\n"
     ]
    }
   ],
   "source": [
    "# Multiplicação elemento por elemento\n",
    "print(matriz * matriz_dobro)"
   ]
  },
  {
   "cell_type": "code",
   "execution_count": 90,
   "id": "4fedf1b6",
   "metadata": {},
   "outputs": [
    {
     "name": "stdout",
     "output_type": "stream",
     "text": [
      "(4, 3)\n",
      "(4, 3)\n"
     ]
    }
   ],
   "source": [
    "print(matriz.shape)\n",
    "print(matriz_dobro.shape)"
   ]
  },
  {
   "cell_type": "code",
   "execution_count": 92,
   "id": "97971086",
   "metadata": {},
   "outputs": [
    {
     "name": "stdout",
     "output_type": "stream",
     "text": [
      "[[ 28.  64. 100. 136.]\n",
      " [ 64. 154. 244. 334.]\n",
      " [100. 244. 388. 532.]\n",
      " [136. 334. 532. 730.]]\n"
     ]
    }
   ],
   "source": [
    "# Produto matricial (lembre-se de que as matrizes precisam estar com mesmas dimensssões)\n",
    "\n",
    "print(matriz @ matriz_dobro.T)"
   ]
  },
  {
   "cell_type": "markdown",
   "id": "9384d618",
   "metadata": {},
   "source": [
    "**Bora praticar!**  \n",
    "  \n",
    "Transforme os dados presentes no arquivo csv **dados_artificiais.csv**, que está na pasta **dados** em um numpy array (matriz). Apenas para facilitar o exercício, os dados do arquivo já se encontram na célula abaixo, mas aqui cabe ressaltar o motivo de estarmos utilizando o numpy para análise de dados."
   ]
  },
  {
   "cell_type": "code",
   "execution_count": 178,
   "id": "4b3dd763",
   "metadata": {},
   "outputs": [
    {
     "name": "stdout",
     "output_type": "stream",
     "text": [
      "[[ 1.78881069 65.64810194  0.        ]\n",
      " [ 1.56678443 76.64276798  0.        ]\n",
      " [ 2.09219305 55.46818533  1.        ]\n",
      " [ 1.78247092 67.28199736  1.        ]\n",
      " [ 1.73576698 69.28900763  0.        ]\n",
      " [ 1.68697465 56.84005114  0.        ]\n",
      " [ 1.79710463 65.20897328  1.        ]\n",
      " [ 1.18734905 48.16476395  0.        ]\n",
      " [ 1.59589144 45.41064814  1.        ]\n",
      " [ 1.39628178 67.93011334  0.        ]\n",
      " [ 1.60614816 67.7196041   0.        ]\n",
      " [ 1.70758997 45.60933262  0.        ]\n",
      " [ 1.73551312 64.84545151  0.        ]\n",
      " [ 1.67205518 39.7059515   1.        ]\n",
      " [ 1.72337707 50.05888021  1.        ]\n",
      " [ 1.68457427 56.54508738  1.        ]\n",
      " [ 1.73325893 37.51218759  0.        ]\n",
      " [ 1.75789966 57.36242239  0.        ]\n",
      " [ 1.91333771 69.30724639  1.        ]\n",
      " [ 1.45604834 69.34233711  0.        ]]\n"
     ]
    }
   ],
   "source": [
    "lista_artificial        =      [[1.78881069287776, 65.6481019432242, 0],\n",
    "                                [1.5667844336950, 76.6427679834926, 0],\n",
    "                                [2.0921930548074, 55.4681853258539, 1],\n",
    "                                [1.7824709172724, 67.28199736248, 1],\n",
    "                                [1.7357669765411, 69.2890076331505, 0],\n",
    "                                [1.6869746476945, 56.8400511361321, 0],\n",
    "                                [1.7971046329794, 65.2089732846482, 1],\n",
    "                                [1.1873490549389, 48.1647639458379, 0],\n",
    "                                [1.5958914364289, 45.4106481398706, 1],\n",
    "                                [1.3962817760658, 67.9301133367375, 0],\n",
    "                                [1.6061481645731, 67.7196040973561, 0],\n",
    "                                [1.7075899674617, 45.6093326162225, 0],\n",
    "                                [1.7355131159863, 64.8454515098479, 0],\n",
    "                                [1.6720551819612, 39.7059515043444, 1],\n",
    "                                [1.7233770692063, 50.0588802056305, 1],\n",
    "                                [1.6845742723083, 56.5450873826135, 1],\n",
    "                                [1.7332589297219, 37.5121875909276, 0],\n",
    "                                [1.7578996592814, 57.3624223948134, 0],\n",
    "                                [1.9133377051681, 69.3072463864561, 1],\n",
    "                                [1.4560483434458, 69.3423371108747, 0]\n",
    "]\n",
    "\n",
    "matriz_imc = np.array(lista_artificial)\n",
    "print(matriz_imc)"
   ]
  },
  {
   "cell_type": "markdown",
   "id": "5743e18c",
   "metadata": {},
   "source": [
    "Utilize esta matriz para calcular o IMC, utilizando a equação\n",
    "\n",
    "```\n",
    "IMC = peso / altura**2\n",
    "```\n",
    "e insira na nova tabela"
   ]
  },
  {
   "cell_type": "code",
   "execution_count": 179,
   "id": "54d6742f",
   "metadata": {},
   "outputs": [
    {
     "name": "stdout",
     "output_type": "stream",
     "text": [
      "[[ 1.78881069 65.64810194  0.         20.51603397]\n",
      " [ 1.56678443 76.64276798  0.         31.22142239]\n",
      " [ 2.09219305 55.46818533  1.         12.67186232]\n",
      " [ 1.78247092 67.28199736  1.         21.17648965]\n",
      " [ 1.73576698 69.28900763  0.         22.99754611]\n",
      " [ 1.68697465 56.84005114  0.         19.97272618]\n",
      " [ 1.79710463 65.20897328  1.         20.19113045]\n",
      " [ 1.18734905 48.16476395  0.         34.16430689]\n",
      " [ 1.59589144 45.41064814  1.         17.8299864 ]\n",
      " [ 1.39628178 67.93011334  0.         34.84305285]\n",
      " [ 1.60614816 67.7196041   0.         26.25083964]\n",
      " [ 1.70758997 45.60933262  0.         15.64179279]\n",
      " [ 1.73551312 64.84545151  0.         21.52899308]\n",
      " [ 1.67205518 39.7059515   1.         14.20215982]\n",
      " [ 1.72337707 50.05888021  1.         16.85467995]\n",
      " [ 1.68457427 56.54508738  1.         19.92574427]\n",
      " [ 1.73325893 37.51218759  0.         12.48663736]\n",
      " [ 1.75789966 57.36242239  0.         18.56262192]\n",
      " [ 1.91333771 69.30724639  1.         18.93195155]\n",
      " [ 1.45604834 69.34233711  0.         32.70746504]]\n"
     ]
    }
   ],
   "source": [
    "\n",
    "peso   = matriz_imc[:,1]\n",
    "altura = matriz_imc[:,0]\n",
    "\n",
    "imc = peso / (altura**2)\n",
    "\n",
    "matriz_imc = np.column_stack((matriz_imc, imc))\n",
    "print(matriz_imc)\n"
   ]
  },
  {
   "cell_type": "markdown",
   "id": "e113561c",
   "metadata": {},
   "source": [
    "| IMC             | Categoria           |   |\n",
    "|-----------------|---------------------|---|\n",
    "| abaixo de 16,00 | Baixo peso Grau III |   |\n",
    "| 16,00 a 16,99   | Baixo peso Grau II  |   |\n",
    "| 17,00 a 18.49   | Baixo peso Grau I   |   |\n",
    "| 18,50 a 24,99   | Peso ideal          |   |\n",
    "| 25,00 a 29,99   | Sobrepeso           |   |\n",
    "| 30,00 a 34,99   | Obesidade Grau I    |   |\n",
    "| 35,00 a 39,99   | Obesidade Grau II   |   |\n",
    "| 40,0 e acima    | Obesidade Grau III  |   |\n",
    "\n",
    "Agora utilize a tabela acima para indicar a qual categoria cada valor de IMC se enquadra. Insira novamente na tabela."
   ]
  },
  {
   "cell_type": "code",
   "execution_count": 183,
   "id": "b391ff54",
   "metadata": {},
   "outputs": [
    {
     "name": "stdout",
     "output_type": "stream",
     "text": [
      "[20.51603397 31.22142239 12.67186232 21.17648965 22.99754611 19.97272618\n",
      " 20.19113045 34.16430689 17.8299864  34.84305285 26.25083964 15.64179279\n",
      " 21.52899308 14.20215982 16.85467995 19.92574427 12.48663736 18.56262192\n",
      " 18.93195155 32.70746504]\n",
      "[['1.78881069287776' '65.6481019432242' '0.0' '20.516033969644194'\n",
      "  'Peso ideal' 'Peso ideal' 'Peso ideal' 'Peso ideal']\n",
      " ['1.566784433695' '76.6427679834926' '0.0' '31.221422393286545'\n",
      "  'Obesidade Grau I' 'Obesidade Grau I' 'Obesidade Grau I'\n",
      "  'Obesidade Grau I']\n",
      " ['2.0921930548074' '55.4681853258539' '1.0' '12.671862322378622'\n",
      "  'Baixo peso Grau III' 'Baixo peso Grau III' 'Baixo peso Grau III'\n",
      "  'Baixo peso Grau III']\n",
      " ['1.7824709172724' '67.28199736248' '1.0' '21.17648965106973'\n",
      "  'Peso ideal' 'Peso ideal' 'Peso ideal' 'Peso ideal']\n",
      " ['1.7357669765411' '69.2890076331505' '0.0' '22.99754610962119'\n",
      "  'Peso ideal' 'Peso ideal' 'Peso ideal' 'Peso ideal']\n",
      " ['1.6869746476945' '56.8400511361321' '0.0' '19.972726183561296'\n",
      "  'Peso ideal' 'Peso ideal' 'Peso ideal' 'Peso ideal']\n",
      " ['1.7971046329794' '65.2089732846482' '1.0' '20.191130450290462'\n",
      "  'Peso ideal' 'Peso ideal' 'Peso ideal' 'Peso ideal']\n",
      " ['1.1873490549389' '48.1647639458379' '0.0' '34.16430688742957'\n",
      "  'Obesidade Grau I' 'Obesidade Grau I' 'Obesidade Grau I'\n",
      "  'Obesidade Grau I']\n",
      " ['1.5958914364289' '45.4106481398706' '1.0' '17.82998640186705'\n",
      "  'Baixo peso Grau I' 'Baixo peso Grau I' 'Baixo peso Grau I'\n",
      "  'Baixo peso Grau I']\n",
      " ['1.3962817760658' '67.9301133367375' '0.0' '34.84305285178067'\n",
      "  'Obesidade Grau I' 'Obesidade Grau I' 'Obesidade Grau I'\n",
      "  'Obesidade Grau I']\n",
      " ['1.6061481645731' '67.7196040973561' '0.0' '26.250839638369474'\n",
      "  'Sobrepeso' 'Sobrepeso' 'Sobrepeso' 'Sobrepeso']\n",
      " ['1.7075899674617' '45.6093326162225' '0.0' '15.641792787462661'\n",
      "  'Baixo peso Grau III' 'Baixo peso Grau III' 'Baixo peso Grau III'\n",
      "  'Baixo peso Grau III']\n",
      " ['1.7355131159863' '64.8454515098479' '0.0' '21.528993082184783'\n",
      "  'Peso ideal' 'Peso ideal' 'Peso ideal' 'Peso ideal']\n",
      " ['1.6720551819612' '39.7059515043444' '1.0' '14.20215981997273'\n",
      "  'Baixo peso Grau III' 'Baixo peso Grau III' 'Baixo peso Grau III'\n",
      "  'Baixo peso Grau III']\n",
      " ['1.7233770692063' '50.0588802056305' '1.0' '16.854679954620202'\n",
      "  'Baixo peso Grau II' 'Baixo peso Grau II' 'Baixo peso Grau II'\n",
      "  'Baixo peso Grau II']\n",
      " ['1.6845742723083' '56.5450873826135' '1.0' '19.92574427273178'\n",
      "  'Peso ideal' 'Peso ideal' 'Peso ideal' 'Peso ideal']\n",
      " ['1.7332589297219' '37.5121875909276' '0.0' '12.486637355204843'\n",
      "  'Baixo peso Grau III' 'Baixo peso Grau III' 'Baixo peso Grau III'\n",
      "  'Baixo peso Grau III']\n",
      " ['1.7578996592814' '57.3624223948134' '0.0' '18.56262192376198'\n",
      "  'Peso ideal' 'Peso ideal' 'Peso ideal' 'Peso ideal']\n",
      " ['1.9133377051681' '69.3072463864561' '1.0' '18.931951552368982'\n",
      "  'Peso ideal' 'Peso ideal' 'Peso ideal' 'Peso ideal']\n",
      " ['1.4560483434458' '69.3423371108747' '0.0' '32.70746503885114'\n",
      "  'Obesidade Grau I' 'Obesidade Grau I' 'Obesidade Grau I'\n",
      "  'Obesidade Grau I']]\n"
     ]
    }
   ],
   "source": [
    "\n",
    "def categorizar(imc):\n",
    "    if imc < 16.00:\n",
    "        return 'Baixo peso Grau III'\n",
    "    elif 16.00 <= imc <= 16.99:\n",
    "        return 'Baixo peso Grau II'\n",
    "    elif 17.00 <= imc <= 18.49:\n",
    "        return 'Baixo peso Grau I'\n",
    "    elif 18.50 <= imc <= 24.99:\n",
    "        return 'Peso ideal'\n",
    "    elif 25.00 <= imc <= 29.99:\n",
    "        return 'Sobrepeso'\n",
    "    elif 30.00 <= imc <= 34.99:\n",
    "        return 'Obesidade Grau I'\n",
    "    elif 35.00 <= imc <= 39.99:\n",
    "        return 'Obesidade Grau II'\n",
    "    else:\n",
    "        return 'Obesidade Grau III'\n",
    "\n",
    "# Usando a funçao vectorize e adicionando uma coluna\n",
    "# matriz_imc = np.column_stack((matriz_imc, np.vectorize(categorizar)(imc)))\n",
    "\n",
    "categorias = np.array([categorizar(i) for i in imc])\n",
    "matriz_imc = np.column_stack((matriz_imc, categorias))\n",
    "print(matriz_imc)\n",
    "    \n",
    "        \n",
    "        "
   ]
  },
  {
   "cell_type": "markdown",
   "id": "a098d472",
   "metadata": {},
   "source": [
    "### Tipos de dados"
   ]
  },
  {
   "cell_type": "markdown",
   "id": "df4dff6f",
   "metadata": {},
   "source": [
    "Primeiro vamos falar do infinito (e além).\n",
    "\n",
    "Quando fazemos operações de ponto flutuante no computador, existe um padrão técnico (definido pela IEEE, o Instituto de Engenheiros Eletro-eletrônicos) que define algumas coisas que uma biblioteca tem que ter.\n",
    "\n",
    "Especificamente, aqui vamos falar de duas coisas:\n",
    "- Not a Number (NAN)\n",
    "- Infinito"
   ]
  },
  {
   "cell_type": "code",
   "execution_count": 184,
   "id": "9b952e58",
   "metadata": {},
   "outputs": [
    {
     "ename": "ZeroDivisionError",
     "evalue": "division by zero",
     "output_type": "error",
     "traceback": [
      "\u001b[0;31m---------------------------------------------------------------------------\u001b[0m",
      "\u001b[0;31mZeroDivisionError\u001b[0m                         Traceback (most recent call last)",
      "Cell \u001b[0;32mIn[184], line 3\u001b[0m\n\u001b[1;32m      1\u001b[0m \u001b[38;5;66;03m# Not a Number é o resultado de operações inválidas.\u001b[39;00m\n\u001b[1;32m      2\u001b[0m \u001b[38;5;66;03m# Embora ele exista no Python, operações inválidas tendem a levantar um erro.\u001b[39;00m\n\u001b[0;32m----> 3\u001b[0m \u001b[38;5;241m0\u001b[39m\u001b[38;5;241m/\u001b[39m\u001b[38;5;241m0\u001b[39m\n",
      "\u001b[0;31mZeroDivisionError\u001b[0m: division by zero"
     ]
    }
   ],
   "source": [
    "# Not a Number é o resultado de operações inválidas.\n",
    "# Embora ele exista no Python, operações inválidas tendem a levantar um erro.\n",
    "0/0"
   ]
  },
  {
   "cell_type": "code",
   "execution_count": 185,
   "id": "7cd1a71f",
   "metadata": {},
   "outputs": [
    {
     "data": {
      "text/plain": [
       "nan"
      ]
     },
     "execution_count": 185,
     "metadata": {},
     "output_type": "execute_result"
    }
   ],
   "source": [
    "# Para usá-lo no python, temos que converter string para float.\n",
    "float('NaN')"
   ]
  },
  {
   "cell_type": "code",
   "execution_count": 187,
   "id": "2ed080c8",
   "metadata": {},
   "outputs": [
    {
     "name": "stdout",
     "output_type": "stream",
     "text": [
      "nan\n",
      "<class 'float'>\n"
     ]
    }
   ],
   "source": [
    "# No numpy, temos o objeto nan.\n",
    "print(np.nan)\n",
    "print(type(np.nan))"
   ]
  },
  {
   "cell_type": "code",
   "execution_count": 190,
   "id": "2e9e1480",
   "metadata": {},
   "outputs": [
    {
     "name": "stdout",
     "output_type": "stream",
     "text": [
      "[0.5 0.  0.5 nan]\n"
     ]
    },
    {
     "name": "stderr",
     "output_type": "stream",
     "text": [
      "/tmp/ipykernel_73651/2962559457.py:4: RuntimeWarning: invalid value encountered in divide\n",
      "  print((x1 / x2))\n"
     ]
    }
   ],
   "source": [
    "# Já no numpy, operações inválidas retornam NaN mesmo.\n",
    "x1 = np.array([1,0,1,0])\n",
    "x2 = np.array([2,1,2,0])\n",
    "print((x1 / x2))"
   ]
  },
  {
   "cell_type": "code",
   "execution_count": 191,
   "id": "14ff5b7f",
   "metadata": {},
   "outputs": [
    {
     "ename": "ZeroDivisionError",
     "evalue": "division by zero",
     "output_type": "error",
     "traceback": [
      "\u001b[0;31m---------------------------------------------------------------------------\u001b[0m",
      "\u001b[0;31mZeroDivisionError\u001b[0m                         Traceback (most recent call last)",
      "Cell \u001b[0;32mIn[191], line 4\u001b[0m\n\u001b[1;32m      1\u001b[0m \u001b[38;5;66;03m# \"Infinito\", no padrão, pode ser pensado como um número que é maior que qualquer outro número.\u001b[39;00m\n\u001b[1;32m      2\u001b[0m \u001b[38;5;66;03m# No caso de \"-infinito\", temos um número que é menor que qualquer outro número.\u001b[39;00m\n\u001b[0;32m----> 4\u001b[0m \u001b[38;5;241m1\u001b[39m\u001b[38;5;241m/\u001b[39m\u001b[38;5;241m0\u001b[39m\n",
      "\u001b[0;31mZeroDivisionError\u001b[0m: division by zero"
     ]
    }
   ],
   "source": [
    "# \"Infinito\", no padrão, pode ser pensado como um número que é maior que qualquer outro número.\n",
    "# No caso de \"-infinito\", temos um número que é menor que qualquer outro número.\n",
    "\n",
    "1/0"
   ]
  },
  {
   "cell_type": "code",
   "execution_count": 193,
   "id": "5fada44a",
   "metadata": {},
   "outputs": [
    {
     "name": "stdout",
     "output_type": "stream",
     "text": [
      "inf\n",
      "True\n",
      "True\n"
     ]
    }
   ],
   "source": [
    "# representando o infinito no python\n",
    "print(float('inf'))\n",
    "print(float('inf') > 1000000000000)\n",
    "\n",
    "print(-float('inf')< -10000000000000)"
   ]
  },
  {
   "cell_type": "code",
   "execution_count": 197,
   "id": "5d5c065e",
   "metadata": {},
   "outputs": [
    {
     "name": "stdout",
     "output_type": "stream",
     "text": [
      "inf\n",
      "<class 'float'>\n",
      "True\n",
      "True\n"
     ]
    }
   ],
   "source": [
    "# No Numpy, não seria diferente.\n",
    "\n",
    "print(np.inf)\n",
    "print(type(np.inf))\n",
    "print(np.inf > 10000000000000)\n",
    "print(-np.inf < -10000000000000)"
   ]
  },
  {
   "cell_type": "code",
   "execution_count": 200,
   "id": "2d1714ff",
   "metadata": {
    "scrolled": true
   },
   "outputs": [
    {
     "name": "stdout",
     "output_type": "stream",
     "text": [
      "[ 2. inf  2. nan]\n"
     ]
    },
    {
     "name": "stderr",
     "output_type": "stream",
     "text": [
      "/tmp/ipykernel_73651/1071809001.py:5: RuntimeWarning: divide by zero encountered in divide\n",
      "  print(x2 / x1)\n",
      "/tmp/ipykernel_73651/1071809001.py:5: RuntimeWarning: invalid value encountered in divide\n",
      "  print(x2 / x1)\n"
     ]
    }
   ],
   "source": [
    "# No numpy, algumas operações podem gerar infinitos.\n",
    "\n",
    "x1 = np.array([1,0,1,0])\n",
    "x2 = np.array([2,1,2,0])\n",
    "print(x2 / x1)"
   ]
  },
  {
   "cell_type": "markdown",
   "id": "2fa8e736",
   "metadata": {},
   "source": [
    "Notou que tanto infinito quanto NaN são do tipo \"float\"? Não são float64, nem float32, nem nada assim.\n",
    "\n",
    "Isso é devido à hierarquia de dtypes do numpy.\n",
    "\n",
    "![hierarchy](https://numpy.org/doc/stable/_images/dtype-hierarchy.png)"
   ]
  },
  {
   "cell_type": "markdown",
   "id": "569060dd",
   "metadata": {},
   "source": [
    "## Mini tarefa"
   ]
  },
  {
   "cell_type": "markdown",
   "id": "a934e3b6",
   "metadata": {},
   "source": [
    "Utilizando numpy crie duas matrizes com 5 linhas e 4 colunas, sendo uma delas apenas contendo números 1 e a segunda uma matriz olho (eye). Após isso, some as duas matrizes. Envie o código para realizar esta operação através do [link](https://forms.gle/SDCiDSG9FhmqXQTG6)."
   ]
  },
  {
   "cell_type": "code",
   "execution_count": 203,
   "id": "3de8b1f2",
   "metadata": {},
   "outputs": [
    {
     "name": "stdout",
     "output_type": "stream",
     "text": [
      "Matriz 1:\n",
      " [[1. 1. 1. 1.]\n",
      " [1. 1. 1. 1.]\n",
      " [1. 1. 1. 1.]\n",
      " [1. 1. 1. 1.]\n",
      " [1. 1. 1. 1.]]\n",
      "\n",
      "Matriz 2:\n",
      " [[1. 0. 0. 0.]\n",
      " [0. 1. 0. 0.]\n",
      " [0. 0. 1. 0.]\n",
      " [0. 0. 0. 1.]\n",
      " [0. 0. 0. 0.]]\n",
      "\n",
      "Soma das matrizes:\n",
      " [[2. 1. 1. 1.]\n",
      " [1. 2. 1. 1.]\n",
      " [1. 1. 2. 1.]\n",
      " [1. 1. 1. 2.]\n",
      " [1. 1. 1. 1.]]\n"
     ]
    }
   ],
   "source": [
    "import numpy as np\n",
    "\n",
    "matriz_1 = np.ones((5, 4))\n",
    "matriz_2 = np.eye(5, 4)\n",
    "soma_matrizes = matriz_1 + matriz_2\n",
    "\n",
    "print(\"Matriz 1:\\n\", matriz_1)\n",
    "print(\"\\nMatriz 2:\\n\", matriz_2)\n",
    "print(\"\\nSoma das matrizes:\\n\", soma_matrizes)\n"
   ]
  }
 ],
 "metadata": {
  "kernelspec": {
   "display_name": "Python 3 (ipykernel)",
   "language": "python",
   "name": "python3"
  },
  "language_info": {
   "codemirror_mode": {
    "name": "ipython",
    "version": 3
   },
   "file_extension": ".py",
   "mimetype": "text/x-python",
   "name": "python",
   "nbconvert_exporter": "python",
   "pygments_lexer": "ipython3",
   "version": "3.11.4"
  },
  "vscode": {
   "interpreter": {
    "hash": "7f52069df51f55474cef70a04f6de2c8e83f851022777c4983d9d0bb63ea6184"
   }
  }
 },
 "nbformat": 4,
 "nbformat_minor": 5
}
