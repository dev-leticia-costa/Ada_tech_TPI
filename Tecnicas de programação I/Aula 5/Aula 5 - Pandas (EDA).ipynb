{
 "cells": [
  {
   "cell_type": "markdown",
   "id": "4f51956c",
   "metadata": {
    "id": "4f51956c"
   },
   "source": [
    "**Relembrando**  \n",
    "  \n",
    "A biblioteca **Pandas** proporciona uma forma eficiente de armazenagem e processamento de conjuntos de dados, e é utilizada como base para a construção da biblioteca Pandas, que estudaremos a seguir.\n",
    "\n",
    "O diferencial do Numpy é sua velocidade e eficiência, o que faz com que ela seja amplamente utilizada para computação científica e analise de dados. \n",
    "\n",
    "A velocidade e eficiência é possível graças à estrutura chamada **numpy array**, que é um forma eficiente de guardar e manipular matrizes, que serve como base para as tabelas que iremos utilizar."
   ]
  },
  {
   "cell_type": "code",
   "execution_count": null,
   "id": "57ad54b6",
   "metadata": {
    "id": "57ad54b6"
   },
   "outputs": [],
   "source": [
    "import pandas as pd\n",
    "import numpy as np"
   ]
  },
  {
   "cell_type": "markdown",
   "id": "24b9908c",
   "metadata": {
    "id": "24b9908c"
   },
   "source": [
    "## Series\n",
    "\n",
    "O objeto fundamental do Pandas são as **Series**, uma classe do pandas.\n",
    "\n",
    "As Series são as **colunas das tabelas** (que veremos mais a frente), e por baixo dos panos, os dados ficam armazenados como **numpy arrays**!\n",
    "\n",
    "A diferença é que a série possui um **índice associado**, permitindo o acesso aos conteúdos dessa estrutura por ele, como um dicionário.\n",
    "\n",
    "Além disso, as séries têm métodos específicos além dos que vimos pra arrays, o que será super útil!\n",
    "\n",
    "Podemos criar uma série **a partir de uma lista**, usando a função do pandas `pd.Series()`: "
   ]
  },
  {
   "cell_type": "markdown",
   "id": "44612acf",
   "metadata": {
    "id": "44612acf"
   },
   "source": [
    "### DataFrame\n",
    "\n",
    "Agora que conhecemos as séries, vamos partir pro objeto do Pandas que mais utilizaremos: o **DataFrame**\n",
    "\n",
    "Como veremos a seguir, o DataFrame é uma estrutura que se assemalha a uma **tabela**.\n",
    "\n",
    "Estruturalmente, o DataFrame nada mais é que um **conjunto de Series**, uma para cada coluna (e, claro, com mesmo índice, que irão indexar as linhas).\n",
    "  \n",
    "Veremos depois como **ler um dataframe a partir de um arquivo** (que é provavelmente a forma mais comum)\n",
    "\n",
    "Há muitas formas de construir um DataFrame do zero. Todas elas fazem uso da função **pd.DataFrame()**, como veremos a seguir.\n",
    "\n",
    "Se quisermos especificar os índices de linha, o nome das colunas, e os dados, podemos passá-los separadamente: "
   ]
  },
  {
   "cell_type": "markdown",
   "id": "8c30e202",
   "metadata": {
    "id": "8c30e202"
   },
   "source": [
    "## Exploração de dados\n",
    "\n",
    "Em estatística, a análise exploratória de dados (EDA - Exploratory Data Analysis) é uma abordagem de análise de conjuntos de dados para resumir suas principais características, muitas vezes usando gráficos estatísticos e outros métodos de visualização de dados. Neste módulo vamos nos ater ao uso de tabelas e estatísticas para este trabalho, principalmente usando o ```pandas```."
   ]
  },
  {
   "cell_type": "code",
   "execution_count": null,
   "id": "62e39ca4",
   "metadata": {
    "id": "62e39ca4"
   },
   "outputs": [],
   "source": [
    "df = pd.read_table('./dados/dados_parciais.txt', sep=';', decimal=',')"
   ]
  },
  {
   "cell_type": "markdown",
   "id": "e8bcaff8",
   "metadata": {
    "id": "e8bcaff8"
   },
   "source": [
    "### Head"
   ]
  },
  {
   "cell_type": "code",
   "execution_count": null,
   "id": "d2c16cfb",
   "metadata": {
    "colab": {
     "base_uri": "https://localhost:8080/",
     "height": 143
    },
    "id": "d2c16cfb",
    "outputId": "91dbe742-e282-419c-ffa3-b8aa46136212"
   },
   "outputs": [],
   "source": [
    "# O head é utilizado para observarmos o início de um dataframe\n"
   ]
  },
  {
   "cell_type": "markdown",
   "id": "05351d5c",
   "metadata": {
    "id": "05351d5c"
   },
   "source": [
    "### Tail"
   ]
  },
  {
   "cell_type": "code",
   "execution_count": null,
   "id": "82730f0d",
   "metadata": {
    "colab": {
     "base_uri": "https://localhost:8080/",
     "height": 143
    },
    "id": "82730f0d",
    "outputId": "edb746fe-96b3-4a1d-f146-1fd39d7a3254"
   },
   "outputs": [],
   "source": [
    "# O tail é utilizado para observarmos o final de um dataframe\n"
   ]
  },
  {
   "cell_type": "markdown",
   "id": "51572bbf",
   "metadata": {
    "id": "51572bbf"
   },
   "source": [
    "### Describe"
   ]
  },
  {
   "cell_type": "code",
   "execution_count": null,
   "id": "b44ad19f",
   "metadata": {
    "colab": {
     "base_uri": "https://localhost:8080/",
     "height": 300
    },
    "id": "b44ad19f",
    "outputId": "d2a7ffda-0bf9-4974-bf75-c94ea1c85904"
   },
   "outputs": [],
   "source": [
    "# Podemos sumarizar algumas estatísticas de várias colunas de uma única vez."
   ]
  },
  {
   "cell_type": "code",
   "execution_count": null,
   "id": "EJGmc6E2N1BS",
   "metadata": {
    "colab": {
     "base_uri": "https://localhost:8080/"
    },
    "id": "EJGmc6E2N1BS",
    "outputId": "b252e2ef-9d83-4e59-db40-328e179d97af"
   },
   "outputs": [],
   "source": []
  },
  {
   "cell_type": "code",
   "execution_count": null,
   "id": "psxiEMVvOA5t",
   "metadata": {
    "colab": {
     "base_uri": "https://localhost:8080/"
    },
    "id": "psxiEMVvOA5t",
    "outputId": "32bd5f61-c272-4c81-b49b-2912af680c9b"
   },
   "outputs": [],
   "source": []
  },
  {
   "cell_type": "markdown",
   "id": "5f46ac7e",
   "metadata": {
    "id": "5f46ac7e"
   },
   "source": [
    "### Outras estatísticas"
   ]
  },
  {
   "cell_type": "code",
   "execution_count": null,
   "id": "jk8HwVKRSnGn",
   "metadata": {
    "colab": {
     "base_uri": "https://localhost:8080/"
    },
    "id": "jk8HwVKRSnGn",
    "outputId": "19a0d396-4122-479e-e45a-53735b92c55f"
   },
   "outputs": [],
   "source": [
    "# Obtendo uma estatística por vez\n",
    "# Calculando a média"
   ]
  },
  {
   "cell_type": "code",
   "execution_count": null,
   "id": "TmJeqRIIS3G0",
   "metadata": {
    "colab": {
     "base_uri": "https://localhost:8080/"
    },
    "id": "TmJeqRIIS3G0",
    "outputId": "2ba98217-88af-4424-f4f6-96816e910fd8"
   },
   "outputs": [],
   "source": [
    "# Calculando a mediana"
   ]
  },
  {
   "cell_type": "code",
   "execution_count": null,
   "id": "MyADP8nSS6mm",
   "metadata": {
    "colab": {
     "base_uri": "https://localhost:8080/",
     "height": 112
    },
    "id": "MyADP8nSS6mm",
    "outputId": "ee6ded62-b960-4a1d-f783-da3c200780dc"
   },
   "outputs": [],
   "source": [
    "# Calculando os quantis"
   ]
  },
  {
   "cell_type": "code",
   "execution_count": null,
   "id": "izufBy8KTbOb",
   "metadata": {
    "colab": {
     "base_uri": "https://localhost:8080/",
     "height": 112
    },
    "id": "izufBy8KTbOb",
    "outputId": "fc895601-86f7-4ff8-acc4-a76b5c1dc649"
   },
   "outputs": [],
   "source": []
  },
  {
   "cell_type": "code",
   "execution_count": null,
   "id": "30P1UMeNUK1l",
   "metadata": {
    "colab": {
     "base_uri": "https://localhost:8080/"
    },
    "id": "30P1UMeNUK1l",
    "outputId": "1e6c1fd5-3f26-4c62-ff33-a87d3a1b0525"
   },
   "outputs": [],
   "source": [
    "# Obtendo valor mínimo de cada variável"
   ]
  },
  {
   "cell_type": "code",
   "execution_count": null,
   "id": "mw_lIPP1Ui_8",
   "metadata": {
    "colab": {
     "base_uri": "https://localhost:8080/",
     "height": 237
    },
    "id": "mw_lIPP1Ui_8",
    "outputId": "bf2f0c34-928f-49b7-a4f7-9060a617f944"
   },
   "outputs": [],
   "source": [
    "# se quisermos estatísticas separadas por região"
   ]
  },
  {
   "cell_type": "markdown",
   "id": "9cc2b3b5",
   "metadata": {
    "id": "9cc2b3b5"
   },
   "source": [
    "### Importando novo Dataframe"
   ]
  },
  {
   "cell_type": "code",
   "execution_count": null,
   "id": "7L-JQlU8VIC0",
   "metadata": {
    "id": "7L-JQlU8VIC0"
   },
   "outputs": [],
   "source": [
    "# importando o dataframe de municípios\n"
   ]
  },
  {
   "cell_type": "code",
   "execution_count": null,
   "id": "wyubOqaFVqzi",
   "metadata": {
    "colab": {
     "base_uri": "https://localhost:8080/",
     "height": 363
    },
    "id": "wyubOqaFVqzi",
    "outputId": "f6af2cd6-f6a9-4779-fb64-39f3357d3188"
   },
   "outputs": [],
   "source": []
  },
  {
   "cell_type": "markdown",
   "id": "8e83c773",
   "metadata": {
    "id": "8e83c773"
   },
   "source": [
    "### Colunas\n",
    "  \n",
    "Podemos acessar os dados de uma colunas de três métodos"
   ]
  },
  {
   "cell_type": "code",
   "execution_count": null,
   "id": "SKJugtfJV1WL",
   "metadata": {
    "colab": {
     "base_uri": "https://localhost:8080/"
    },
    "id": "SKJugtfJV1WL",
    "outputId": "630b0fb7-1123-46a3-be68-a00489064ea1"
   },
   "outputs": [],
   "source": []
  },
  {
   "cell_type": "code",
   "execution_count": null,
   "id": "um1RZvWRWDeN",
   "metadata": {
    "colab": {
     "base_uri": "https://localhost:8080/"
    },
    "id": "um1RZvWRWDeN",
    "outputId": "2973fdc1-f1bc-468f-c66d-470dc2c35b40"
   },
   "outputs": [],
   "source": []
  },
  {
   "cell_type": "code",
   "execution_count": null,
   "id": "Cu_Mpbv6WJV8",
   "metadata": {
    "colab": {
     "base_uri": "https://localhost:8080/"
    },
    "id": "Cu_Mpbv6WJV8",
    "outputId": "21e6e9da-6875-45f6-bf39-4b34820837ba"
   },
   "outputs": [],
   "source": []
  },
  {
   "cell_type": "code",
   "execution_count": null,
   "id": "_AVKeoVoWPaL",
   "metadata": {
    "colab": {
     "base_uri": "https://localhost:8080/"
    },
    "id": "_AVKeoVoWPaL",
    "outputId": "384f7dd4-eca5-4b3f-a068-b273046a3157"
   },
   "outputs": [],
   "source": []
  },
  {
   "cell_type": "code",
   "execution_count": null,
   "id": "-ZkZu9QTWRnz",
   "metadata": {
    "colab": {
     "base_uri": "https://localhost:8080/",
     "height": 959
    },
    "id": "-ZkZu9QTWRnz",
    "outputId": "0811c96b-a4bf-49d7-e8d9-df7f7e63206a"
   },
   "outputs": [],
   "source": [
    "# terceira forma - retorna um dataframe"
   ]
  },
  {
   "cell_type": "code",
   "execution_count": null,
   "id": "8T1tXrEHWcWr",
   "metadata": {
    "colab": {
     "base_uri": "https://localhost:8080/"
    },
    "id": "8T1tXrEHWcWr",
    "outputId": "a85729be-f86e-4999-e3bc-36a028ce1cb0"
   },
   "outputs": [],
   "source": []
  },
  {
   "cell_type": "markdown",
   "id": "c33b2cbc",
   "metadata": {
    "id": "c33b2cbc"
   },
   "source": [
    "### Query\n",
    "  \n",
    "O método query permite realizar filtros dentro do nosso dataframe semelhante ao utilizado na linguagem SQL na clausula where"
   ]
  },
  {
   "cell_type": "code",
   "execution_count": null,
   "id": "BA0l_z1SX5nb",
   "metadata": {
    "colab": {
     "base_uri": "https://localhost:8080/",
     "height": 802
    },
    "id": "BA0l_z1SX5nb",
    "outputId": "be5f5ff7-526a-4795-984d-22e470a23a2d"
   },
   "outputs": [],
   "source": [
    "# quero saber quais cidades tem população urbana > 500000"
   ]
  },
  {
   "cell_type": "code",
   "execution_count": null,
   "id": "d2bpYmWcYeXi",
   "metadata": {
    "colab": {
     "base_uri": "https://localhost:8080/",
     "height": 802
    },
    "id": "d2bpYmWcYeXi",
    "outputId": "ba7e8679-327d-4d62-9be3-543f85cb1b30"
   },
   "outputs": [],
   "source": [
    "# podemos usar uma variável"
   ]
  },
  {
   "cell_type": "markdown",
   "id": "Ylh4h5RMY6Iq",
   "metadata": {
    "id": "Ylh4h5RMY6Iq"
   },
   "source": [
    "### .loc e .iloc"
   ]
  },
  {
   "cell_type": "code",
   "execution_count": null,
   "id": "OZOH9gR2ZBTq",
   "metadata": {
    "colab": {
     "base_uri": "https://localhost:8080/"
    },
    "id": "OZOH9gR2ZBTq",
    "outputId": "dd6448fd-8db2-4da1-f4ab-ce617d89a658"
   },
   "outputs": [],
   "source": [
    "# .loc usado para pesquisar índices e colunas explicitamente\n",
    "\n",
    "# quero a população urbana da segunda linha do dataset\n"
   ]
  },
  {
   "cell_type": "code",
   "execution_count": null,
   "id": "Myogr1imZcRp",
   "metadata": {
    "colab": {
     "base_uri": "https://localhost:8080/"
    },
    "id": "Myogr1imZcRp",
    "outputId": "1f1aa56d-7cb4-49d9-b1bc-13d563d76c70"
   },
   "outputs": [],
   "source": [
    "# qual estado corresponde à segunda linha do dataset\n"
   ]
  },
  {
   "cell_type": "code",
   "execution_count": null,
   "id": "zf3Kv9j5ZnuS",
   "metadata": {
    "colab": {
     "base_uri": "https://localhost:8080/"
    },
    "id": "zf3Kv9j5ZnuS",
    "outputId": "5817c69e-ab97-475e-d9b0-fa91e0cbf373"
   },
   "outputs": [],
   "source": [
    "# posso usar lógicas para filtrar o dataset\n",
    "\n",
    "# quais estados pertencem à região NE?\n"
   ]
  },
  {
   "cell_type": "code",
   "execution_count": null,
   "id": "V0alUfbZZ-OL",
   "metadata": {
    "colab": {
     "base_uri": "https://localhost:8080/"
    },
    "id": "V0alUfbZZ-OL",
    "outputId": "e7f89def-24c6-4662-dcd7-c98284d59c5f"
   },
   "outputs": [],
   "source": [
    "# quais estados pertencem à região NE e N?"
   ]
  },
  {
   "cell_type": "code",
   "execution_count": null,
   "id": "vqoK683rajf7",
   "metadata": {
    "colab": {
     "base_uri": "https://localhost:8080/"
    },
    "id": "vqoK683rajf7",
    "outputId": "eda5723c-4e88-4e49-8590-fac1b60996f4"
   },
   "outputs": [],
   "source": [
    "# iloc faz a referência aos índices e colunas de forma implícita"
   ]
  },
  {
   "cell_type": "code",
   "execution_count": null,
   "id": "mN3rH8mcbP05",
   "metadata": {
    "colab": {
     "base_uri": "https://localhost:8080/",
     "height": 237
    },
    "id": "mN3rH8mcbP05",
    "outputId": "de2761cf-402e-45e6-ca10-f088f91ccdc6"
   },
   "outputs": [],
   "source": [
    "# definir a coluna uf como a coluna de índice"
   ]
  },
  {
   "cell_type": "code",
   "execution_count": null,
   "id": "aFE166lZbZUK",
   "metadata": {
    "colab": {
     "base_uri": "https://localhost:8080/"
    },
    "id": "aFE166lZbZUK",
    "outputId": "35f7af77-3ca3-4b18-8b17-b3f9da3b49a8"
   },
   "outputs": [],
   "source": [
    "# desejo obter a população rural do AC\n",
    "\n",
    "# loc (explícito)\n",
    "\n",
    "# iloc (implícito)"
   ]
  },
  {
   "cell_type": "code",
   "execution_count": null,
   "id": "Tw6Djxwsb_0p",
   "metadata": {
    "colab": {
     "base_uri": "https://localhost:8080/",
     "height": 112
    },
    "id": "Tw6Djxwsb_0p",
    "outputId": "de7cf4ba-8764-4497-dbce-b239f2a7fab8"
   },
   "outputs": [],
   "source": [
    "# queremos as cidades que têm menos de 500000 habitantes (total)"
   ]
  },
  {
   "cell_type": "markdown",
   "id": "6943b036",
   "metadata": {
    "id": "6943b036"
   },
   "source": [
    "### Operações matemáticas"
   ]
  },
  {
   "cell_type": "code",
   "execution_count": null,
   "id": "vJBNnEygif7_",
   "metadata": {
    "colab": {
     "base_uri": "https://localhost:8080/",
     "height": 237
    },
    "id": "vJBNnEygif7_",
    "outputId": "92fe1748-df0e-4356-d799-46b012b0a283"
   },
   "outputs": [],
   "source": [
    "# quero saber a razão entre as população urbana e a população rural"
   ]
  },
  {
   "cell_type": "code",
   "execution_count": null,
   "id": "BIkUlBcEkYM3",
   "metadata": {
    "id": "BIkUlBcEkYM3"
   },
   "outputs": [],
   "source": [
    "# se eu chamar uma coluna inexiste em modo de leitura"
   ]
  },
  {
   "cell_type": "code",
   "execution_count": null,
   "id": "DP0ZocXEkmU9",
   "metadata": {
    "id": "DP0ZocXEkmU9"
   },
   "outputs": [],
   "source": [
    "# calcular a fração da população urbana sobre a geral\n"
   ]
  },
  {
   "cell_type": "code",
   "execution_count": null,
   "id": "9Lk7P0-nlEX9",
   "metadata": {
    "id": "9Lk7P0-nlEX9"
   },
   "outputs": [],
   "source": [
    "# iterar por cada linha e atribuir 1 se frac_urbana > 0.7 e 0 caso contrário\n"
   ]
  },
  {
   "cell_type": "markdown",
   "id": "abd19742",
   "metadata": {},
   "source": [
    "### Apply"
   ]
  },
  {
   "cell_type": "code",
   "execution_count": null,
   "id": "XByJiHoOl6IN",
   "metadata": {
    "id": "XByJiHoOl6IN"
   },
   "outputs": [],
   "source": [
    "# Uma outra forma de realizar isso é utilizando o apply\n"
   ]
  },
  {
   "cell_type": "code",
   "execution_count": null,
   "id": "L3YZBNx6ljMl",
   "metadata": {
    "colab": {
     "base_uri": "https://localhost:8080/",
     "height": 237
    },
    "id": "L3YZBNx6ljMl",
    "outputId": "1c4498e6-d4b4-45a8-b67b-d392f5d5fb7b"
   },
   "outputs": [],
   "source": []
  },
  {
   "cell_type": "code",
   "execution_count": null,
   "id": "eLgVeA9_nkDN",
   "metadata": {
    "id": "eLgVeA9_nkDN"
   },
   "outputs": [],
   "source": [
    "# Também é possível criar funções\n",
    "def soma_quadrados(row):\n",
    "  # Esta é uma função que calcula a divisão da soma dos quadrados das populações urbana e rural, pelo total\n",
    "  soma = (row['pop_urbana']**2 + row['pop_rural']**2) / (row['total'] ** 2)\n",
    "\n",
    "  return soma"
   ]
  },
  {
   "cell_type": "code",
   "execution_count": null,
   "id": "Ie7R1GfhoBjF",
   "metadata": {
    "colab": {
     "base_uri": "https://localhost:8080/",
     "height": 301
    },
    "id": "Ie7R1GfhoBjF",
    "outputId": "efd71370-5045-4239-f46a-d02881a45a7b"
   },
   "outputs": [],
   "source": [
    "# usando o apply em múltiplas colunas\n"
   ]
  },
  {
   "cell_type": "markdown",
   "id": "303bc537",
   "metadata": {},
   "source": [
    "### map"
   ]
  },
  {
   "cell_type": "code",
   "execution_count": null,
   "id": "4cbkC3Dlm-kl",
   "metadata": {
    "colab": {
     "base_uri": "https://localhost:8080/",
     "height": 301
    },
    "id": "4cbkC3Dlm-kl",
    "outputId": "55abe95e-3e6d-46a9-ea05-59f95068a0a9"
   },
   "outputs": [],
   "source": [
    "ponto_cardeal = {\n",
    "    'Nordeste': 'NE',\n",
    "    'Centro-Oeste': 'CO',\n",
    "    'Sul': 'S',\n",
    "    'Sudeste': 'SE'\n",
    "}\n",
    "\n",
    "# podemos fazer transformações com dicionários\n"
   ]
  },
  {
   "cell_type": "markdown",
   "id": "83fa77ad",
   "metadata": {
    "id": "83fa77ad"
   },
   "source": [
    "### Merge (join)\n",
    "\n",
    "Outra tarefa muito comum quando estamos trabalhando com bases de dados é o **cruzamento**\n",
    "\n",
    "Para fazer isso, utilizamos o método **.merge()**, cujos modos de cruzamento são:\n",
    "\n",
    "<img src=\"https://community.qlik.com/legacyfs/online/87693_all-joins.png\" width=450>"
   ]
  },
  {
   "cell_type": "code",
   "execution_count": null,
   "id": "b040ed61",
   "metadata": {},
   "outputs": [],
   "source": [
    "lista_on_left = [1, 2, 3, 4, 5, 6, 7, 8, 9, 10]\n",
    "lista_on_right = [1, 3, 5, 7, 9, 11]"
   ]
  },
  {
   "cell_type": "code",
   "execution_count": null,
   "id": "0e16ddb7",
   "metadata": {},
   "outputs": [],
   "source": []
  },
  {
   "cell_type": "code",
   "execution_count": null,
   "id": "fa161cf8",
   "metadata": {},
   "outputs": [],
   "source": [
    "\n"
   ]
  },
  {
   "cell_type": "code",
   "execution_count": null,
   "id": "3d68d3db",
   "metadata": {},
   "outputs": [],
   "source": []
  },
  {
   "cell_type": "markdown",
   "id": "f493e3f7",
   "metadata": {},
   "source": [
    "utilizando dataframes"
   ]
  },
  {
   "cell_type": "code",
   "execution_count": null,
   "id": "I611G_H1pLxF",
   "metadata": {
    "colab": {
     "base_uri": "https://localhost:8080/",
     "height": 206
    },
    "id": "I611G_H1pLxF",
    "outputId": "672d6ac2-81f5-4aba-b807-d9824bcdaeed"
   },
   "outputs": [],
   "source": []
  },
  {
   "cell_type": "code",
   "execution_count": null,
   "id": "IR0UhtMapdFD",
   "metadata": {
    "colab": {
     "base_uri": "https://localhost:8080/",
     "height": 301
    },
    "id": "IR0UhtMapdFD",
    "outputId": "55e3b83d-36a0-4f4f-edea-b7e7aa48c6ad"
   },
   "outputs": [],
   "source": []
  },
  {
   "cell_type": "code",
   "execution_count": null,
   "id": "ZpNvL00ephJM",
   "metadata": {
    "colab": {
     "base_uri": "https://localhost:8080/",
     "height": 270
    },
    "id": "ZpNvL00ephJM",
    "outputId": "200e93f5-57ed-4d44-e021-b8f1426ea790"
   },
   "outputs": [],
   "source": [
    "# retirar o uf dos índices"
   ]
  },
  {
   "cell_type": "code",
   "execution_count": null,
   "id": "VW2JsIqlpoqM",
   "metadata": {
    "colab": {
     "base_uri": "https://localhost:8080/",
     "height": 983
    },
    "id": "VW2JsIqlpoqM",
    "outputId": "66b964cb-695e-4d1f-e552-68479b45ddfe"
   },
   "outputs": [],
   "source": []
  },
  {
   "cell_type": "markdown",
   "id": "c111200a",
   "metadata": {},
   "source": [
    "Explorando os dados criados"
   ]
  },
  {
   "cell_type": "code",
   "execution_count": null,
   "id": "aZkO3zPDqUaz",
   "metadata": {
    "colab": {
     "base_uri": "https://localhost:8080/",
     "height": 269
    },
    "id": "aZkO3zPDqUaz",
    "outputId": "c96c33ec-6c84-4a5a-c2f3-69e4634b7e40"
   },
   "outputs": [],
   "source": [
    "# quero a média e o desvio padrão da população estimada por região"
   ]
  },
  {
   "cell_type": "markdown",
   "id": "deee974e",
   "metadata": {
    "id": "deee974e"
   },
   "source": [
    "### Bora praticar!"
   ]
  },
  {
   "cell_type": "markdown",
   "id": "fa51db0d",
   "metadata": {},
   "source": [
    "Importe novamente o DataFrame **alunos3.csv** usado nos exercícios da aula passada para responder às questões abaixo:"
   ]
  },
  {
   "cell_type": "code",
   "execution_count": null,
   "id": "b4e60d79",
   "metadata": {},
   "outputs": [],
   "source": []
  },
  {
   "cell_type": "markdown",
   "id": "9fcb851d",
   "metadata": {},
   "source": [
    "Primeiramente utilize o mesmo código da aula passada para calcular a média das 4 provas."
   ]
  },
  {
   "cell_type": "code",
   "execution_count": null,
   "id": "7814b9c0",
   "metadata": {},
   "outputs": [],
   "source": []
  },
  {
   "cell_type": "markdown",
   "id": "317131ae",
   "metadata": {
    "id": "317131ae"
   },
   "source": [
    "1) Quem foram os alunos que obtiveram a maior e a menor média"
   ]
  },
  {
   "cell_type": "code",
   "execution_count": null,
   "id": "25ee28f3",
   "metadata": {
    "id": "25ee28f3"
   },
   "outputs": [],
   "source": []
  },
  {
   "cell_type": "markdown",
   "id": "d06f3bb6",
   "metadata": {},
   "source": [
    "2. Crie uma coluna de ```status``` que possui o status de aprovação dos alunos seguindo os seguintes critérios, a partir da média das provas.\n",
    "- até 5: Reprovado \n",
    "- acima de 5 e até 7: Recuperacao\n",
    "- acima de 7: Aprovado"
   ]
  },
  {
   "cell_type": "code",
   "execution_count": null,
   "id": "850a8f9d",
   "metadata": {},
   "outputs": [],
   "source": []
  },
  {
   "cell_type": "markdown",
   "id": "9078986d",
   "metadata": {
    "id": "9078986d"
   },
   "source": [
    "3) Importe o arquivo ```cadastro_alunos.xlsx``` em um DataFrame ```df_cadastro``` e una este dataframe com o ```df_notas``` chamando de ```df_escola```"
   ]
  },
  {
   "cell_type": "code",
   "execution_count": null,
   "id": "01f60e7b",
   "metadata": {},
   "outputs": [],
   "source": []
  },
  {
   "cell_type": "code",
   "execution_count": null,
   "id": "9636699c",
   "metadata": {
    "id": "9636699c"
   },
   "outputs": [],
   "source": []
  },
  {
   "cell_type": "markdown",
   "id": "a26fb340",
   "metadata": {
    "id": "a26fb340"
   },
   "source": [
    "4) Qual a média entre as Media_provas dentro do público feminino? e masculino?"
   ]
  },
  {
   "cell_type": "code",
   "execution_count": null,
   "id": "6c9bd524",
   "metadata": {
    "id": "6c9bd524"
   },
   "outputs": [],
   "source": []
  },
  {
   "cell_type": "markdown",
   "id": "e93d6402",
   "metadata": {
    "id": "e93d6402"
   },
   "source": [
    "5) Qual a média de idade das pessoas que obtiveram Media_provas maior ou igual a 7?"
   ]
  },
  {
   "cell_type": "code",
   "execution_count": null,
   "id": "b90d4494",
   "metadata": {
    "id": "b90d4494"
   },
   "outputs": [],
   "source": []
  },
  {
   "cell_type": "markdown",
   "id": "cdfe1af6",
   "metadata": {},
   "source": [
    "6) Faça um código para mostrar a médias da coluna Media_provas entre as cidades, mostrando o valor para cada uma bem como ordenando de forma decrescente? "
   ]
  },
  {
   "cell_type": "code",
   "execution_count": null,
   "id": "71bfbb05",
   "metadata": {},
   "outputs": [],
   "source": []
  },
  {
   "cell_type": "markdown",
   "id": "a33f4818",
   "metadata": {},
   "source": [
    "## Mini tarefa"
   ]
  },
  {
   "cell_type": "markdown",
   "id": "58113dfe",
   "metadata": {},
   "source": [
    "A partir do dataframe df_escola é possível obter as médias de notas de cada cidade a partir da coluna Media_provas. Realizando este calculo e ordenando de forma decrescente, responda no [link](https://forms.gle/a7Lzb7cxN4d2FzK16), qual cidade possui maior média? E qual é esta média?"
   ]
  },
  {
   "cell_type": "code",
   "execution_count": null,
   "id": "5844f15c",
   "metadata": {},
   "outputs": [],
   "source": []
  }
 ],
 "metadata": {
  "colab": {
   "provenance": []
  },
  "kernelspec": {
   "display_name": "Python 3 (ipykernel)",
   "language": "python",
   "name": "python3"
  },
  "language_info": {
   "codemirror_mode": {
    "name": "ipython",
    "version": 3
   },
   "file_extension": ".py",
   "mimetype": "text/x-python",
   "name": "python",
   "nbconvert_exporter": "python",
   "pygments_lexer": "ipython3",
   "version": "3.9.13"
  },
  "vscode": {
   "interpreter": {
    "hash": "6b93bc143cf2aa4a53884dec4d65996ee4069beae8d4d0185b09d3e6e44a43f0"
   }
  }
 },
 "nbformat": 4,
 "nbformat_minor": 5
}
