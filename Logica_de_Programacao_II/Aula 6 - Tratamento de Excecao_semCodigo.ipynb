{
 "cells": [
  {
   "cell_type": "markdown",
   "metadata": {},
   "source": [
    "https://docs.python.org/3/library/exceptions.html"
   ]
  },
  {
   "cell_type": "markdown",
   "id": "2d8acf3b",
   "metadata": {},
   "source": [
    "# Tratamento de Exceção\n",
    "\n",
    "Você já deve ter notado que algumas operações podem dar errado em certas circunstâncias, e esses erros provocam o tratamento do nosso programa. \n",
    "\n",
    "Por exemplo, quando solicitamos que o usuário digite um número inteiro e ele digita qualquer outra coisa. O erro ocorre especificamente na conversão da entrada para `int`. Veja o exemplo abaixo:"
   ]
  },
  {
   "cell_type": "code",
   "execution_count": 1,
   "id": "689a9aa2",
   "metadata": {
    "ExecuteTime": {
     "end_time": "2023-07-24T22:11:19.157452Z",
     "start_time": "2023-07-24T22:11:17.803933Z"
    }
   },
   "outputs": [
    {
     "ename": "ValueError",
     "evalue": "invalid literal for int() with base 10: 'hello word'",
     "output_type": "error",
     "traceback": [
      "\u001b[0;31m---------------------------------------------------------------------------\u001b[0m",
      "\u001b[0;31mValueError\u001b[0m                                Traceback (most recent call last)",
      "\u001b[1;32m/home/jumbeba/Downloads/PESSOAL/0. Ada Tech -  DataScience/Lógica de Programação II (PY)/Aula 6 - Tratamento de Excecao_semCodigo.ipynb Célula 2\u001b[0m line \u001b[0;36m2\n\u001b[1;32m      <a href='vscode-notebook-cell:/home/jumbeba/Downloads/PESSOAL/0.%20Ada%20Tech%20-%20%20DataScience/L%C3%B3gica%20de%20Programa%C3%A7%C3%A3o%20II%20%28PY%29/Aula%206%20-%20Tratamento%20de%20Excecao_semCodigo.ipynb#W1sZmlsZQ%3D%3D?line=0'>1</a>\u001b[0m entrada \u001b[39m=\u001b[39m \u001b[39m'\u001b[39m\u001b[39mhello word\u001b[39m\u001b[39m'\u001b[39m\n\u001b[0;32m----> <a href='vscode-notebook-cell:/home/jumbeba/Downloads/PESSOAL/0.%20Ada%20Tech%20-%20%20DataScience/L%C3%B3gica%20de%20Programa%C3%A7%C3%A3o%20II%20%28PY%29/Aula%206%20-%20Tratamento%20de%20Excecao_semCodigo.ipynb#W1sZmlsZQ%3D%3D?line=1'>2</a>\u001b[0m interiro \u001b[39m=\u001b[39m \u001b[39mint\u001b[39m(entrada)\n",
      "\u001b[0;31mValueError\u001b[0m: invalid literal for int() with base 10: 'hello word'"
     ]
    }
   ],
   "source": [
    "entrada = 'hello word'\n",
    "interiro = int(entrada)"
   ]
  },
  {
   "cell_type": "markdown",
   "id": "81a41ff5",
   "metadata": {},
   "source": [
    "Note que o erro possui um nome, `ValueError`, e uma mensagem explicando o que ocorreu.\n",
    "\n",
    "Vejamos outro exemplo bastante famoso: a divisão por zero."
   ]
  },
  {
   "cell_type": "code",
   "execution_count": null,
   "id": "f5880080",
   "metadata": {
    "ExecuteTime": {
     "end_time": "2023-07-24T22:11:54.332097Z",
     "start_time": "2023-07-24T22:11:54.296459Z"
    }
   },
   "outputs": [],
   "source": []
  },
  {
   "cell_type": "markdown",
   "id": "f5b41575",
   "metadata": {},
   "source": [
    "Observe a mesma estrutura do erro anterior: temos um nome (`ZeroDivisionError`) e uma mensagem explicando o que ocorreu.\n",
    "\n",
    "Esses erros, que não são erros de lógica nem de sintaxe, são o que chamamos de **exceções**. São pequenos problemas que o programa pode encontrar durante sua execução, como não encontrar um arquivo ou uma função receber um valor de tipo inesperado.\n",
    "\n",
    "Vamos começar aprendendo como lidar com códigos que podem provocar erros, evitando o travamento do programa, e em seguida iremos aprender a criar as nossas próprias exceções para alertar outros programadores sobre problemas que possam ter ocorrido em nossas classes e funções.\n",
    "\n",
    "> A [documentação oficial](https://docs.python.org/pt-br/3/library/exceptions.html) do Python traz uma lista completa de exceções que já vem prontas e a relação de hierarquia entre elas."
   ]
  },
  {
   "cell_type": "code",
   "execution_count": null,
   "id": "0a1d3222",
   "metadata": {
    "ExecuteTime": {
     "end_time": "2023-07-24T22:24:59.981850Z",
     "start_time": "2023-07-24T22:24:59.956022Z"
    }
   },
   "outputs": [],
   "source": []
  },
  {
   "cell_type": "code",
   "execution_count": null,
   "id": "5e3104b4",
   "metadata": {
    "ExecuteTime": {
     "end_time": "2023-07-24T22:24:36.029536Z",
     "start_time": "2023-07-24T22:24:36.019701Z"
    }
   },
   "outputs": [],
   "source": []
  },
  {
   "cell_type": "markdown",
   "id": "362dfb64",
   "metadata": {},
   "source": [
    "## Tratando uma exceção\n",
    "\n",
    "### try/except\n",
    "Tratar uma exceção significa que quando surgir um dos erros mencionados, nós iremos assumir responsabilidade sobre ele e iremos providenciar algum código alternativo. Dessa maneira, o Python não irá mais travar o nosso programa, e sim desviar seu fluxo para o código fornecido.\n",
    "\n",
    "O bloco mais básico para lidarmos com exceção é o `try`/`except`.\n",
    "\n",
    "Dentro do `try` vamos colocar o pedaço de código com potencial para dar erro. Estamos pedindo que o Python **tente** executar aquele código, cientes de que pode não dar certo.\n",
    "\n",
    "Dentro do `except`, colocamos o código que deverá ser executado **somente** se algo de errado ocorrer no `try`. Caso ocorra exceção em alguma linha do `try`, a execução irá **imediatamente** para o `except`, ignorando o restante do código dentro do `try`. Vejamos um exemplo:"
   ]
  },
  {
   "cell_type": "code",
   "execution_count": null,
   "id": "4052bb69",
   "metadata": {
    "ExecuteTime": {
     "end_time": "2023-07-24T22:30:16.278499Z",
     "start_time": "2023-07-24T22:30:16.263433Z"
    }
   },
   "outputs": [],
   "source": []
  },
  {
   "cell_type": "markdown",
   "id": "a9898e7e",
   "metadata": {},
   "source": [
    "O bloco acima já resolve a grande maioria dos problemas. Mas vamos estudar mais algumas possibilidades para deixar nosso tratamento ainda mais sofisticado e especializado.\n",
    "\n",
    "Você deve ter notado que enfatizamos o fato de exceções poderem ter um nome. Esse nome pode nos ajudar a identificar com sucesso qual dos erros possíveis ocorreu e tratá-lo com sucesso.\n",
    "\n",
    "Vamos considerar a função abaixo:"
   ]
  },
  {
   "cell_type": "code",
   "execution_count": null,
   "id": "dc56fd77",
   "metadata": {
    "ExecuteTime": {
     "end_time": "2023-07-24T22:43:20.808130Z",
     "start_time": "2023-07-24T22:43:20.799583Z"
    }
   },
   "outputs": [],
   "source": []
  },
  {
   "cell_type": "markdown",
   "id": "ae6d58b0",
   "metadata": {},
   "source": [
    "Um erro óbvio que pode ocorrer nessa função seria o `ZeroDivisionError`, que é obtido quando o zero é passado como segundo parâmetro da função. Porém, ele não é o único erro possível. \n",
    "\n",
    "O que acontece se passarmos um parâmetro que não seja numérico? `TypeError`, pois utilizamos tipos inválidos para o operador de divisão `/`.\n",
    "\n",
    "Podemos colocar diversos `except` após o `try`, cada um testando um tipo diferente de erro. Um último `except` genérico englobará todos os casos que não se encaixarem nos específicos. Veja o exemplo:"
   ]
  },
  {
   "cell_type": "code",
   "execution_count": null,
   "id": "c04b3c60",
   "metadata": {
    "ExecuteTime": {
     "end_time": "2023-07-24T22:43:22.945940Z",
     "start_time": "2023-07-24T22:43:22.934525Z"
    }
   },
   "outputs": [],
   "source": []
  },
  {
   "cell_type": "markdown",
   "id": "23733a98",
   "metadata": {},
   "source": [
    "### else\n",
    "\n",
    "Nosso bom e velho `else`, tipicamente usado em expressões condicionais acompanhando um `if`, também pode aparecer em blocos `try`/`except`. Seu efeito é o oposto do `except`: enquanto o `except` é executado quando algo dá errado, o `else` só é executado se absolutamente nada der errado. Por exemplo, poderíamos atualizar nosso exemplo anterior utilizando um `else`:"
   ]
  },
  {
   "cell_type": "code",
   "execution_count": null,
   "id": "9e7f4bc4",
   "metadata": {
    "ExecuteTime": {
     "end_time": "2023-07-24T22:44:37.469210Z",
     "start_time": "2023-07-24T22:44:37.456078Z"
    }
   },
   "outputs": [],
   "source": [
    "denominadores = [0,2,3,'a',5,' ']\n",
    "\n",
    "for d in denominadores:\n",
    "    try:\n",
    "        div = divisao (1,d)\n",
    "\n",
    "    except ZeroDivisionError:\n",
    "        print('infinito')\n",
    "    \n",
    "    except TypeError:\n",
    "        print(f'1/{d}')    \n",
    "    \n",
    "    except:\n",
    "        print('Erro desconhecido')    \n",
    "    \n",
    "    else:\n",
    "        print('infinito')"
   ]
  },
  {
   "cell_type": "markdown",
   "id": "40d0e5e9",
   "metadata": {},
   "source": [
    "Note que, no exemplo acima, não tem problema estarmos atribuindo valor pra `div` apenas no bloco `try`. Ela só será usada no `else`, ou seja, só será usada se tudo deu certo."
   ]
  },
  {
   "cell_type": "markdown",
   "id": "08e2bf38",
   "metadata": {},
   "source": [
    "### finally\n",
    "\n",
    "Muitas vezes um erro pode ocorrer quando já realizamos diversas operações. Dentre essas operações, podemos ter solicitado recursos, como por exemplo abrir um arquivo, estabelecer uma conexão com a internet ou alocar uma grande faixa de memória.\n",
    "\n",
    "O que aconteceria, por exemplo, se um comando como `return` aparecesse durante o tratamento deste erro após termos solicitado tantos recursos diferentes? O arquivo ficaria aberto, a conexão ficaria aberta, memória seria desperdiçada, etc.\n",
    "\n",
    "O `finally` garante um local seguro para colocarmos código de limpeza - ou seja, devolver recursos que não serão mais utilizados: fechar arquivos, fechar conexões com servidor etc.\n",
    "\n",
    "Ele **sempre** será executado após um bloco `try`/`except`, mesmo que haja um `return` no caminho.\n",
    "\n",
    "Veja o exemplo abaixo para entender o que queremos dizer:"
   ]
  },
  {
   "cell_type": "code",
   "execution_count": 3,
   "id": "c82bde2e",
   "metadata": {
    "ExecuteTime": {
     "end_time": "2023-07-24T22:54:59.369706Z",
     "start_time": "2023-07-24T22:54:59.356059Z"
    }
   },
   "outputs": [
    {
     "name": "stdout",
     "output_type": "stream",
     "text": [
      "Eita!\n",
      "1.0\n",
      "Eita!\n",
      "infinito\n"
     ]
    }
   ],
   "source": [
    "def teste(den):\n",
    "    try:\n",
    "        x = 1 / den\n",
    "        return x\n",
    "    except:\n",
    "        return 'infinito'\n",
    "    finally:\n",
    "        print('Eita!')\n",
    "        # Usado para finalizar o programa de forma correta\n",
    "        # Ex: Fechar arquivos, conexões ou qualquer outra coisa que possa continuar que consome memória durante a execução do programa\n",
    "\n",
    "print(teste(1))\n",
    "print(teste('1'))"
   ]
  },
  {
   "cell_type": "markdown",
   "id": "bb64c35b",
   "metadata": {},
   "source": [
    "Note que o conteúdo do bloco `finally` foi executado em ambas as chamadas, mesmo havendo um `return` dentro do `try` e outro dentro do `except`. Antes de sair da função e retornar o valor, o Python é obrigado a desviar a execução para o bloco `finally` e executar seu conteúdo.\n",
    "\n",
    "Vejamos um exemplo mais completo: um bloco `try`/`except` tentará criar um arquivo (não se preocupe com detalhes de como arquivos funcionam - estudaremos isso muito em breve!). Dentro do `try`, teremos um bloco `try`/`except`/`finally`. O `try` tentará escrever algumas operações matemáticas no arquivo, o `except` exibirá uma mensagem caso uma operação seja inválida, e o `finally` garantirá que o arquivo será fechado **independentemente de um erro ter ou não ocorrido**."
   ]
  },
  {
   "cell_type": "code",
   "execution_count": 4,
   "id": "339bb329",
   "metadata": {
    "ExecuteTime": {
     "end_time": "2023-07-24T23:09:40.212132Z",
     "start_time": "2023-07-24T23:09:40.193096Z"
    }
   },
   "outputs": [
    {
     "name": "stdout",
     "output_type": "stream",
     "text": [
      "Fechando o arquivio texte1.txt\n",
      "O nome 1.0 foi atribuido ao arquivo\n",
      "\n",
      "Fechando o arquivio texte1.txt\n",
      "Divisao por zero, não escrevemos no arquivo!\n"
     ]
    }
   ],
   "source": [
    "def escreveArquivo(nomeArquivo, denominador):\n",
    "    try:\n",
    "        arquivo = open(nomeArquivo, 'w') # Abre/cria o arquivo\n",
    "\n",
    "        try: \n",
    "            div = 1 / denominador\n",
    "            arquivo.write(str(div)) #Escreve o nome do arquivo\n",
    "            return f'O nome {div} foi atribuido ao arquivo'\n",
    "        except ZeroDivisionError:\n",
    "            return f'Divisao por zero, não escrevemos no arquivo!'\n",
    "        except TypeError:\n",
    "            return f'Tipo inválido, não escrevemos no arquivo!'\n",
    "        except:\n",
    "            return f'Erro desconhecido, não escrevemos no arquivo'\n",
    "        finally:\n",
    "            print(f'Fechando o arquivio {nomeArquivo}')\n",
    "            arquivo.close() # Fechando o arquivo SEMPRE mesmo que ocorra algum erro!\n",
    "    \n",
    "    except:\n",
    "        return ' Não foi possível abrir o arquivo'\n",
    "\n",
    "print(escreveArquivo('texte1.txt', 1), end='\\n\\n')    \n",
    "print(escreveArquivo('texte1.txt', 0))    "
   ]
  },
  {
   "cell_type": "markdown",
   "id": "dff7ba1d",
   "metadata": {},
   "source": [
    "## Levantando exceções\n",
    "\n",
    "Quando estamos criando nossos próprios módulos, classes ou funções, muitas vezes vamos nos deparar com situações inválidas. Imprimir uma mensagem de erro não é uma boa ideia, pois o programa pode estar rodando em um servidor, pode ter uma interface gráfica, etc.\n",
    "\n",
    "Logo, o ideal seria lançarmos exceções para sinalizar essas situações. Desta forma, se elas forem ignoradas, o programa irá parar, sinalizando para o programador que existe alguma situação que deveria ser tratada. Adicionalmente, podemos criar nossa própria mensagem de erro, sinalizando para o programador que ele deveria fazer algo a respeito.\n",
    "\n",
    "Podemos utilizar a palavra `raise` seguida de `Exception()`, passando entre parênteses a mensagem personalizada de erro. Veja o exemplo:"
   ]
  },
  {
   "cell_type": "code",
   "execution_count": 13,
   "id": "133d5f8c",
   "metadata": {
    "ExecuteTime": {
     "end_time": "2023-07-24T23:35:29.767580Z",
     "start_time": "2023-07-24T23:35:29.712364Z"
    }
   },
   "outputs": [
    {
     "ename": "Exception",
     "evalue": "Salário (-10) inválido! Ninguém trabalha de graça.",
     "output_type": "error",
     "traceback": [
      "\u001b[0;31m---------------------------------------------------------------------------\u001b[0m",
      "\u001b[0;31mException\u001b[0m                                 Traceback (most recent call last)",
      "\u001b[1;32m/home/jumbeba/Downloads/PESSOAL/0. Ada Tech -  DataScience/DataScience/Lógica de Programação II (PY)/Aula 6 - Tratamento de Excecao_semCodigo.ipynb Célula 22\u001b[0m line \u001b[0;36m9\n\u001b[1;32m      <a href='vscode-notebook-cell:/home/jumbeba/Downloads/PESSOAL/0.%20Ada%20Tech%20-%20%20DataScience/DataScience/L%C3%B3gica%20de%20Programa%C3%A7%C3%A3o%20II%20%28PY%29/Aula%206%20-%20Tratamento%20de%20Excecao_semCodigo.ipynb#X30sZmlsZQ%3D%3D?line=4'>5</a>\u001b[0m         \u001b[39mraise\u001b[39;00m \u001b[39mException\u001b[39;00m(\u001b[39mf\u001b[39m\u001b[39m'\u001b[39m\u001b[39mSalário (\u001b[39m\u001b[39m{\u001b[39;00msalario\u001b[39m}\u001b[39;00m\u001b[39m) inválido! Ninguém trabalha de graça.\u001b[39m\u001b[39m'\u001b[39m)\n\u001b[1;32m      <a href='vscode-notebook-cell:/home/jumbeba/Downloads/PESSOAL/0.%20Ada%20Tech%20-%20%20DataScience/DataScience/L%C3%B3gica%20de%20Programa%C3%A7%C3%A3o%20II%20%28PY%29/Aula%206%20-%20Tratamento%20de%20Excecao_semCodigo.ipynb#X30sZmlsZQ%3D%3D?line=6'>7</a>\u001b[0m     salarios\u001b[39m.\u001b[39mappend(salario)\n\u001b[0;32m----> <a href='vscode-notebook-cell:/home/jumbeba/Downloads/PESSOAL/0.%20Ada%20Tech%20-%20%20DataScience/DataScience/L%C3%B3gica%20de%20Programa%C3%A7%C3%A3o%20II%20%28PY%29/Aula%206%20-%20Tratamento%20de%20Excecao_semCodigo.ipynb#X30sZmlsZQ%3D%3D?line=8'>9</a>\u001b[0m cadastrarSalario(\u001b[39m-\u001b[39m\u001b[39m10\u001b[39m)\n",
      "\u001b[1;32m/home/jumbeba/Downloads/PESSOAL/0. Ada Tech -  DataScience/DataScience/Lógica de Programação II (PY)/Aula 6 - Tratamento de Excecao_semCodigo.ipynb Célula 22\u001b[0m line \u001b[0;36m5\n\u001b[1;32m      <a href='vscode-notebook-cell:/home/jumbeba/Downloads/PESSOAL/0.%20Ada%20Tech%20-%20%20DataScience/DataScience/L%C3%B3gica%20de%20Programa%C3%A7%C3%A3o%20II%20%28PY%29/Aula%206%20-%20Tratamento%20de%20Excecao_semCodigo.ipynb#X30sZmlsZQ%3D%3D?line=2'>3</a>\u001b[0m \u001b[39mdef\u001b[39;00m \u001b[39mcadastrarSalario\u001b[39m(salario):\n\u001b[1;32m      <a href='vscode-notebook-cell:/home/jumbeba/Downloads/PESSOAL/0.%20Ada%20Tech%20-%20%20DataScience/DataScience/L%C3%B3gica%20de%20Programa%C3%A7%C3%A3o%20II%20%28PY%29/Aula%206%20-%20Tratamento%20de%20Excecao_semCodigo.ipynb#X30sZmlsZQ%3D%3D?line=3'>4</a>\u001b[0m     \u001b[39mif\u001b[39;00m salario \u001b[39m<\u001b[39m\u001b[39m=\u001b[39m \u001b[39m0\u001b[39m:\n\u001b[0;32m----> <a href='vscode-notebook-cell:/home/jumbeba/Downloads/PESSOAL/0.%20Ada%20Tech%20-%20%20DataScience/DataScience/L%C3%B3gica%20de%20Programa%C3%A7%C3%A3o%20II%20%28PY%29/Aula%206%20-%20Tratamento%20de%20Excecao_semCodigo.ipynb#X30sZmlsZQ%3D%3D?line=4'>5</a>\u001b[0m         \u001b[39mraise\u001b[39;00m \u001b[39mException\u001b[39;00m(\u001b[39mf\u001b[39m\u001b[39m'\u001b[39m\u001b[39mSalário (\u001b[39m\u001b[39m{\u001b[39;00msalario\u001b[39m}\u001b[39;00m\u001b[39m) inválido! Ninguém trabalha de graça.\u001b[39m\u001b[39m'\u001b[39m)\n\u001b[1;32m      <a href='vscode-notebook-cell:/home/jumbeba/Downloads/PESSOAL/0.%20Ada%20Tech%20-%20%20DataScience/DataScience/L%C3%B3gica%20de%20Programa%C3%A7%C3%A3o%20II%20%28PY%29/Aula%206%20-%20Tratamento%20de%20Excecao_semCodigo.ipynb#X30sZmlsZQ%3D%3D?line=6'>7</a>\u001b[0m     salarios\u001b[39m.\u001b[39mappend(salario)\n",
      "\u001b[0;31mException\u001b[0m: Salário (-10) inválido! Ninguém trabalha de graça."
     ]
    }
   ],
   "source": [
    "salarios = []\n",
    "\n",
    "def cadastrarSalario(salario):\n",
    "    if salario <= 0:\n",
    "        raise Exception(f'Salário ({salario}) inválido! Ninguém trabalha de graça.')\n",
    "    \n",
    "    salarios.append(salario)\n",
    "\n",
    "cadastrarSalario(-10)"
   ]
  },
  {
   "cell_type": "code",
   "execution_count": 10,
   "id": "df62ce40",
   "metadata": {
    "ExecuteTime": {
     "end_time": "2023-07-24T23:35:31.596088Z",
     "start_time": "2023-07-24T23:35:31.580550Z"
    }
   },
   "outputs": [
    {
     "data": {
      "text/plain": [
       "[]"
      ]
     },
     "execution_count": 10,
     "metadata": {},
     "output_type": "execute_result"
    }
   ],
   "source": [
    "salarios"
   ]
  },
  {
   "cell_type": "markdown",
   "id": "cf9ec5f3",
   "metadata": {},
   "source": [
    "Note que na primeira chamada, onde não ocorreu exceção, o salário foi cadastrado na lista. Já na terceira chamada, nossa função lançou a exceção e parou sua execução.\n",
    "\n",
    "Idealmente, quem pretende utilizar a função deveria fazê-lo agora utilizando `try`, para manter o programa funcionando e tratar adequadamente o problema."
   ]
  },
  {
   "cell_type": "code",
   "execution_count": null,
   "id": "cadd067f",
   "metadata": {
    "ExecuteTime": {
     "end_time": "2023-07-24T23:44:53.945472Z",
     "start_time": "2023-07-24T23:44:48.838512Z"
    }
   },
   "outputs": [],
   "source": []
  },
  {
   "cell_type": "code",
   "execution_count": null,
   "id": "b93b9c36",
   "metadata": {
    "ExecuteTime": {
     "end_time": "2023-07-24T23:44:56.077270Z",
     "start_time": "2023-07-24T23:44:56.061220Z"
    }
   },
   "outputs": [],
   "source": []
  },
  {
   "cell_type": "markdown",
   "id": "b0afd7f6",
   "metadata": {},
   "source": [
    "> O `raise` também pode ser utilizado para lançar exceções que já existem, não necessariamente exceções \"novas\". Basta trocar `Exception()` pelo nome da exceção desejada.\n",
    "> De fato, quando utilizamos `raise Exception()` estamos apenas lançando a exceção mais genérica, da qual outras são derivadas, apenas especificando sua mensagem de erro."
   ]
  },
  {
   "cell_type": "markdown",
   "id": "2e05724d",
   "metadata": {},
   "source": [
    "## Criando exceções novas\n",
    "\n",
    "> **Nota:** este tópico utiliza conceitos de **programação orientada a objeto**. Ele está aqui para tornar esse capítulo mais completo. Caso você curse um módulo de programação orientada a objeto futuramente, é recomendável reler este material. Em todo caso, é possível utilizar os exemplos deste tópico como modelo para criar exceções mesmo sem compreender os detalhes do que está ocorrendo."
   ]
  },
  {
   "cell_type": "markdown",
   "id": "9acf74fc",
   "metadata": {},
   "source": [
    "### Herdando de Exception\n",
    "\n",
    "Muitos problemas simples podem ser resolvidos através do `raise Exception(mensagem)`. Porém, você deve ter notado nos exemplos anteriores que o nome da nossa mensagem de erro foi `Exception`.\n",
    "\n",
    "Exceções geralmente são implementadas através de classes. O \"nome\" do erro é o nome da classe de cada exceção. Existe uma exceção genérica chamada de `Exception`. Quando usamos `raise Exception(mensagem)`, estamos lançando essa exceção genérica junto de uma mensagem de erro personalizada.\n",
    "\n",
    "O problema da nossa abordagem é que por utilizarmos uma exceção genérica não teremos como adicionar um `except` específico para nossa mensagem. Vamos criar nossa própria classe para escolher o nome do nosso erro. Exceções personalizadas geralmente **herdam** da classe `Exception`. Fazemos isso adicionando `(Exception)` após o nome de nossa classe.\n",
    "\n",
    "Vamos colocar um construtor que recebe uma mensagem. Podemos definir uma mensagem padrão, caso ninguém passe a mensagem. Em seguida, chamaremos o construtor da superclasse `(Exception)`."
   ]
  },
  {
   "cell_type": "code",
   "execution_count": 16,
   "id": "f6cc74e4",
   "metadata": {
    "ExecuteTime": {
     "end_time": "2023-07-24T23:52:37.711243Z",
     "start_time": "2023-07-24T23:52:37.661231Z"
    }
   },
   "outputs": [
    {
     "ename": "SalarioInvalido",
     "evalue": "Salários devem ser positivos!",
     "output_type": "error",
     "traceback": [
      "\u001b[0;31m---------------------------------------------------------------------------\u001b[0m",
      "\u001b[0;31mSalarioInvalido\u001b[0m                           Traceback (most recent call last)",
      "\u001b[1;32m/home/jumbeba/Downloads/PESSOAL/0. Ada Tech -  DataScience/DataScience/Lógica de Programação II (PY)/Aula 6 - Tratamento de Excecao_semCodigo.ipynb Célula 31\u001b[0m line \u001b[0;36m1\n\u001b[1;32m     <a href='vscode-notebook-cell:/home/jumbeba/Downloads/PESSOAL/0.%20Ada%20Tech%20-%20%20DataScience/DataScience/L%C3%B3gica%20de%20Programa%C3%A7%C3%A3o%20II%20%28PY%29/Aula%206%20-%20Tratamento%20de%20Excecao_semCodigo.ipynb#X41sZmlsZQ%3D%3D?line=11'>12</a>\u001b[0m     salarios\u001b[39m.\u001b[39mappend(salario)\n\u001b[1;32m     <a href='vscode-notebook-cell:/home/jumbeba/Downloads/PESSOAL/0.%20Ada%20Tech%20-%20%20DataScience/DataScience/L%C3%B3gica%20de%20Programa%C3%A7%C3%A3o%20II%20%28PY%29/Aula%206%20-%20Tratamento%20de%20Excecao_semCodigo.ipynb#X41sZmlsZQ%3D%3D?line=13'>14</a>\u001b[0m cadastrarSalario(\u001b[39m1000\u001b[39m)\n\u001b[0;32m---> <a href='vscode-notebook-cell:/home/jumbeba/Downloads/PESSOAL/0.%20Ada%20Tech%20-%20%20DataScience/DataScience/L%C3%B3gica%20de%20Programa%C3%A7%C3%A3o%20II%20%28PY%29/Aula%206%20-%20Tratamento%20de%20Excecao_semCodigo.ipynb#X41sZmlsZQ%3D%3D?line=14'>15</a>\u001b[0m cadastrarSalario(\u001b[39m0\u001b[39m)\n",
      "\u001b[1;32m/home/jumbeba/Downloads/PESSOAL/0. Ada Tech -  DataScience/DataScience/Lógica de Programação II (PY)/Aula 6 - Tratamento de Excecao_semCodigo.ipynb Célula 31\u001b[0m line \u001b[0;36m1\n\u001b[1;32m      <a href='vscode-notebook-cell:/home/jumbeba/Downloads/PESSOAL/0.%20Ada%20Tech%20-%20%20DataScience/DataScience/L%C3%B3gica%20de%20Programa%C3%A7%C3%A3o%20II%20%28PY%29/Aula%206%20-%20Tratamento%20de%20Excecao_semCodigo.ipynb#X41sZmlsZQ%3D%3D?line=7'>8</a>\u001b[0m \u001b[39mdef\u001b[39;00m \u001b[39mcadastrarSalario\u001b[39m(salario):\n\u001b[1;32m      <a href='vscode-notebook-cell:/home/jumbeba/Downloads/PESSOAL/0.%20Ada%20Tech%20-%20%20DataScience/DataScience/L%C3%B3gica%20de%20Programa%C3%A7%C3%A3o%20II%20%28PY%29/Aula%206%20-%20Tratamento%20de%20Excecao_semCodigo.ipynb#X41sZmlsZQ%3D%3D?line=8'>9</a>\u001b[0m     \u001b[39mif\u001b[39;00m salario \u001b[39m<\u001b[39m\u001b[39m=\u001b[39m \u001b[39m0\u001b[39m:\n\u001b[0;32m---> <a href='vscode-notebook-cell:/home/jumbeba/Downloads/PESSOAL/0.%20Ada%20Tech%20-%20%20DataScience/DataScience/L%C3%B3gica%20de%20Programa%C3%A7%C3%A3o%20II%20%28PY%29/Aula%206%20-%20Tratamento%20de%20Excecao_semCodigo.ipynb#X41sZmlsZQ%3D%3D?line=9'>10</a>\u001b[0m         \u001b[39mraise\u001b[39;00m SalarioInvalido()\n\u001b[1;32m     <a href='vscode-notebook-cell:/home/jumbeba/Downloads/PESSOAL/0.%20Ada%20Tech%20-%20%20DataScience/DataScience/L%C3%B3gica%20de%20Programa%C3%A7%C3%A3o%20II%20%28PY%29/Aula%206%20-%20Tratamento%20de%20Excecao_semCodigo.ipynb#X41sZmlsZQ%3D%3D?line=11'>12</a>\u001b[0m     salarios\u001b[39m.\u001b[39mappend(salario)\n",
      "\u001b[0;31mSalarioInvalido\u001b[0m: Salários devem ser positivos!"
     ]
    }
   ],
   "source": [
    "class SalarioInvalido(Exception):\n",
    "    def __init__(self, message='Salários devem ser positivos!'):\n",
    "        self.message = message\n",
    "        super().__init__(self.message)\n",
    "\n",
    "salarios = []\n",
    "\n",
    "def cadastrarSalario(salario):\n",
    "    if salario <= 0:\n",
    "        raise SalarioInvalido()\n",
    "    \n",
    "    salarios.append(salario)\n",
    "\n",
    "cadastrarSalario(1000)\n",
    "cadastrarSalario(0)"
   ]
  },
  {
   "cell_type": "code",
   "execution_count": 17,
   "id": "46ca0947",
   "metadata": {
    "ExecuteTime": {
     "end_time": "2023-07-24T23:52:33.258495Z",
     "start_time": "2023-07-24T23:52:33.246373Z"
    }
   },
   "outputs": [
    {
     "data": {
      "text/plain": [
       "[1000]"
      ]
     },
     "execution_count": 17,
     "metadata": {},
     "output_type": "execute_result"
    }
   ],
   "source": [
    "salarios"
   ]
  },
  {
   "cell_type": "markdown",
   "id": "6a53e5e2",
   "metadata": {},
   "source": [
    "Agora sim temos um erro com seu próprio nome e uma mensagem padrão. Mas note que quem está usando a nossa exceção pode personalizar a mensagem se quiser, basta passar uma mensagem diferente entre parênteses. O tipo do erro ainda será o mesmo e ambos deverão ser identificados como `SalarioInvalido` no `Except`."
   ]
  },
  {
   "cell_type": "code",
   "execution_count": 19,
   "id": "cff4d74e",
   "metadata": {
    "ExecuteTime": {
     "end_time": "2022-10-18T00:32:30.882161Z",
     "start_time": "2022-10-18T00:32:01.956721Z"
    }
   },
   "outputs": [],
   "source": [
    "class SalarioInvalido(Exception):\n",
    "    def __init__(self, message='Salários devem ser positivos!'):\n",
    "        self.message = message\n",
    "        super().__init__(self.message)\n",
    "\n",
    "salarios = []\n",
    "\n",
    "def cadastrarSalario(salario):\n",
    "    if salario <= 0:\n",
    "        raise SalarioInvalido()\n",
    "    \n",
    "    salarios.append(salario)\n",
    "\n",
    "for i in range(3):\n",
    "    try:\n",
    "        salario = float(input('Digite o salário do funcionário: '))\n",
    "        cadastrarSalario(salario)\n",
    "    except SalarioInvalido:\n",
    "        print('Nosso RH falhou mizerávelmente!')\n",
    "    except:\n",
    "        print('Exceção genérica')\n"
   ]
  },
  {
   "cell_type": "markdown",
   "id": "34346bc9",
   "metadata": {},
   "source": [
    "Para finalizar, vale sempre lembrar que podemos tratar essa exceção específica:"
   ]
  },
  {
   "cell_type": "code",
   "execution_count": null,
   "id": "f9758ab3",
   "metadata": {
    "ExecuteTime": {
     "end_time": "2023-07-24T23:59:21.062588Z",
     "start_time": "2023-07-24T23:58:50.579188Z"
    }
   },
   "outputs": [],
   "source": []
  },
  {
   "cell_type": "code",
   "execution_count": null,
   "id": "c40e149d",
   "metadata": {
    "ExecuteTime": {
     "end_time": "2023-07-24T23:59:23.176259Z",
     "start_time": "2023-07-24T23:59:23.156824Z"
    }
   },
   "outputs": [],
   "source": []
  },
  {
   "cell_type": "markdown",
   "id": "1f171572",
   "metadata": {},
   "source": [
    "### Adicionando atributos à exceção\n",
    "\n",
    "É possível uma exceção trazer consigo informações sobre o valor que provocou o erro. Por exemplo, seria útil que a classe `SalarioInvalido` pudesse informar qual foi o salário inválido. Isso é útil, por exemplo, em _logs_ que registram tudo o que ocorreu no programa, além de trazer informações importantes para o _debugging_ do código.\n",
    "\n",
    "Para isso, basta ajustar o construtor da classe de sua exceção:"
   ]
  },
  {
   "cell_type": "code",
   "execution_count": 36,
   "id": "d89282f4",
   "metadata": {
    "ExecuteTime": {
     "end_time": "2023-07-25T00:03:39.169537Z",
     "start_time": "2023-07-25T00:03:39.155998Z"
    }
   },
   "outputs": [],
   "source": [
    "class SalarioInvalido(Exception):\n",
    "    def __init__(self, salario, mensagem='Salários devem ser positivos!'):\n",
    "        self.salario = salario\n",
    "        self.message = mensagem\n",
    "        super().__init__(self.message)"
   ]
  },
  {
   "cell_type": "markdown",
   "id": "a0ff0048",
   "metadata": {},
   "source": [
    "Agora, ao lançar a exceção, devemos passar o salário:"
   ]
  },
  {
   "cell_type": "code",
   "execution_count": 37,
   "id": "97cce875",
   "metadata": {
    "ExecuteTime": {
     "end_time": "2023-07-25T00:04:19.125653Z",
     "start_time": "2023-07-25T00:04:19.119591Z"
    }
   },
   "outputs": [],
   "source": [
    "salarios = []\n",
    "\n",
    "def cadastrar_salario(salario):\n",
    "    if salario <= 0:\n",
    "        raise SalarioInvalido(salario)\n",
    "    \n",
    "    salarios.append(salario)"
   ]
  },
  {
   "cell_type": "markdown",
   "id": "6854f007",
   "metadata": {},
   "source": [
    "Por fim, ao tratar a exceção, podemos dar um _alias_ (um \"apelido\") para ela utilizando a palavra `as`. Através desse apelido, podemos acessar seus atributos.\n",
    "\n",
    "Note que imprimir o objeto faz com que sua mensagem seja impressa."
   ]
  },
  {
   "cell_type": "code",
   "execution_count": 38,
   "id": "8fe00db4",
   "metadata": {
    "ExecuteTime": {
     "end_time": "2023-07-25T00:13:10.631614Z",
     "start_time": "2023-07-25T00:13:04.572283Z"
    }
   },
   "outputs": [
    {
     "name": "stdout",
     "output_type": "stream",
     "text": [
      "Salários devem ser positivos!\n",
      "O salário problemático foi: 0.0\n",
      "Salários devem ser positivos!\n",
      "O salário problemático foi: -50.0\n",
      "[10.0]\n"
     ]
    }
   ],
   "source": [
    "for i in range(3):\n",
    "    salario = float(input('Digite o salário do funcionário: '))\n",
    "    \n",
    "    try:\n",
    "        cadastrar_salario(salario)\n",
    "    except SalarioInvalido as excecao:\n",
    "        print(excecao) # \"Salários devem ser positivos!\"\n",
    "        print(f'O salário problemático foi: {excecao.salario}')        \n",
    "    except:\n",
    "        print('Exceção genérica')\n",
    "        \n",
    "print(salarios)"
   ]
  },
  {
   "cell_type": "code",
   "execution_count": 39,
   "metadata": {},
   "outputs": [
    {
     "data": {
      "text/plain": [
       "[10.0]"
      ]
     },
     "execution_count": 39,
     "metadata": {},
     "output_type": "execute_result"
    }
   ],
   "source": [
    "salarios"
   ]
  }
 ],
 "metadata": {
  "kernelspec": {
   "display_name": "Python 3 (ipykernel)",
   "language": "python",
   "name": "python3"
  },
  "language_info": {
   "codemirror_mode": {
    "name": "ipython",
    "version": 3
   },
   "file_extension": ".py",
   "mimetype": "text/x-python",
   "name": "python",
   "nbconvert_exporter": "python",
   "pygments_lexer": "ipython3",
   "version": "3.11.4"
  },
  "latex_envs": {
   "LaTeX_envs_menu_present": true,
   "autoclose": false,
   "autocomplete": true,
   "bibliofile": "biblio.bib",
   "cite_by": "apalike",
   "current_citInitial": 1,
   "eqLabelWithNumbers": true,
   "eqNumInitial": 1,
   "hotkeys": {
    "equation": "Ctrl-E",
    "itemize": "Ctrl-I"
   },
   "labels_anchors": false,
   "latex_user_defs": false,
   "report_style_numbering": false,
   "user_envs_cfg": false
  },
  "toc": {
   "base_numbering": 1,
   "nav_menu": {},
   "number_sections": true,
   "sideBar": true,
   "skip_h1_title": false,
   "title_cell": "Table of Contents",
   "title_sidebar": "Contents",
   "toc_cell": false,
   "toc_position": {},
   "toc_section_display": true,
   "toc_window_display": false
  },
  "varInspector": {
   "cols": {
    "lenName": 16,
    "lenType": 16,
    "lenVar": 40
   },
   "kernels_config": {
    "python": {
     "delete_cmd_postfix": "",
     "delete_cmd_prefix": "del ",
     "library": "var_list.py",
     "varRefreshCmd": "print(var_dic_list())"
    },
    "r": {
     "delete_cmd_postfix": ") ",
     "delete_cmd_prefix": "rm(",
     "library": "var_list.r",
     "varRefreshCmd": "cat(var_dic_list()) "
    }
   },
   "types_to_exclude": [
    "module",
    "function",
    "builtin_function_or_method",
    "instance",
    "_Feature"
   ],
   "window_display": false
  }
 },
 "nbformat": 4,
 "nbformat_minor": 5
}
