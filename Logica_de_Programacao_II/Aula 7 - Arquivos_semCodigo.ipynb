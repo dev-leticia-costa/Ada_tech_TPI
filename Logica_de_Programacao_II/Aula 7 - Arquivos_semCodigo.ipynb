{
 "cells": [
  {
   "cell_type": "markdown",
   "id": "e550919a",
   "metadata": {},
   "source": [
    "# Arquivos\n",
    "\n",
    "Uma característica que nenhum de nossos programas teve até agora é a **persistência** de dados. Sempre que nossos programas eram executados, eles exigiam que os usuários digitassem todos os dados de entrada, e após exibir os dados de saída na tela, o programa era fechado e esses dados eram perdidos para sempre.\n",
    "\n",
    "A persistência se dá através de **arquivos**: estruturas abstratas para armazenar dados em uma memória permanente, como o disco rígido, um _drive_ USB ou um servidor _web_."
   ]
  },
  {
   "cell_type": "markdown",
   "id": "a191c17e",
   "metadata": {},
   "source": [
    "## Arquivos em Python\n",
    "\n",
    "O Python possui algumas funções prontas para manipular arquivos binários puros (onde, conhecendo a estrutura interna de qualquer formato, podemos salvar qualquer tipo de arquivo) e para manipular arquivos de texto (onde os binários são decodificados como _strings_).\n",
    "\n",
    "Focaremos no básico de manipulação de arquivo de texto pois, na prática, quando formos trabalhar com arquivos mais complexos, é provável que usaremos bibliotecas específicas para lidar com eles, e elas já terão funções próprias para ler e salvar esses arquivos da maneira correta."
   ]
  },
  {
   "cell_type": "markdown",
   "id": "e8624c8d",
   "metadata": {},
   "source": [
    "### Abrindo e fechando arquivos\n",
    "\n",
    "Podemos criar arquivos novos ou abrir arquivos já existentes utilizando a função _open_. Ela possui 2 argumentos: o caminho do arquivo e o modo de operação.\n",
    "\n",
    "| Modo   | Símbolo | Descrição                                                                                                                             |\n",
    "|--------|---------|---------------------------------------------------------------------------------------------------------------------------------------|\n",
    "| _read_   | r       | lê um arquivo existente                                                                                                               |\n",
    "| _write_  | w       | cria um novo arquivo                                                                                                                  |\n",
    "| _append_ | a       | abre um arquivo existente para adicionar informações ao seu final                                                                     |\n",
    "| _update_ | +       | ao ser combinado com outros modos, permite alteração de arquivo já existente (ex: r+ abre um arquivo existente e permite modificá-lo) |\n",
    "\n",
    "Após abrirmos (ou criarmos) um arquivo, podemos realizar diversas operações. Ao final de todas elas, devemos **fechar** o  arquivo usando a função _close_. Essa etapa é importante por 2 motivos:\n",
    "* 1. Se alteramos o arquivo mas não o fechamos, as alterações não serão salvas.\n",
    "* 2. Se esquecermos de fechar um arquivo, outros programas podem ter problemas de acesso a ele.\n",
    "\n",
    "A função _open_ retorna alguns dados de acesso ao arquivo que devem ser salvos em uma variável, para uso interno do Python.\n",
    "\n",
    "> **Atenção:** o modo 'w' sempre irá **criar um novo arquivo**. Caso você use esse modo para abrir um arquivo que já existe, o arquivo existente será substituído por um novo arquivo em branco, e seu conteúdo será perdido!"
   ]
  },
  {
   "cell_type": "markdown",
   "id": "826a8150",
   "metadata": {},
   "source": [
    "### Escrevendo arquivos\n",
    "\n",
    "Para entender melhor o _open_ e o _close_, façamos um programinha que escreve algo em um arquivo. Além das duas funções que já vimos, também utilizaremos a função _write_, que escreve um texto em um arquivo. É quase como um _print_ mais simples, mas ele aceita apenas uma _string_."
   ]
  },
  {
   "cell_type": "code",
   "execution_count": null,
   "id": "d9f1d2b8",
   "metadata": {
    "ExecuteTime": {
     "end_time": "2023-07-26T22:26:05.241072Z",
     "start_time": "2023-07-26T22:26:05.222241Z"
    }
   },
   "outputs": [],
   "source": []
  },
  {
   "cell_type": "markdown",
   "id": "c51f72ec",
   "metadata": {},
   "source": [
    "Após executar o código acima, abra a pasta onde seu código-fonte está salvo. Note que apareceu o arquivo `teste1.txt` dentro dela. Abra-o e verifique seu conteúdo.\n",
    "\n",
    "> Por padrão, arquivos serão escritos na mesma pasta onde está nosso código-fonte. Você pode passar caminhos completos caso prefira acessar outras pastas. \n",
    "> Ao invés de escrever por extenso o caminho de um arquivo, é recomendável o uso de uma biblioteca para construir os endereços, tanto para lidar melhor com possíveis erros quanto para garantir que nosso programa funcionará bem em computadores diferentes ou mesmo em sistemas operacionais diferentes.\n",
    "> Um módulo bastante útil é o `os.path`, já instalado junto com o Python. [Aqui](https://linuxhint.com/os-path-module-python/) está um ótimo tutorial introdutório. Caso você precise se aprofundar, consulte a [documentação oficial](https://docs.python.org/pt-br/3.7/library/os.path.html)."
   ]
  },
  {
   "cell_type": "code",
   "execution_count": null,
   "id": "17528829",
   "metadata": {
    "ExecuteTime": {
     "end_time": "2023-07-26T22:33:52.561932Z",
     "start_time": "2023-07-26T22:33:52.537651Z"
    }
   },
   "outputs": [],
   "source": []
  },
  {
   "cell_type": "code",
   "execution_count": null,
   "id": "00080a74",
   "metadata": {
    "ExecuteTime": {
     "end_time": "2023-07-26T22:35:09.959947Z",
     "start_time": "2023-07-26T22:35:09.942529Z"
    }
   },
   "outputs": [],
   "source": []
  },
  {
   "cell_type": "code",
   "execution_count": null,
   "id": "283f2da1",
   "metadata": {
    "ExecuteTime": {
     "end_time": "2023-07-26T22:35:42.569391Z",
     "start_time": "2023-07-26T22:35:42.546417Z"
    }
   },
   "outputs": [],
   "source": []
  },
  {
   "cell_type": "markdown",
   "id": "84f296ca",
   "metadata": {},
   "source": [
    "### Lendo arquivos\n",
    "\n",
    "Para ler um arquivo existente, não basta usar o _open_ para abri-lo. É necessário carregar seu conteúdo para uma _string_, de modo que possamos trabalhar com o texto da mesma forma que sempre trabalhamos. A função _read_ faz o oposto da _write_: ela retorna o texto existente no arquivo.\n",
    "\n",
    "Execute o código abaixo:"
   ]
  },
  {
   "cell_type": "code",
   "execution_count": null,
   "id": "d815aced",
   "metadata": {
    "ExecuteTime": {
     "end_time": "2023-07-26T22:40:47.172237Z",
     "start_time": "2023-07-26T22:40:47.154656Z"
    }
   },
   "outputs": [],
   "source": []
  },
  {
   "cell_type": "markdown",
   "id": "f00fe5e2",
   "metadata": {},
   "source": [
    "> Você pode estar se perguntando: nós aprendemos a criar um arquivo e escrever nele e aprendemos a ler o conteúdo de um arquivo já existente. Mas como realizamos modificações pontuais em um arquivo já existente?\n",
    "> Uma forma seria utilizar as funções de manipulação de ponteiro de arquivo `seek` e `tell`. Você pode ler mais sobre elas [aqui](https://pynative.com/python-file-seek/). Porém, isso pode ser bastante trabalhoso, e na prática, quase sempre que formos realizar manipulação de arquivos mais complexos, utilizaremos bibliotecas que nos protegerão da manipulação direta do arquivo.\n",
    "> Para manipular arquivos de texto simples, como estamos fazendo nesta aula, uma solução é sempre reescrever o arquivo inteiro: abra o arquivo em modo leitura (r) e carregue todo seu conteúdo em uma string. Faça as alterações desejadas na string, reabra o arquivo em modo de escrita (w) e escreva a string completa no arquivo."
   ]
  },
  {
   "cell_type": "markdown",
   "id": "c2f51545",
   "metadata": {},
   "source": [
    "## 1.4. Gerenciador de contexto\n",
    "\n",
    "Uma forma alternativa e \"mais segura\" de trabalhar com arquivos é utilizando um _gerenciador de contextos_. O gerenciador de contextos é, de maneira resumida, um pequeno bloco de código que realiza algumas tarefas e tratamentos de erro de maneira automatizada. \n",
    "\n",
    "Com ele, não precisamos nos preocupar em fechar o arquivo ao final da manipulação, pois ele faz isto automaticamente, ao final do bloco. "
   ]
  },
  {
   "cell_type": "code",
   "execution_count": null,
   "id": "b463a40a",
   "metadata": {
    "ExecuteTime": {
     "end_time": "2023-07-26T22:52:25.087279Z",
     "start_time": "2023-07-26T22:52:25.075603Z"
    }
   },
   "outputs": [],
   "source": []
  },
  {
   "cell_type": "code",
   "execution_count": null,
   "id": "b30c93de",
   "metadata": {
    "ExecuteTime": {
     "end_time": "2023-07-26T22:55:52.836290Z",
     "start_time": "2023-07-26T22:55:52.827827Z"
    }
   },
   "outputs": [],
   "source": []
  },
  {
   "cell_type": "markdown",
   "id": "fd9c62ec",
   "metadata": {},
   "source": [
    "No restante dos exemplos seguiremos utilizando a primeira forma que aprendemos para enfatizar que, por dentro do programa, há **sempre** uma abertura e um fechamento de arquivo. Mas recomendamos utilizar sempre que possível o gerenciador de contexto para garantir uma segurança maior.\n",
    "\n",
    "> Você pode ler mais sobre gerenciadores de contexto e aprender a criar o seu próprio neste ótimo artigo do [RealPython](https://realpython.com/python-with-statement/)."
   ]
  },
  {
   "cell_type": "markdown",
   "id": "75760660",
   "metadata": {},
   "source": [
    "## Arquivos CSV\n",
    "\n",
    "Muitos dados interessantes ou importantes estão disponíveis na forma de tabela. A capacidade de manipular planilhas foi determinante no sucesso dos computadores pessoais, dada sua importância para empresas e indivíduos.\n",
    "\n",
    "Aprenderemos a manipular dados utilizando um dos formatos de planilha mais amplamente utilizados na _web_: o formato CSV. Mas antes, como podemos representar tabelas em Python?"
   ]
  },
  {
   "cell_type": "markdown",
   "id": "cb241f8e",
   "metadata": {},
   "source": [
    "### Tabelas em Python\n",
    "\n",
    "Conforme já mencionamos, temos módulos prontos para realizar muitas tarefas para nós. Um dos módulos mais populares em Python é o _pandas_, que mesmo não vindo instalado por padrão é provavelmente o módulo mais usado para manipular planilhas. Porém, como este é um curso introdutório, convém entendermos um pouquinho de lógica de como manipular uma tabela para futuramente sermos capazes de trabalhar corretamente com os módulos prontos.\n",
    "\n",
    "Uma das formas mais simples de se representar uma tabela em Python seria através de uma lista de listas. Nossa lista principal seria a tabela como um todo, e cada lista interna seria uma linha da tabela. \n",
    "\n",
    "Para acessar um elemento individual, utilizamos 2 índices: o primeiro indica a lista interna (linha) e o segundo o elemento individual na lista (coluna). Para percorrer a tabela inteira, utilizamos 2 _for_ aninhados: o mais externo fixa uma linha e o mais interno percorre cada elemento daquela linha. Execute o código abaixo e verifique o resultado mostrado na tela."
   ]
  },
  {
   "cell_type": "code",
   "execution_count": null,
   "id": "bb159cc7",
   "metadata": {
    "ExecuteTime": {
     "end_time": "2023-07-26T23:05:38.415110Z",
     "start_time": "2023-07-26T23:05:38.406108Z"
    }
   },
   "outputs": [],
   "source": []
  },
  {
   "cell_type": "markdown",
   "id": "5ac07cae",
   "metadata": {},
   "source": [
    "### O formato CSV\n",
    "\n",
    "A sigla CSV significa _Comma-Separated Values_, ou \"valores separados por vírgula\". Este formato é uma forma padrão de representar tabelas usando arquivos de texto simples: cada elemento é separado por uma vírgula, e cada linha é separada por uma quebra de linha. \n",
    "\n",
    "Na prática, nem sempre o padrão é seguido à risca: podemos utilizar outros símbolos para fazer a separação. Um bom motivo é o fato de a vírgula ser utilizada para representar casa decimal em algumas línguas, como a língua portuguesa. O importante é ser coerente: todos os elementos deverão ser separados pelo mesmo símbolo, e todas as linhas deverão ter o mesmo número de elementos.\n",
    "\n",
    "Cole o texto abaixo em um editor de texto puro (como o Bloco de Notas, do Windows) e salve-o com a extensão .csv."
   ]
  },
  {
   "cell_type": "markdown",
   "id": "559d216d",
   "metadata": {},
   "source": [
    "```\n",
    "Aluno;Nota 1;Nota 2;Presenças\n",
    "Luke;7;9;15\n",
    "Han;4;7;10\n",
    "Leia;9;9;16\n",
    "```"
   ]
  },
  {
   "cell_type": "markdown",
   "id": "3dc39e3e",
   "metadata": {},
   "source": [
    "Caso você tenha um editor de planilha instalado, como o Excel, é provável que o ícone representando o arquivo seja o ícone do editor de planilhas, e não de um arquivo de texto. Abra-o com seu editor de planilha e observe como ele interpreta corretamente os dados!\n",
    "\n",
    "Devido ao fato de ser um formato aberto (ou seja, não é necessário pagar por propriedade intelectual para usar) e ser muito fácil de manipular, diversos programas diferentes possuem a opção de importar ou exportar dados em CSV, e diversas bases de dados na _web_ oferecem a opção de baixar os dados neste formato."
   ]
  },
  {
   "cell_type": "markdown",
   "id": "126ab66d",
   "metadata": {},
   "source": [
    "### O módulo CSV em Python\n",
    "\n",
    "Devido à facilidade de trabalhar com arquivos CSV, com o que vimos sobre arquivos até o momento, já conseguimos facilmente escrever um programa que escreva uma planilha (representada como lista de listas) em um arquivo CSV. Da mesma forma, utilizando as funções que vimos de _strings_, conseguimos abrir um arquivo CSV e adequadamente reconhecer seus elementos (dica: _split_).\n",
    "\n",
    "Porém, como mencionamos antes, o Python possui muita coisa pronta, então não precisamos constantemente reinventar a roda. Existe um módulo chamado _csv_ que já vem instalado com o Python. Ele já faz sozinho o serviço bruto de transformar nossa lista de listas em um texto separado por símbolos e vice-versa."
   ]
  },
  {
   "cell_type": "markdown",
   "id": "e6d47222",
   "metadata": {},
   "source": [
    "#### Escrevendo um CSV\n",
    "\n",
    "Para escrever um CSV utilizando o módulo, precisamos ter nossos dados representados como uma lista de listas. Criaremos (ou abriremos) um arquivo usando o _open_, como já fizemos antes, e utilizaremos um _CSV writer_ - uma estrutura que guardará as regrinhas para escrever nosso CSV. Execute o exemplo abaixo:"
   ]
  },
  {
   "cell_type": "code",
   "execution_count": null,
   "id": "652d3194",
   "metadata": {
    "ExecuteTime": {
     "end_time": "2023-07-26T23:18:07.521573Z",
     "start_time": "2023-07-26T23:18:07.509605Z"
    }
   },
   "outputs": [],
   "source": []
  },
  {
   "cell_type": "markdown",
   "id": "8aa8322c",
   "metadata": {},
   "source": [
    "Após executar o programa acima, um arquivo _alunos.csv_ deverá surgir na mesma pasta em que se encontra o seu código-fonte, e seu editor de planilhas provavelmente o reconhecerá com sucesso. Se você abrí-lo com um editor de texto puro, verá os dados separados por **;**, assim como no arquivo que criamos anteriormente."
   ]
  },
  {
   "cell_type": "markdown",
   "id": "74cdcc06",
   "metadata": {},
   "source": [
    "#### Lendo um CSV\n",
    "\n",
    "O processo para ler o CSV é semelhante: utilizamos um _CSV reader_, com os mesmos parâmetros utilizados no _CSV writer_. A função _csv.reader_ retorna uma estrutura iterável (ou seja, que pode ser percorrida com _for_) contendo cada linha já organizada como lista."
   ]
  },
  {
   "cell_type": "code",
   "execution_count": null,
   "id": "ae103bf0",
   "metadata": {
    "ExecuteTime": {
     "end_time": "2023-07-26T23:23:04.511126Z",
     "start_time": "2023-07-26T23:23:04.503117Z"
    }
   },
   "outputs": [],
   "source": []
  },
  {
   "cell_type": "markdown",
   "id": "e2951bc9",
   "metadata": {},
   "source": [
    "Note que a estrutura **não é** uma lista, mas um objeto iterável. Vejamos o que acontece se tentarmos imprimi-lo diretamente:"
   ]
  },
  {
   "cell_type": "code",
   "execution_count": null,
   "id": "f99b83a9",
   "metadata": {
    "ExecuteTime": {
     "end_time": "2023-07-26T23:23:53.468087Z",
     "start_time": "2023-07-26T23:23:53.463085Z"
    }
   },
   "outputs": [],
   "source": []
  },
  {
   "cell_type": "markdown",
   "id": "85dca6b7",
   "metadata": {},
   "source": [
    "Caso você precise de mais flexibilidade para trabalhar com a sua planilha - por exemplo, caso deseje editá-la, criar novas colunas etc, convém converter a estrutura para uma lista de verdade. É possível usar a função `list` no objeto para fazer a conversão:"
   ]
  },
  {
   "cell_type": "code",
   "execution_count": null,
   "id": "90a6a3a2",
   "metadata": {
    "ExecuteTime": {
     "end_time": "2023-07-26T23:24:28.907647Z",
     "start_time": "2023-07-26T23:24:28.901653Z"
    }
   },
   "outputs": [],
   "source": []
  },
  {
   "cell_type": "markdown",
   "id": "f1bca860",
   "metadata": {},
   "source": [
    "> Tudo que vem do teclado é considerado `string` e, por isso, frequentemente utilizamos coerção de tipos para interpretar estes dados como `int` ou `float`. O mesmo ocorre com documentos de texto. É comum salvarmos números em nossas planilhas, mas ao carregar o CSV, todos os campos serão strings. Você pode utilizar loops, compreensões de lista ou funções como o `map` para gerar uma tabela contendo números a partir de um arquivo CSV."
   ]
  },
  {
   "cell_type": "markdown",
   "id": "59f5ad9f",
   "metadata": {},
   "source": [
    "## Arquivos JSON\n",
    "\n",
    "JSON é uma sigla para _JavaScript Object Notation_. O _JavaScript_ é uma linguagem muito utilizada em web, e assim como o Python, ela é uma linguagem orientada a objeto. Ocorre que a forma como objetos são representados nessa linguagem é bastante legível para seres humanos e fácil de decompor usando programação também.\n",
    "\n",
    "Veja um exemplo de como podemos representar, por exemplo, um estudante em JavaScript:"
   ]
  },
  {
   "cell_type": "markdown",
   "id": "3f7e5b46",
   "metadata": {
    "ExecuteTime": {
     "end_time": "2022-10-17T17:16:16.068362Z",
     "start_time": "2022-10-17T17:16:15.568550Z"
    }
   },
   "source": [
    "```\n",
    "{\n",
    "    nome: 'Mario',\n",
    "    modulo: 2,\n",
    "    media: 9.5 \n",
    "}\n",
    "```"
   ]
  },
  {
   "cell_type": "markdown",
   "id": "64cd02dc",
   "metadata": {},
   "source": [
    "Parece familiar? É extremamente parecido com dicionários em Python. O Python possui um módulo já instalado chamado `json` que nos ajuda a realizar conversões entre uma _string_ contendo um JSON e um dicionário.\n",
    "\n",
    "> **Atenção:** No caso do JSON faremos *exatamente* como nos dicionários em Python: as chaves deverão vir entre aspas.\n",
    "\n",
    "Os valores de um JSON podem ser de vários tipos de dados: inteiros, reais, _strings_, booleanos, e até mesmo listas (representadas com colchetes) ou outros JSON/dicionários (representados por chaves). Por exemplo:"
   ]
  },
  {
   "cell_type": "markdown",
   "id": "a92ab1c8",
   "metadata": {},
   "source": [
    "```\n",
    "{\n",
    "    'escola':\"Ada\",\n",
    "    'cursos':[{'nome':'Python Pro', 'duracao':2}, \n",
    "            {'nome':'Data Science', 'duracao':2},\n",
    "            {'nome':'Front-End', 'duracao':2}]\n",
    "}\n",
    "```"
   ]
  },
  {
   "cell_type": "markdown",
   "id": "9de60d75",
   "metadata": {},
   "source": [
    "### JSON para dicionário\n",
    "\n",
    "O método `loads` recebe uma _string_ contendo um JSON e retorna um dicionário, o que torna bastante fácil o acesso a informações individuais:"
   ]
  },
  {
   "cell_type": "code",
   "execution_count": null,
   "id": "1a4fa1e6",
   "metadata": {
    "ExecuteTime": {
     "end_time": "2023-07-26T23:53:34.166321Z",
     "start_time": "2023-07-26T23:53:34.147452Z"
    }
   },
   "outputs": [],
   "source": []
  },
  {
   "cell_type": "code",
   "execution_count": null,
   "id": "97797fc2",
   "metadata": {
    "ExecuteTime": {
     "end_time": "2023-07-26T23:54:06.950510Z",
     "start_time": "2023-07-26T23:54:06.939455Z"
    }
   },
   "outputs": [],
   "source": []
  },
  {
   "cell_type": "markdown",
   "id": "aa78ca22",
   "metadata": {},
   "source": [
    "### Dicionário para JSON\n",
    "\n",
    "Já o método `dumps` recebe um dicionário e retorna uma _string_ pronta para ser salva ou enviada como JSON:"
   ]
  },
  {
   "cell_type": "code",
   "execution_count": null,
   "id": "a42f9be7",
   "metadata": {
    "ExecuteTime": {
     "end_time": "2023-07-26T23:59:43.557755Z",
     "start_time": "2023-07-26T23:59:43.541272Z"
    }
   },
   "outputs": [],
   "source": []
  },
  {
   "cell_type": "markdown",
   "id": "9deba059",
   "metadata": {},
   "source": [
    "O `dumps` possui um parâmetro opcional `indent` que recebe um número inteiro. Isso fará com que a string gerada seja indentada, e o valor desse parâmetro determinará quantos espaços irão ao início de cada \"nível\".\n",
    "\n",
    ">  Sabendo realizar a conversão de dicionário para string e vice-versa, basta utilizar as técnicas de manipulação de arquivo de texto para ler a string do arquivo JSON, convertê-la para dicionário, fazer as manipulações desejadas, converter novamente para string e escrever no arquivo."
   ]
  },
  {
   "cell_type": "code",
   "execution_count": null,
   "id": "dbc40e51",
   "metadata": {
    "ExecuteTime": {
     "end_time": "2023-07-27T00:10:38.808966Z",
     "start_time": "2023-07-27T00:10:38.774408Z"
    }
   },
   "outputs": [],
   "source": []
  },
  {
   "cell_type": "code",
   "execution_count": null,
   "id": "0dc19c7f",
   "metadata": {
    "ExecuteTime": {
     "end_time": "2023-07-27T00:11:03.952902Z",
     "start_time": "2023-07-27T00:11:03.935246Z"
    }
   },
   "outputs": [],
   "source": []
  },
  {
   "cell_type": "code",
   "execution_count": null,
   "id": "2dc12330",
   "metadata": {
    "ExecuteTime": {
     "end_time": "2023-07-27T00:11:43.287829Z",
     "start_time": "2023-07-27T00:11:43.273205Z"
    }
   },
   "outputs": [],
   "source": []
  },
  {
   "cell_type": "code",
   "execution_count": null,
   "id": "06e27e1d",
   "metadata": {
    "ExecuteTime": {
     "end_time": "2023-07-27T00:12:03.659166Z",
     "start_time": "2023-07-27T00:12:03.639762Z"
    }
   },
   "outputs": [],
   "source": []
  },
  {
   "cell_type": "code",
   "execution_count": null,
   "id": "f26f5e17",
   "metadata": {
    "ExecuteTime": {
     "end_time": "2023-07-27T00:16:47.802333Z",
     "start_time": "2023-07-27T00:16:47.790273Z"
    }
   },
   "outputs": [],
   "source": []
  },
  {
   "cell_type": "code",
   "execution_count": null,
   "id": "fb00deaa",
   "metadata": {
    "ExecuteTime": {
     "end_time": "2023-07-27T00:16:49.262379Z",
     "start_time": "2023-07-27T00:16:49.252616Z"
    }
   },
   "outputs": [],
   "source": []
  },
  {
   "cell_type": "code",
   "execution_count": null,
   "id": "a3b5a453",
   "metadata": {
    "ExecuteTime": {
     "end_time": "2023-07-27T00:18:16.748280Z",
     "start_time": "2023-07-27T00:18:16.737173Z"
    }
   },
   "outputs": [],
   "source": []
  },
  {
   "cell_type": "code",
   "execution_count": null,
   "id": "a2648476",
   "metadata": {
    "ExecuteTime": {
     "end_time": "2023-07-27T00:18:19.417664Z",
     "start_time": "2023-07-27T00:18:19.408591Z"
    }
   },
   "outputs": [],
   "source": []
  },
  {
   "cell_type": "code",
   "execution_count": null,
   "id": "3e850713",
   "metadata": {
    "ExecuteTime": {
     "end_time": "2023-07-27T00:18:51.354943Z",
     "start_time": "2023-07-27T00:18:51.341382Z"
    }
   },
   "outputs": [],
   "source": []
  }
 ],
 "metadata": {
  "kernelspec": {
   "display_name": "Python 3 (ipykernel)",
   "language": "python",
   "name": "python3"
  },
  "language_info": {
   "codemirror_mode": {
    "name": "ipython",
    "version": 3
   },
   "file_extension": ".py",
   "mimetype": "text/x-python",
   "name": "python",
   "nbconvert_exporter": "python",
   "pygments_lexer": "ipython3",
   "version": "3.10.2"
  },
  "latex_envs": {
   "LaTeX_envs_menu_present": true,
   "autoclose": false,
   "autocomplete": true,
   "bibliofile": "biblio.bib",
   "cite_by": "apalike",
   "current_citInitial": 1,
   "eqLabelWithNumbers": true,
   "eqNumInitial": 1,
   "hotkeys": {
    "equation": "Ctrl-E",
    "itemize": "Ctrl-I"
   },
   "labels_anchors": false,
   "latex_user_defs": false,
   "report_style_numbering": false,
   "user_envs_cfg": false
  },
  "toc": {
   "base_numbering": 1,
   "nav_menu": {},
   "number_sections": true,
   "sideBar": true,
   "skip_h1_title": false,
   "title_cell": "Table of Contents",
   "title_sidebar": "Contents",
   "toc_cell": false,
   "toc_position": {},
   "toc_section_display": true,
   "toc_window_display": false
  },
  "varInspector": {
   "cols": {
    "lenName": 16,
    "lenType": 16,
    "lenVar": 40
   },
   "kernels_config": {
    "python": {
     "delete_cmd_postfix": "",
     "delete_cmd_prefix": "del ",
     "library": "var_list.py",
     "varRefreshCmd": "print(var_dic_list())"
    },
    "r": {
     "delete_cmd_postfix": ") ",
     "delete_cmd_prefix": "rm(",
     "library": "var_list.r",
     "varRefreshCmd": "cat(var_dic_list()) "
    }
   },
   "types_to_exclude": [
    "module",
    "function",
    "builtin_function_or_method",
    "instance",
    "_Feature"
   ],
   "window_display": false
  }
 },
 "nbformat": 4,
 "nbformat_minor": 5
}
