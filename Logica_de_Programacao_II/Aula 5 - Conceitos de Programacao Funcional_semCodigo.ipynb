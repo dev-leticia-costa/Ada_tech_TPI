{
 "cells": [
  {
   "cell_type": "markdown",
   "id": "ae644e52",
   "metadata": {},
   "source": [
    "# Conceitos de Programação Funcional\n",
    "\n",
    "Neste capítulo vamos abordar um conjunto de técnicas diferente do que temos utilizado até o momento para planejar nossos programas. Para que isso faça sentido, vamos começar entendendo um pouco melhor de que maneiras podemos planejar um programa."
   ]
  },
  {
   "cell_type": "markdown",
   "id": "ad43822d",
   "metadata": {},
   "source": [
    "## Paradigmas de programação\n",
    "\n",
    "Um conceito bastante importante em programação é a ideia de **paradigmas de programação**. Um paradigma é uma forma diferente de pensar o seu programa. \n",
    "\n",
    "Todos os nossos programas até agora consistem de uma sequência de **instruções** para o computador. Essas instruções são executadas sequencialmente. A ideia de um programa como um conjunto sequencial de instruções é conhecido como **paradigma imperativo** ou **programação imperativa**, pois o programa pode ser visualizado como um conjunto de verbos no imperativo.\n",
    "\n",
    "Na prática, nossos programas não são 100% sequenciais, e conseguimos ramificar o fluxo de execução através de condicionais ou malhas de repetição. O uso dessas técnicas foi uma evolução na forma de programar e é conhecido como **programação estruturada**.\n",
    "\n",
    "Indo um pouco além, dificilmente escrevemos blocos muito grandes de código de uma vez. Ao longo deste curso, criamos o hábito de modularizar os nossos programas encaixando pequenos pedaços de lógica dentro de funções, que agem como *mini-programas*, e o nosso programa se desenvolve através da interação entre essas funções. Essa forma de programação é conhecida como **programação procedural**. A programação procedural é uma forma mais específica de programação imperativa.\n",
    "\n",
    "A **programação orientada a objetos** é outro paradigma de programação, onde o foco do programa está na modelagem dos nossos programas como resultado da interação entre diferentes objetos, que possuem seu comportamento ditado por suas respectivas classes. Porém, dentro das classes nós desenvolvemos *métodos*, que são bastante semelhantes às funções que já conhecemos,  e portanto, essa também é uma forma de programação imperativa.\n",
    "\n",
    "Um ponto importante sobre a relação entre paradigmas e linguagens de programação é que para programar utilizando um certo paradigma, muitas vezes será necessário que a linguagem forneça ferramentas específicas para tal. Por exemplo, é difícil aplicar o paradigma orientado a objeto utilizando uma linguagem que não suporte conceitos importantes deste paradigma, como os próprios objetos, com seus atributos e métodos.\n",
    "\n",
    "O Python oferece ferramentas para auxiliar na programação procedural, na programação orientada a objeto e na programação funcional, que já discutiremos.\n",
    "\n",
    "Existe todo um conjunto de formas diferentes de programar conhecido como **programação declarativa**, onde o programador irá se preocupar mais em descrever os resultados desejados do que em enfileirar instruções. O foco está em **o que** deve ser feito, e não em **como** deve ser feito. Uma forma de programação declarativa é a **programação funcional**."
   ]
  },
  {
   "cell_type": "markdown",
   "id": "90273dcd",
   "metadata": {},
   "source": [
    "## O que é programação funcional\n",
    "\n",
    "Assim como na programação procedural, nossos programas serão modularizados em funções, pequenos pedaços reutilizáveis de código que podem receber dados de entrada (parâmetros) e fornecer resultados de sua computação (retorno).\n",
    "\n",
    "Uma das motivações para a adoção da programação funcional é aumentar o **determinismo** de nossos programas, isto é, tornar a execução dos programas mais previsíveis. Programas escritos de maneira imperativa tendem a ter efeitos colaterais causados por seu **estado**. O estado de um programa é definido pelo valor de todas as suas variáveis em um dado momento.\n",
    "\n",
    "Quando um programa se torna muito grande, com diversas funções alterando o conteúdo de diferentes variáveis e objetos, torna-se cada vez mais perigoso que o programador perca o controle sobre o estado do programa, sendo possível que certos conjuntos de valores alterem o comportamento de outras funções e resultem em erros de computação."
   ]
  },
  {
   "cell_type": "markdown",
   "id": "78e37702",
   "metadata": {},
   "source": [
    "### Funções puras\n",
    "\n",
    "Para evitar o não-determinismo, um conceito importante é o de **funções puras**. Uma função pura não possui **efeitos colaterais**, ou seja, seu funcionamento não irá alterar conteúdo na memória (ex: variáveis) ou dispositivos de entrada e saída. Isso traz algumas vantagens:\n",
    "\n",
    "* Se nenhum parâmetro da função causa efeitos colaterais, então a função sempre apresentará o mesmo resultado ao receber os mesmos argumentos.\n",
    "* Se não houver dependência entre os dados de duas funções puras, elas podem ser executadas em paralelo sem causar problemas de concorrência.\n",
    "* Se o retorno de uma função sem efeitos colaterais não está sendo usado, ela pode ser removida sem afetar o restante do programa.\n",
    "\n",
    "Vejamos alguns exemplos:"
   ]
  },
  {
   "cell_type": "code",
   "execution_count": null,
   "id": "04bf7b1a",
   "metadata": {
    "ExecuteTime": {
     "end_time": "2023-07-21T22:45:28.725645Z",
     "start_time": "2023-07-21T22:45:28.713056Z"
    }
   },
   "outputs": [],
   "source": []
  },
  {
   "cell_type": "markdown",
   "id": "5b542420",
   "metadata": {},
   "source": [
    "Note que no exemplo acima não utilizamos o retorno de nenhuma das funções. A `funcao_pura` poderia facilmente ser removida e nada mudaria, pois ela não provocou efeitos colaterais. Já a `funcao_impura` afeta o conteúdo da lista que foi passada, o que significa que sua ausência no programa alteraria o resultado."
   ]
  },
  {
   "cell_type": "markdown",
   "id": "f169f278",
   "metadata": {},
   "source": [
    "### Funções de primeira classe e funções de alta ordem\n",
    "\n",
    "Dizemos que algumas linguagens tratam funções como *cidadãs de primeira classe*. Isso significa que nessa linguagem funções podem:\n",
    "1) ser atribuídas para variáveis ou guardadas em estruturas de dados\n",
    "2) ser passadas como parâmetros para outras funções\n",
    "3) ser retornadas por outras funções\n",
    "\n",
    "É como se funções fossem variáveis como qualquer outra, de um tipo específico \"função\".\n",
    "\n",
    "Essas características permitem a criação de **funções de alta ordem**, que são funções que recebem pelo menos uma função como parâmetro e/ou retornam uma função. Vejamos alguns exemplos:"
   ]
  },
  {
   "cell_type": "markdown",
   "id": "851f1f74",
   "metadata": {},
   "source": [
    "1) Atribuindo função para uma variável em Python"
   ]
  },
  {
   "cell_type": "code",
   "execution_count": null,
   "id": "b372a641",
   "metadata": {
    "ExecuteTime": {
     "end_time": "2023-11-10T12:41:04.831397Z",
     "start_time": "2023-11-10T12:41:04.809234Z"
    }
   },
   "outputs": [],
   "source": []
  },
  {
   "cell_type": "markdown",
   "id": "577467bc",
   "metadata": {},
   "source": [
    "2) Passando uma função como parâmetro para outra função"
   ]
  },
  {
   "cell_type": "code",
   "execution_count": null,
   "id": "2eacaf50",
   "metadata": {
    "ExecuteTime": {
     "end_time": "2023-07-21T22:57:24.943153Z",
     "start_time": "2023-07-21T22:57:24.933642Z"
    }
   },
   "outputs": [],
   "source": []
  },
  {
   "cell_type": "markdown",
   "id": "842aa252",
   "metadata": {},
   "source": [
    "3) Retornando uma função"
   ]
  },
  {
   "cell_type": "code",
   "execution_count": null,
   "id": "65d23073",
   "metadata": {
    "ExecuteTime": {
     "end_time": "2023-07-21T23:02:53.667157Z",
     "start_time": "2023-07-21T23:02:53.657895Z"
    }
   },
   "outputs": [],
   "source": []
  },
  {
   "cell_type": "markdown",
   "id": "309b0429",
   "metadata": {},
   "source": [
    "### Clausura\n",
    "\n",
    "Uma possibilidade criada por todas essas estratégias é a de uma **closure** (*clausura* em algumas traduções em português), onde uma função pode ser usada para criar outra função junto de um **ambiente**. Soa complicado, mas através de um exemplo podemos entender facilmente o que está acontecendo:"
   ]
  },
  {
   "cell_type": "code",
   "execution_count": null,
   "id": "ff1093b2",
   "metadata": {
    "ExecuteTime": {
     "end_time": "2023-07-21T23:09:31.336417Z",
     "start_time": "2023-07-21T23:09:31.327347Z"
    }
   },
   "outputs": [],
   "source": []
  },
  {
   "cell_type": "markdown",
   "id": "9f404252",
   "metadata": {},
   "source": [
    "A função \"mais interna\" possui um valor que foi recebido como parâmetro pela função mais externa. Quando chamamos a função `cria_somas` passando 1, a função interna foi definida como sempre retornando seu parâmetro + 1. Sendo assim, ao pegarmos essa função retornada, ela permanentemente retornará parâmetro + 1. No segundo caso passamos -1. Neste caso, a função mais interna foi criada com x valendo -1. Logo, ao pegarmos essa função, ela sempre irá retornar seu parâmetro - 1."
   ]
  },
  {
   "cell_type": "markdown",
   "id": "45320589",
   "metadata": {},
   "source": [
    "### Funções anônimas\n",
    "\n",
    "Outro conceito bastante comum na programação funcional é o de **funções anônimas**, também conhecidas como **funções lambda**. Elas são funções que não necessariamente precisam ser declaradas - no caso do Python, utilizando a palavra `def` - e atribuídas para um nome. A sintaxe para criar uma função lambda em Python é:\n",
    "\n",
    "`lambda parametro1, parametro2... : expressao`\n",
    "\n",
    "Assim como em outras funções, a lambda pode ser chamada passando parâmetros entre parênteses e sua expressão será retornada. Não utilizamos a palavra `return`, já é subentendido que o resultado da lambda será retornado.\n",
    "\n",
    "É comum utilizarmos funções lambda para rapidamente passar um parâmetro para uma função ou obter um retorno de uma função. Vejamos alguns exemplos anteriores refeitos utilizando lambdas:"
   ]
  },
  {
   "cell_type": "code",
   "execution_count": null,
   "id": "8050d962",
   "metadata": {
    "ExecuteTime": {
     "end_time": "2023-07-21T23:20:07.885709Z",
     "start_time": "2023-07-21T23:20:07.874654Z"
    }
   },
   "outputs": [],
   "source": []
  },
  {
   "cell_type": "markdown",
   "id": "81890a57",
   "metadata": {},
   "source": [
    "### Imutabilidade\n",
    "\n",
    "Outro ponto bastante explorado pela programação funcional é tentar evitar o uso de estruturas mutáveis. Isso ocorre para evitar efeitos colaterais, como problemas de **concorrência** na execução paralela de diferentes trechos de código que poderiam afetar uma mesma estrutura.\n",
    "\n",
    "Ao invés de atualizarmos diferentes variáveis para ir salvando o estado de operações, iremos compor chamadas de funções de alta ordem e funções recursivas, e as informações irão fluir através de seus parâmetros e retornos. \n",
    "\n",
    "Veremos logo mais algumas funções de alta ordem *tradicionais* e como elas nos ajudam a evitar a mutabilidade."
   ]
  },
  {
   "cell_type": "markdown",
   "id": "0ed5f2ea",
   "metadata": {},
   "source": [
    "### Recursão\n",
    "\n",
    "Laços de repetição tradicionais, como o _for_, apresentam pelo menos dois possíveis problemas.\n",
    "\n",
    "O primeiro deles é a necessidade de mutabilidade e variáveis de controle. Frequentemente, controlamos nossas repetições incrementando algum tipo de variável e testando seu valor.\n",
    "\n",
    "O segundo é a própria legibilidade do loop: parte do código gerado é para controlar as repetições, e pode se distanciar um pouco da definição do problema em si.\n",
    "\n",
    "Você já estudou esse conceito antes, mas vamos relembrar: recursão é quando uma função é capaz de chamar a si mesma. Tipicamente funções recursivas possuem 1 ou mais **casos base**, ou seja, casos onde nenhuma computação será feita e o resultado será retornado de maneira imediata, e o **caso geral** ou **caso recursivo**, onde o problema será subdividido em sucessivas chamadas para a função, variando seus parâmetros até que um caso base seja atingido.\n",
    "\n",
    "Um exemplo clássico das aulas de programação é a sequência de Fibonacci. Uma das formas de definir essa sequência é a seguinte:\n",
    "* F(0) = 1\n",
    "* F(1) = 1\n",
    "* F(n) = F(n-1) + F(n-2), se n > 1\n",
    "\n",
    "Compare agora um código em loop (chamado de código **iterativo**) com um código **recursivo**. Note que no recursivo não utilizamos qualquer tipo de dado mutável. Observe também qual dos códigos lembra mais a definição original da sequência."
   ]
  },
  {
   "cell_type": "code",
   "execution_count": null,
   "id": "e279e051",
   "metadata": {
    "ExecuteTime": {
     "end_time": "2023-07-22T00:02:09.398070Z",
     "start_time": "2023-07-22T00:02:09.374843Z"
    }
   },
   "outputs": [],
   "source": []
  },
  {
   "cell_type": "code",
   "execution_count": null,
   "id": "8d30aae4",
   "metadata": {
    "ExecuteTime": {
     "end_time": "2023-07-22T00:03:53.714192Z",
     "start_time": "2023-07-22T00:02:22.336996Z"
    }
   },
   "outputs": [],
   "source": []
  },
  {
   "cell_type": "markdown",
   "id": "2f3c89f6",
   "metadata": {},
   "source": [
    "Uma desvantagem da recursão é a possibilidade de muitos cálculos repetidos serem realizados. Para calcular F(5), teremos F(4) + F(3). Mas no F(4), o F(3) irá aparecer novamente.\n",
    "\n",
    "Algumas linguagens oferecem um recurso chamado de **tail recursion**, ou **recursão de cauda**. Nelas, o resultado de chamadas recursivas recentes é temporariamente armazenado e pode ser reutilizado em outras chamadas. O Python **NÃO** possui recursão de cauda nativamente, mas é possível manipularmos os parâmetros de nossas funções para obter esse tipo de recursão na prática. Observe o código abaixo:"
   ]
  },
  {
   "cell_type": "code",
   "execution_count": null,
   "id": "63c72754",
   "metadata": {
    "ExecuteTime": {
     "end_time": "2023-07-22T00:01:55.334029Z",
     "start_time": "2023-07-22T00:01:55.311149Z"
    }
   },
   "outputs": [],
   "source": []
  },
  {
   "cell_type": "code",
   "execution_count": null,
   "id": "f6026911",
   "metadata": {},
   "outputs": [],
   "source": []
  },
  {
   "cell_type": "markdown",
   "id": "125cfb6e",
   "metadata": {},
   "source": [
    "Em cada passo recursivo, atualizamos n2 com a próxima soma, o valor anterior de n2 passa para n1, e o nosso n decrementa rumo ao caso base. Ao contrário da chamada recursiva anterior, observe que não estamos mais \"ramificando\" nossas chamadas recursivas, e as chamadas estão sendo resolvidas de maneira mais linear, com cada passo aproveitando os dois resultados anteriores."
   ]
  },
  {
   "cell_type": "markdown",
   "id": "9b06d64c",
   "metadata": {},
   "source": [
    "### Funções de alta ordem em coleções\n",
    "\n",
    "Qualquer função que receba ou retorne uma função é considerada uma função de alta ordem. Mas três funções de alta ordem são consideradas bastante importantes porque permitem realizar diversas operações úteis sobre coleções (listas, arrays, tuplas, etc). Elas resolvem problemas tradicionais envolvendo as coleções, mas sem a necessidade de utilizar loops. Além disso, elas sempre irão retornar uma nova lista ou um valor, não alterando o conteúdo da função original. Elas são as funções `map`, `filter` e `reduce`."
   ]
  },
  {
   "cell_type": "markdown",
   "id": "22deb439",
   "metadata": {},
   "source": [
    "#### Map\n",
    "\n",
    "A função map recebe uma função e uma coleção. Ela irá aplicar a função recebida sobre cada um dos elementos da coleção, retornando uma nova coleção com os retornos de cada uma dessas chamadas.\n",
    "\n",
    "Em Python, a função map retorna um **iterador**, então cabe a nós convertê-lo para uma estrutura caso necessário, como lista ou tupla."
   ]
  },
  {
   "cell_type": "code",
   "execution_count": null,
   "id": "ea4bca82",
   "metadata": {
    "ExecuteTime": {
     "end_time": "2023-07-22T00:14:31.255627Z",
     "start_time": "2023-07-22T00:14:31.230256Z"
    }
   },
   "outputs": [],
   "source": []
  },
  {
   "cell_type": "markdown",
   "id": "24302d51",
   "metadata": {},
   "source": [
    "A função map é bastante conhecida no meio da programação funcional e é oferecida em diversas linguagens. Por exemplo, em JavaScript - uma linguagem multiparadigma como o Python - é comum o uso de map, bem como o das outras duas funções que estudaremos.\n",
    "\n",
    "Apesar do Python trazer a função implementada, é possível reproduzir a funcionalidade do map utilizando uma compreensão de lista ou uma expressão geradora. O resultado é equivalente: evitamos mutabilidade e efeitos colaterais, geramos uma coleção nova a partir da antiga, mas o código fica mais _idiomático_."
   ]
  },
  {
   "cell_type": "code",
   "execution_count": null,
   "id": "e5f383cc",
   "metadata": {
    "ExecuteTime": {
     "end_time": "2023-07-22T00:23:27.014347Z",
     "start_time": "2023-07-22T00:23:26.998097Z"
    }
   },
   "outputs": [],
   "source": []
  },
  {
   "cell_type": "markdown",
   "id": "0628e74d",
   "metadata": {},
   "source": [
    "#### Filter\n",
    "\n",
    "A função `filter` também recebe uma função que deve retornar um booleano e uma coleção. Ela irá conter apenas os elementos da coleção que provocaram valor `True` na função passada."
   ]
  },
  {
   "cell_type": "code",
   "execution_count": null,
   "id": "f0568304",
   "metadata": {
    "ExecuteTime": {
     "end_time": "2023-07-22T00:28:41.079212Z",
     "start_time": "2023-07-22T00:28:41.056883Z"
    }
   },
   "outputs": [],
   "source": []
  },
  {
   "cell_type": "markdown",
   "id": "c633767a",
   "metadata": {},
   "source": [
    "Assim como no caso do map, podemos reproduzir a funcionalidade do filter de maneira mais _pythonica_ utilizando compreensão de lista ou expressão geradora:"
   ]
  },
  {
   "cell_type": "code",
   "execution_count": null,
   "id": "0c656b7d",
   "metadata": {
    "ExecuteTime": {
     "end_time": "2023-07-22T00:30:03.778385Z",
     "start_time": "2023-07-22T00:30:03.764006Z"
    }
   },
   "outputs": [],
   "source": []
  },
  {
   "cell_type": "markdown",
   "id": "7512ffd0",
   "metadata": {},
   "source": [
    "#### Reduce\n",
    "\n",
    "A última função especial de alta ordem envolvendo coleções que estudaremos é o `reduce`. Além da função e da coleção, ele receberá também um valor inicial. Ele irá aplicar a função entre o valor inicial e o primeiro valor da coleção. Em seguida, entre o resultado dessa operação e o segundo valor da coleção. Depois, entre o resultado desta operação e o terceiro valor da coleção, e assim sucessivamente. Ou seja, ele **acumula** uma operação ao longo de uma coleção. O exemplo mais tradicional é o somatório.\n",
    "\n",
    "Se você possui uma lista contendo os valores [1, 3, 5, 7, 9] e utilizar o reduce com valor inicial 0, ele retornará o resultado de:\n",
    "\n",
    "(((((0 + 1) + 3) + 5) + 7) + 9)\n",
    "\n",
    "No Python, o reduce não é uma função nativa como o map e o filter, e devemos importá-la de `functools`."
   ]
  },
  {
   "cell_type": "code",
   "execution_count": null,
   "id": "d14e8baa",
   "metadata": {
    "ExecuteTime": {
     "end_time": "2023-07-22T00:33:51.797993Z",
     "start_time": "2023-07-22T00:33:51.784915Z"
    }
   },
   "outputs": [],
   "source": []
  },
  {
   "cell_type": "markdown",
   "id": "be81a65e",
   "metadata": {},
   "source": [
    "Um uso muito legal do reduce é para agrupar dados em categorias. Considere a estrutura abaixo, que lista os cursos de diferentes professores da Ada:\n",
    "\n",
    "```py\n",
    "professores = {\n",
    "    'Brian': 'Python',\n",
    "    'Bruna': 'DevOps',\n",
    "    'Cabral': 'JavaScript',\n",
    "    'Rafael': 'Python',\n",
    "}\n",
    "```\n",
    "\n",
    "Vamos criar uma estrutura por categoria. Ela fará nosso papel de acumulador e será algo assim:\n",
    "\n",
    "```\n",
    "{'Python': [], 'JavaScript': [], 'DevOps':[]}\n",
    "```\n",
    "\n",
    "Ela será determinada de maneira **automática**, ou seja, vamos determinando as disciplinas e adicionando ao dicionário.\n",
    "\n",
    "Por fim, precisamos criar a função que usaremos. Para fugir de usar variáveis globais, podemos fazer uma função que gera funções a partir de um dicionário, que tal?"
   ]
  },
  {
   "cell_type": "code",
   "execution_count": null,
   "id": "18fa572b",
   "metadata": {
    "ExecuteTime": {
     "end_time": "2023-07-22T00:39:25.558041Z",
     "start_time": "2023-07-22T00:39:25.534072Z"
    },
    "scrolled": true
   },
   "outputs": [],
   "source": []
  },
  {
   "cell_type": "markdown",
   "id": "9d8cc99c",
   "metadata": {},
   "source": [
    "> A ideia não é que você nunca mais utilize técnicas de programação imperativa. O Python não é uma linguagem funcional pura, e muitos de seus recursos mais úteis estão ligados à programação orientada a objeto, por exemplo.\n",
    "> \n",
    "> Porém, você agora é capaz de analisar de maneira mais crítica o impacto de diferentes técnicas para resolver um problema e fazer uma escolha mais consciente refletindo sobre os seus benefícios e suas desvantagens.\n",
    "> \n",
    "> As ferramentas funcionais são mais instrumentos para sua caixinha de ferramentas, que podem ser incorporados parcialmente em programas orientados a objeto, como ocorre com frequência, por exemplo, no desenvolvimento web em JavaScript.\n",
    "\n",
    "Algumas referências (em inglês) caso você queira se aprofundar:\n",
    "\n",
    "* Uma explicação mais profunda sobre como recursão funciona na memória do computador e como isso muda quando implementamos recursão de cauda: https://towardsdatascience.com/python-stack-frames-and-tail-call-optimization-4d0ea55b0542\n",
    "* Um pouco mais sobre recursão vs loops: https://arstechnica.com/information-technology/2013/04/recursion-or-while-loops-which-is-better\n",
    "* O Real Python possui alguns tutoriais e artigos breves e gratuitos [aqui](https://realpython.com/python-functional-programming/) de programação funcional em Python e um curso (pago) mais completo [aqui](https://realpython.com/courses/functional-programming-python/). O material completo deles inclui mais detalhes também sobre map, filter e reduce. O índice está disponível [aqui](https://realpython.com/learning-paths/functional-programming/)."
   ]
  }
 ],
 "metadata": {
  "kernelspec": {
   "display_name": "Python 3 (ipykernel)",
   "language": "python",
   "name": "python3"
  },
  "language_info": {
   "codemirror_mode": {
    "name": "ipython",
    "version": 3
   },
   "file_extension": ".py",
   "mimetype": "text/x-python",
   "name": "python",
   "nbconvert_exporter": "python",
   "pygments_lexer": "ipython3",
   "version": "3.10.2"
  },
  "latex_envs": {
   "LaTeX_envs_menu_present": true,
   "autoclose": false,
   "autocomplete": true,
   "bibliofile": "biblio.bib",
   "cite_by": "apalike",
   "current_citInitial": 1,
   "eqLabelWithNumbers": true,
   "eqNumInitial": 1,
   "hotkeys": {
    "equation": "Ctrl-E",
    "itemize": "Ctrl-I"
   },
   "labels_anchors": false,
   "latex_user_defs": false,
   "report_style_numbering": false,
   "user_envs_cfg": false
  },
  "toc": {
   "base_numbering": 1,
   "nav_menu": {},
   "number_sections": true,
   "sideBar": true,
   "skip_h1_title": false,
   "title_cell": "Table of Contents",
   "title_sidebar": "Contents",
   "toc_cell": false,
   "toc_position": {},
   "toc_section_display": true,
   "toc_window_display": false
  },
  "varInspector": {
   "cols": {
    "lenName": 16,
    "lenType": 16,
    "lenVar": 40
   },
   "kernels_config": {
    "python": {
     "delete_cmd_postfix": "",
     "delete_cmd_prefix": "del ",
     "library": "var_list.py",
     "varRefreshCmd": "print(var_dic_list())"
    },
    "r": {
     "delete_cmd_postfix": ") ",
     "delete_cmd_prefix": "rm(",
     "library": "var_list.r",
     "varRefreshCmd": "cat(var_dic_list()) "
    }
   },
   "types_to_exclude": [
    "module",
    "function",
    "builtin_function_or_method",
    "instance",
    "_Feature"
   ],
   "window_display": false
  }
 },
 "nbformat": 4,
 "nbformat_minor": 5
}
