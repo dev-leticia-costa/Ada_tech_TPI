{
 "cells": [
  {
   "cell_type": "markdown",
   "id": "f1c7974d",
   "metadata": {},
   "source": [
    "# Compreensão de listas e expressões geradoras\n",
    "\n",
    "Muito do que estudamos até o momento em Python pode ser reproduzido de maneira parecida em outras linguagens. Comandos como if, else, while e for, bem como conceitos como criar funções, passar parâmetros e retornar valores são comuns a uma infinidade de linguagens de programação.\n",
    "\n",
    "Porém, um dos objetivos da linguagem Python é realizar o máximo possível de trabalho com a menor quantidade possível de código, resultando em um código mais limpo e com menos efeitos colaterais. \n",
    "\n",
    "Com isso, o Python traz maneiras diferentes e mais enxutas de resolver problemas que já lidávamos bem utilizando outras técnicas. Parte dessas técnicas foi inspirada em conceitos de **programação funcional**, que será explicada um pouco melhor em um capítulo futuro.\n",
    "\n",
    "As **compreensões de listas** e **expressões geradoras** são algumas dessas ferramentas."
   ]
  },
  {
   "cell_type": "markdown",
   "id": "33cff288",
   "metadata": {},
   "source": [
    "## Compreensão de listas\n",
    "\n",
    "### Compreensão de listas contendo apenas um loop\n",
    "Vamos considerar um problema simples: montar uma lista com os quadrados dos números de 1 até 10. Você provavelmente resolveria esse problema da seguinte maneira:"
   ]
  },
  {
   "cell_type": "code",
   "execution_count": null,
   "id": "f806c2b5",
   "metadata": {
    "ExecuteTime": {
     "end_time": "2023-07-17T22:23:20.633336Z",
     "start_time": "2023-07-17T22:23:20.628809Z"
    }
   },
   "outputs": [],
   "source": []
  },
  {
   "cell_type": "markdown",
   "id": "195dfc8f",
   "metadata": {},
   "source": [
    "Note que utilizamos 3 linhas de código para criar uma lista: uma para declarar a lista, uma para percorrer alguns valores e uma para executar o cálculo e adicionar o resultado à lista.\n",
    "\n",
    "Além disso, criamos uma variável extra, `x`, que segue existindo em nosso programa mesmo após o loop, como você pode observar pelo segundo `print` do exemplo.\n",
    "\n",
    "A **compreensão de listas** resolve todos esses problemas: iremos resumir em uma única linha a criação da nova lista já com todos os valores desejados, e sem variáveis *sobrando* após a execução:"
   ]
  },
  {
   "cell_type": "code",
   "execution_count": null,
   "id": "85dbf343",
   "metadata": {
    "ExecuteTime": {
     "end_time": "2023-07-17T22:31:10.778450Z",
     "start_time": "2023-07-17T22:31:10.772925Z"
    }
   },
   "outputs": [],
   "source": []
  },
  {
   "cell_type": "markdown",
   "id": "af5ee696",
   "metadata": {},
   "source": [
    "Note que a variável `x`, criada na versão extensa, ainda existe. A variável `num`, utilizada na compreensão, não:"
   ]
  },
  {
   "cell_type": "code",
   "execution_count": null,
   "id": "93170daf",
   "metadata": {
    "ExecuteTime": {
     "end_time": "2023-07-17T22:28:55.330911Z",
     "start_time": "2023-07-17T22:28:55.324712Z"
    }
   },
   "outputs": [],
   "source": []
  },
  {
   "cell_type": "code",
   "execution_count": null,
   "id": "95423487",
   "metadata": {
    "ExecuteTime": {
     "end_time": "2023-07-17T22:28:57.935116Z",
     "start_time": "2023-07-17T22:28:57.873629Z"
    }
   },
   "outputs": [],
   "source": []
  },
  {
   "cell_type": "markdown",
   "id": "0273f5fb",
   "metadata": {},
   "source": [
    "https://www.datacamp.com/tutorial/python-dictionary-comprehension"
   ]
  },
  {
   "cell_type": "markdown",
   "id": "d838531d",
   "metadata": {},
   "source": [
    "Vale destacar que você não precisa necessariamente utilizar `range` em suas compreensões. Você pode utilizar **qualquer** tipo de iterável, como listas, tuplas, strings etc.\n",
    "\n",
    "O exemplo abaixo monta uma lista contendo a metade do valor de cada elemento de uma outra lista:"
   ]
  },
  {
   "cell_type": "code",
   "execution_count": null,
   "id": "3d2c0726",
   "metadata": {
    "ExecuteTime": {
     "end_time": "2023-07-17T22:34:59.118303Z",
     "start_time": "2023-07-17T22:34:59.110285Z"
    }
   },
   "outputs": [],
   "source": []
  },
  {
   "cell_type": "markdown",
   "id": "bc48d162",
   "metadata": {},
   "source": [
    "### Condicionais em compreensões\n",
    "\n",
    "Podemos utilizar compreensões em nossas condicionais. \n",
    "Imagine que não fossem aceitos valores \"quebrados\" no exemplo anterior. Logo, não podemos dividir os números ímpares, apenas os pares. Fazemos isso usando um `if` na expressão:"
   ]
  },
  {
   "cell_type": "code",
   "execution_count": null,
   "id": "fd0c7631",
   "metadata": {
    "ExecuteTime": {
     "end_time": "2023-07-17T22:35:05.647869Z",
     "start_time": "2023-07-17T22:35:05.638274Z"
    }
   },
   "outputs": [],
   "source": []
  },
  {
   "cell_type": "markdown",
   "id": "e44770fc",
   "metadata": {},
   "source": [
    "Podemos também utilizar `else` na expressão. Vejamos mais um exemplo: \n",
    "\n",
    "Considere que são aceitos números quebrados no exemplo das metades. Porém, não queremos utilizar o tipo float desnecessariamente. Portanto, faremos uma divisão **inteira** quando o número for par (para que o resultado seja int) e uma divisão **real** quando o número for ímpar (para que o resultado seja float). A expressão ficaria assim:"
   ]
  },
  {
   "cell_type": "code",
   "execution_count": null,
   "id": "3f1840fc",
   "metadata": {
    "ExecuteTime": {
     "end_time": "2023-07-17T22:36:59.880160Z",
     "start_time": "2023-07-17T22:36:59.871594Z"
    }
   },
   "outputs": [],
   "source": []
  },
  {
   "cell_type": "markdown",
   "id": "7aa77a07",
   "metadata": {},
   "source": [
    "Note que quando usamos o `else`, a ordem da compreensão sofre uma alteração. Quando usamos apenas o `if`, ele vem após o `for`. Com o ```else```, ambos vêm antes.\n",
    "\n",
    "Outro ponto importante é que no caso do `else` passamos a ter uma segunda expressão. Quando a condição do `if` é verdadeira, a compreensão irá executar a expressão original. Caso contrário, ela irá executar a expressão do `else`.\n",
    "\n",
    "\n",
    "Generalizando a sintaxe das compreensões de lista, temos as seguintes combinações:"
   ]
  },
  {
   "cell_type": "code",
   "execution_count": null,
   "id": "02de0c52",
   "metadata": {
    "ExecuteTime": {
     "end_time": "2022-10-07T23:05:19.664576Z",
     "start_time": "2022-10-07T23:05:19.574150Z"
    }
   },
   "outputs": [],
   "source": []
  },
  {
   "cell_type": "code",
   "execution_count": null,
   "id": "41dc7cf4",
   "metadata": {
    "ExecuteTime": {
     "end_time": "2022-10-07T23:08:26.138824Z",
     "start_time": "2022-10-07T23:08:26.047266Z"
    }
   },
   "outputs": [],
   "source": []
  },
  {
   "cell_type": "code",
   "execution_count": null,
   "id": "cbded6b7",
   "metadata": {
    "ExecuteTime": {
     "end_time": "2022-10-07T23:08:58.580789Z",
     "start_time": "2022-10-07T23:08:58.493856Z"
    }
   },
   "outputs": [],
   "source": []
  },
  {
   "cell_type": "markdown",
   "id": "60c674cb",
   "metadata": {},
   "source": [
    "### Aninhando compreensões\n",
    "\n",
    "É possível aninhar compreensões de lista. Ao colocarmos mais de um `for` consecutivo, o primeiro for será considerado o mais externo, e o seguinte, mais interno. O exemplo abaixo mostra todas as combinações possíveis entre alguns nomes e sobrenomes:"
   ]
  },
  {
   "cell_type": "code",
   "execution_count": null,
   "id": "75d63b88",
   "metadata": {
    "ExecuteTime": {
     "end_time": "2023-07-17T22:50:38.899014Z",
     "start_time": "2023-07-17T22:50:38.888978Z"
    }
   },
   "outputs": [],
   "source": []
  },
  {
   "cell_type": "markdown",
   "id": "a0f027a8",
   "metadata": {
    "ExecuteTime": {
     "end_time": "2022-10-06T17:25:45.233314Z",
     "start_time": "2022-10-06T17:25:45.227305Z"
    }
   },
   "source": [
    "A linha ```combinacoes = [nome + ' ' + sobrenome for nome in nomes for sobrenome in sobrenomes]``` equivale a:"
   ]
  },
  {
   "cell_type": "code",
   "execution_count": null,
   "id": "a517d7a4",
   "metadata": {
    "ExecuteTime": {
     "end_time": "2023-07-17T22:50:31.742096Z",
     "start_time": "2023-07-17T22:50:31.734036Z"
    }
   },
   "outputs": [],
   "source": []
  },
  {
   "cell_type": "markdown",
   "id": "2424176e",
   "metadata": {},
   "source": [
    "Inclusive podemos utilizar essa forma para trabalhar com matrizes. O exemplo abaixo lê pelo teclado a quantidade de vitórias, empates e derrotas para cada time em um grupo:"
   ]
  },
  {
   "cell_type": "code",
   "execution_count": null,
   "id": "882155d5",
   "metadata": {
    "ExecuteTime": {
     "end_time": "2023-07-17T22:58:31.797155Z",
     "start_time": "2023-07-17T22:58:27.344578Z"
    }
   },
   "outputs": [],
   "source": []
  },
  {
   "cell_type": "markdown",
   "id": "4d6c6d02",
   "metadata": {},
   "source": [
    "### Compreensão de dicionários\n",
    "\n",
    "Da mesma forma que utilizamos compreensão para listas, podemos utilizá-la para dicionários. A diferença é que precisamos, obrigatoriamente, passar um par chave-valor. O exemplo abaixo parte de uma lista de notas e uma lista de alunos e chega em um dicionário associando cada aluno a uma nota."
   ]
  },
  {
   "cell_type": "code",
   "execution_count": null,
   "id": "d3a4d4ef",
   "metadata": {
    "ExecuteTime": {
     "end_time": "2023-07-17T23:00:25.009206Z",
     "start_time": "2023-07-17T23:00:24.996660Z"
    }
   },
   "outputs": [],
   "source": []
  },
  {
   "cell_type": "markdown",
   "id": "e8cf8e09",
   "metadata": {},
   "source": [
    "Talvez você não tenha achado esse código tão *pythonico*, e você tem razão. Não gostamos de percorrer listas por índices dessa maneira. Uma estratégia melhor é utilizar o *zip*, estudado em capítulos anteriores:"
   ]
  },
  {
   "cell_type": "code",
   "execution_count": null,
   "id": "91bb97b4",
   "metadata": {
    "ExecuteTime": {
     "end_time": "2023-07-17T23:01:53.614370Z",
     "start_time": "2023-07-17T23:01:53.604300Z"
    }
   },
   "outputs": [],
   "source": []
  },
  {
   "cell_type": "code",
   "execution_count": null,
   "id": "fd42e6d3",
   "metadata": {
    "ExecuteTime": {
     "end_time": "2023-07-17T23:26:44.364295Z",
     "start_time": "2023-07-17T23:26:44.352230Z"
    }
   },
   "outputs": [],
   "source": []
  },
  {
   "cell_type": "code",
   "execution_count": null,
   "id": "611026dc",
   "metadata": {
    "ExecuteTime": {
     "end_time": "2023-07-17T23:03:27.669948Z",
     "start_time": "2023-07-17T23:03:27.659418Z"
    }
   },
   "outputs": [],
   "source": []
  },
  {
   "cell_type": "markdown",
   "id": "a2f0c37f",
   "metadata": {},
   "source": [
    "> \n",
    "> **Observação:** se você tentou fazer uma compreensão de dicionário e esqueceu de utilizar um par chave-valor, talvez você tenha se surpreendido ao notar que não gerou um erro. Isso ocorre porque existe *outra* estrutura de dados em Python que não estudamos no curso que utiliza os símbolos **{** e **}**: o `set` (conjunto). Ele é uma coleção **mutável** de elementos (como a lista), mas ele não possui índice (porque a ordem não importa) e ele não aceita elementos repetidos. Caso tenha curiosidade, segue material de referência com o básico de como trabalhar com conjuntos: https://www.programiz.com/python-programming/set\n",
    "> "
   ]
  },
  {
   "cell_type": "markdown",
   "id": "5ad100bb",
   "metadata": {},
   "source": [
    "## Expressões geradoras\n",
    "\n",
    "### Criando uma expressão geradora\n",
    "\n",
    "Se você executar o código abaixo, não notará erros de execução. Ambas as linhas executam com sucesso:"
   ]
  },
  {
   "cell_type": "code",
   "execution_count": null,
   "id": "f07eba9a",
   "metadata": {
    "ExecuteTime": {
     "end_time": "2023-07-17T23:27:48.767090Z",
     "start_time": "2023-07-17T23:27:48.748495Z"
    }
   },
   "outputs": [],
   "source": []
  },
  {
   "cell_type": "markdown",
   "id": "67bdc9fa",
   "metadata": {
    "ExecuteTime": {
     "end_time": "2022-10-06T17:32:11.511125Z",
     "start_time": "2022-10-06T17:32:11.483932Z"
    }
   },
   "source": [
    "Listas são representadas por colchetes, e fazemos compreensão de listas utilizando colchetes. Dicionários utilizam chaves (**{** e **}**), e utilizamos chaves para fazer compreensão de dicionários. A expressão entre parênteses só pode ser uma tupla, certo?\n",
    "\n",
    "Errado. Não existe compreensão de tuplas em Python. Quando colocamos uma expressão semelhante a uma compreensão de lista entre parênteses, estamos criando uma expressão geradora. Note que podemos iterar uma expressão geradora:"
   ]
  },
  {
   "cell_type": "code",
   "execution_count": null,
   "id": "51a49c5a",
   "metadata": {
    "ExecuteTime": {
     "end_time": "2023-07-17T23:29:59.653957Z",
     "start_time": "2023-07-17T23:29:59.632935Z"
    }
   },
   "outputs": [],
   "source": []
  },
  {
   "cell_type": "markdown",
   "id": "a7eaf7ad",
   "metadata": {},
   "source": [
    "Também podemos convertê-la para outras estruturas, como uma lista ou uma tupla:"
   ]
  },
  {
   "cell_type": "code",
   "execution_count": null,
   "id": "b05e1e5e",
   "metadata": {
    "ExecuteTime": {
     "end_time": "2023-07-17T23:31:34.771127Z",
     "start_time": "2023-07-17T23:31:34.761212Z"
    }
   },
   "outputs": [],
   "source": []
  },
  {
   "cell_type": "markdown",
   "id": "b97f5591",
   "metadata": {},
   "source": [
    "Porém, não podemos utilizar nosso gerador uma segunda vez. Execute o código abaixo:"
   ]
  },
  {
   "cell_type": "code",
   "execution_count": null,
   "id": "9e05e96f",
   "metadata": {
    "ExecuteTime": {
     "end_time": "2023-07-17T23:39:50.651518Z",
     "start_time": "2023-07-17T23:39:50.642308Z"
    }
   },
   "outputs": [],
   "source": []
  },
  {
   "cell_type": "code",
   "execution_count": null,
   "id": "e2652101",
   "metadata": {
    "ExecuteTime": {
     "end_time": "2023-07-17T23:39:52.775763Z",
     "start_time": "2023-07-17T23:39:52.757601Z"
    }
   },
   "outputs": [],
   "source": []
  },
  {
   "cell_type": "markdown",
   "id": "a0d8545b",
   "metadata": {},
   "source": [
    "Para entender porque o resultado foi uma lista vazia, precisamos entender a diferença entre um **iterável** e um **iterador** em Python."
   ]
  },
  {
   "cell_type": "markdown",
   "id": "d6cdda67",
   "metadata": {},
   "source": [
    "### Iteráveis e iteradores\n",
    "\n",
    "Um **iterável** é um objeto em Python que podemos percorrer utilizando um loop. Geralmente pensamos em iteráveis como algum tipo de coleção. Listas, tuplas, dicionários e strings são todos iteráveis.\n",
    "\n",
    "Porém, o que o loop realmente utiliza não é o iterável, mas o **iterador**. Quando tentamos percorrer um iterável, é criado um iterador a partir dele utilizando a função `iter`. Em cada passo da iteração (do loop), a função `next` é chamada, e ela irá retornar o próximo elemento. Quando os elementos são esgotados, ela irá lançar a exceção (uma espécie de erro sinalizado, que estudaremos em um capítulo futuro) `StopIteration`.\n",
    "\n",
    "Veja o exemplo abaixo:"
   ]
  },
  {
   "cell_type": "code",
   "execution_count": null,
   "id": "1887bbfe",
   "metadata": {
    "ExecuteTime": {
     "end_time": "2023-07-17T23:44:51.641554Z",
     "start_time": "2023-07-17T23:44:51.624488Z"
    }
   },
   "outputs": [],
   "source": []
  },
  {
   "cell_type": "code",
   "execution_count": null,
   "id": "29fad7a4",
   "metadata": {
    "ExecuteTime": {
     "end_time": "2023-07-17T23:46:15.403119Z",
     "start_time": "2023-07-17T23:46:15.394018Z"
    }
   },
   "outputs": [],
   "source": []
  },
  {
   "cell_type": "code",
   "execution_count": null,
   "id": "904d7e1c",
   "metadata": {
    "ExecuteTime": {
     "end_time": "2023-07-17T23:56:17.362745Z",
     "start_time": "2023-07-17T23:55:54.998071Z"
    }
   },
   "outputs": [],
   "source": []
  },
  {
   "cell_type": "markdown",
   "id": "48c72b39",
   "metadata": {},
   "source": [
    "Uma diferença fundamental entre um **iterável** e um **iterador** é que o iterador já possui todos os exemplos salvos em algum lugar. O iterável não. Ele irá gerar/buscar cada elemento no momento que a função `next` é chamada, e ele não irá salvar os elementos anteriores.\n",
    "\n",
    "Uma expressão geradora não é um **iterável**, ela é um **iterador**. Uma lista é um **iterável**.\n",
    "\n",
    "Ou seja, quando nós fazemos uma compreensão de lista, a expressão é avaliada na mesma hora e todos os elementos são gerados e salvos na memória.\n",
    "\n",
    "Quando utilizamos uma expressão geradora, cada elemento é gerado apenas quando solicitado, e os elementos não ficam salvos."
   ]
  },
  {
   "cell_type": "code",
   "execution_count": null,
   "id": "b0745e41",
   "metadata": {},
   "outputs": [],
   "source": []
  },
  {
   "cell_type": "markdown",
   "id": "d75f8bae",
   "metadata": {},
   "source": [
    "Podemos utilizar expressões geradoras quando:\n",
    "\n",
    "* Iremos trabalhar com uma base de dados tão grande que a geração da lista pode ser excessivamente lenta ou consumir memória demais.  \n",
    "* Quando desejamos obter dados infinitos (uma sequência numérica sem fim, ou então um *stream* de dados que pode estar chegando por um sensor ou pela internet, por exemplo).  \n",
    "* Quando sabemos com certeza absoluta que só precisaremos iterar uma única vez por cada elemento e não precisaremos deles posteriormente.  \n",
    "\n",
    "Caso você precise dos dados mais de uma vez, a expressão geradora deixa de ser atrativa e compensa mais utilizar compreensão de listas."
   ]
  },
  {
   "cell_type": "markdown",
   "id": "b44763e3",
   "metadata": {},
   "source": [
    "## Funções geradoras\n",
    "\n",
    "Expressões geradoras são uma forma compacta para criar iteradores. Uma das formas mais completas envolve utilizar programação orientada a objeto para definir uma classe com alguns métodos específicos para que os objetos se comportem como geradores. A outra envolve utilizar uma função geradora.\n",
    "\n",
    "Funções geradoras lembram bastante funções convencionais, mas ao invés de `return` elas utilizarão a palavra `yield`. \n",
    "\n",
    "A função irá retornar um iterador, e iremos sempre chamar `next` passando esse gerador.\n",
    "\n",
    "Cada vez que o `next` for chamado, o iterador irá executar a função até encontrar o `yield`. O estado da função é salvo e o valor do `yield` é retornado. Quando chamarmos `next` novamente, a função irá executar do ponto que parou até encontrar novamente o `yield`. Quando não houver mais `yield`, a exceção `StopIteraction` será lançada.\n",
    "\n",
    "Vejamos um exemplo:"
   ]
  },
  {
   "cell_type": "code",
   "execution_count": 2,
   "id": "1037f6f1",
   "metadata": {
    "ExecuteTime": {
     "end_time": "2023-07-17T23:57:14.794076Z",
     "start_time": "2023-07-17T23:57:14.783507Z"
    }
   },
   "outputs": [
    {
     "name": "stdout",
     "output_type": "stream",
     "text": [
      "1\n",
      "2\n",
      "3\n"
     ]
    },
    {
     "ename": "StopIteration",
     "evalue": "",
     "output_type": "error",
     "traceback": [
      "\u001b[0;31m---------------------------------------------------------------------------\u001b[0m",
      "\u001b[0;31mStopIteration\u001b[0m                             Traceback (most recent call last)",
      "\u001b[1;32m/home/jumbeba/Downloads/PESSOAL/0. Ada Tech -  DataScience/Lógica de Programação II (PY)/Aula 3 - Compreensao de Listas_semCodigo.ipynb Célula 51\u001b[0m line \u001b[0;36m1\n\u001b[1;32m     <a href='vscode-notebook-cell:/home/jumbeba/Downloads/PESSOAL/0.%20Ada%20Tech%20-%20%20DataScience/L%C3%B3gica%20de%20Programa%C3%A7%C3%A3o%20II%20%28PY%29/Aula%203%20-%20Compreensao%20de%20Listas_semCodigo.ipynb#Y101sZmlsZQ%3D%3D?line=9'>10</a>\u001b[0m \u001b[39mprint\u001b[39m(\u001b[39mnext\u001b[39m(meuGerador))\n\u001b[1;32m     <a href='vscode-notebook-cell:/home/jumbeba/Downloads/PESSOAL/0.%20Ada%20Tech%20-%20%20DataScience/L%C3%B3gica%20de%20Programa%C3%A7%C3%A3o%20II%20%28PY%29/Aula%203%20-%20Compreensao%20de%20Listas_semCodigo.ipynb#Y101sZmlsZQ%3D%3D?line=10'>11</a>\u001b[0m \u001b[39mprint\u001b[39m(\u001b[39mnext\u001b[39m(meuGerador))\n\u001b[0;32m---> <a href='vscode-notebook-cell:/home/jumbeba/Downloads/PESSOAL/0.%20Ada%20Tech%20-%20%20DataScience/L%C3%B3gica%20de%20Programa%C3%A7%C3%A3o%20II%20%28PY%29/Aula%203%20-%20Compreensao%20de%20Listas_semCodigo.ipynb#Y101sZmlsZQ%3D%3D?line=11'>12</a>\u001b[0m \u001b[39mprint\u001b[39m(\u001b[39mnext\u001b[39m(meuGerador))\n",
      "\u001b[0;31mStopIteration\u001b[0m: "
     ]
    }
   ],
   "source": [
    "def funcaoGeradora():\n",
    "\n",
    "    yield 1\n",
    "    yield 2\n",
    "    yield 3\n",
    "\n",
    "meuGerador = funcaoGeradora()\n",
    "\n",
    "print(next(meuGerador))\n",
    "print(next(meuGerador))\n",
    "print(next(meuGerador))\n",
    "print(next(meuGerador))"
   ]
  },
  {
   "cell_type": "markdown",
   "id": "f1defcac",
   "metadata": {},
   "source": [
    "A nossa função geradora pode, inclusive, ter malhas de repetição:"
   ]
  },
  {
   "cell_type": "code",
   "execution_count": 4,
   "id": "078813f0",
   "metadata": {
    "ExecuteTime": {
     "end_time": "2023-07-18T00:02:12.535694Z",
     "start_time": "2023-07-18T00:02:12.527167Z"
    }
   },
   "outputs": [
    {
     "name": "stdout",
     "output_type": "stream",
     "text": [
      "<generator object geradorSequencia at 0x7f940ef70ba0>\n",
      "0\n",
      "1\n",
      "2\n",
      "3\n",
      "4\n"
     ]
    }
   ],
   "source": [
    "def geradorSequencia(limite: int):\n",
    "    contador = 0\n",
    "\n",
    "    while contador < limite:\n",
    "        yield contador\n",
    "        contador += 1\n",
    "\n",
    "iteradorSequencia = geradorSequencia(limite=5)\n",
    "\n",
    "print(iteradorSequencia)\n",
    "\n",
    "for x in iteradorSequencia:\n",
    "    print(x)\n"
   ]
  },
  {
   "cell_type": "code",
   "execution_count": null,
   "id": "6e204938",
   "metadata": {
    "ExecuteTime": {
     "end_time": "2023-07-18T00:04:48.613725Z",
     "start_time": "2023-07-18T00:04:48.608238Z"
    }
   },
   "outputs": [],
   "source": []
  },
  {
   "cell_type": "code",
   "execution_count": null,
   "id": "5668b195",
   "metadata": {
    "ExecuteTime": {
     "end_time": "2023-07-18T00:05:07.691751Z",
     "start_time": "2023-07-18T00:05:07.649302Z"
    }
   },
   "outputs": [],
   "source": []
  },
  {
   "cell_type": "code",
   "execution_count": null,
   "id": "a67144a1",
   "metadata": {},
   "outputs": [],
   "source": []
  },
  {
   "cell_type": "markdown",
   "id": "f66ffa47",
   "metadata": {},
   "source": [
    "Caso tenha interesse em se aprofundar nos assuntos deste capítulo e ver alguns experimentos envolvendo tamanho e performance de cada um, segue algumas boas referências:\n",
    "\n",
    ">https://djangostars.com/blog/list-comprehensions-and-generator-expressions/\n",
    ">\n",
    ">https://towardsdatascience.com/comprehensions-and-generator-expression-in-python-2ae01c48fc50\n",
    ">\n",
    ">https://docs.python.org/3/howto/functional.html#generator-expressions-and-list-comprehensions"
   ]
  },
  {
   "cell_type": "markdown",
   "id": "e73da4fe",
   "metadata": {},
   "source": [
    "1. Coloque em uma lista todos os números entre 1 e 1000 que sejam divisiveis por N, sendo N um número recebido no *standard input*;"
   ]
  },
  {
   "cell_type": "code",
   "execution_count": 5,
   "id": "8595e57e",
   "metadata": {
    "ExecuteTime": {
     "end_time": "2023-07-19T22:07:25.237801Z",
     "start_time": "2023-07-19T22:07:23.322166Z"
    }
   },
   "outputs": [
    {
     "name": "stdout",
     "output_type": "stream",
     "text": [
      "[15, 30, 45, 60, 75, 90, 105, 120, 135, 150, 165, 180, 195, 210, 225, 240, 255, 270, 285, 300, 315, 330, 345, 360, 375, 390, 405, 420, 435, 450, 465, 480, 495, 510, 525, 540, 555, 570, 585, 600, 615, 630, 645, 660, 675, 690, 705, 720, 735, 750, 765, 780, 795, 810, 825, 840, 855, 870, 885, 900, 915, 930, 945, 960, 975, 990]\n"
     ]
    }
   ],
   "source": [
    "N = int(input(\"Digite o valor de N: \"))\n",
    "\n",
    "divisiveis = [x for x in range(1, 1001) if x % N == 0]\n",
    "\n",
    "print(divisiveis)\n"
   ]
  },
  {
   "cell_type": "markdown",
   "metadata": {},
   "source": [
    "2. Coloque em uma lista todos os números entre 1 e 1000 que possuam um dígito N em sua composição, sendo N um número recebido no *standard input*;"
   ]
  },
  {
   "cell_type": "code",
   "execution_count": 6,
   "id": "c9c29957",
   "metadata": {
    "ExecuteTime": {
     "end_time": "2023-07-19T22:09:10.286843Z",
     "start_time": "2023-07-19T22:09:09.094845Z"
    }
   },
   "outputs": [
    {
     "name": "stdout",
     "output_type": "stream",
     "text": [
      "[10, 100, 101, 102, 103, 104, 105, 106, 107, 108, 109, 110, 210, 310, 410, 510, 610, 710, 810, 910, 1000]\n"
     ]
    }
   ],
   "source": [
    "N = input(\"Digite o dígito N: \")\n",
    "\n",
    "N_composicao = [x for x in range(1, 1001) if N in str(x)]\n",
    "\n",
    "print(N_composicao)\n"
   ]
  },
  {
   "cell_type": "markdown",
   "metadata": {},
   "source": [
    "3. Conte o número de espaços em branco em uma *string* recebida pelo *standard input*;"
   ]
  },
  {
   "cell_type": "code",
   "execution_count": 7,
   "id": "804d599e",
   "metadata": {
    "ExecuteTime": {
     "end_time": "2023-07-19T22:10:56.047762Z",
     "start_time": "2023-07-19T22:10:56.040155Z"
    }
   },
   "outputs": [
    {
     "name": "stdout",
     "output_type": "stream",
     "text": [
      "O número de espaços em branco na string é: 4\n"
     ]
    }
   ],
   "source": [
    "entrada = input(\"Digite uma string: \")\n",
    "\n",
    "contagem = sum(1 for caractere in entrada if caractere.isspace())\n",
    "\n",
    "print(f\"O número de espaços em branco na string é: {contagem}\")\n"
   ]
  },
  {
   "cell_type": "markdown",
   "metadata": {},
   "source": [
    "4. Crie uma lista com todas as consoantes em uma frase (de pelo menos 10 palavras) recebidas pelo *standard input*;"
   ]
  },
  {
   "cell_type": "code",
   "execution_count": 15,
   "id": "c34b491f",
   "metadata": {
    "ExecuteTime": {
     "end_time": "2023-07-19T22:12:58.196132Z",
     "start_time": "2023-07-19T22:12:58.188109Z"
    }
   },
   "outputs": [
    {
     "name": "stdout",
     "output_type": "stream",
     "text": [
      "Counter({'s': 8, 'm': 5, 'c': 3, 'r': 3, 'l': 3, 't': 3, 'n': 3, 'd': 2, 'p': 2, 'f': 1, 'v': 1})\n",
      "['c', 'r', 'm', 'l', 's', 't', 'c', 'm', 't', 'd', 's', 's', 'c', 'n', 's', 'n', 't', 's', 'm', 'm', 'f', 'r', 's', 'd', 'p', 'l', 'm', 'n', 's', 'p', 'l', 'v', 'r', 's']\n"
     ]
    }
   ],
   "source": [
    "frase = input(\"Digite uma frase com pelo menos 10 palavras: \").lower()\n",
    "\n",
    "consoantes = \"bcdfghjklmnpqrstvwxyz\"\n",
    "\n",
    "consoantes_na_frase = [letra for letra in frase if letra in consoantes]\n",
    "\n",
    "print(consoantes_na_frase)\n"
   ]
  },
  {
   "cell_type": "markdown",
   "metadata": {},
   "source": [
    "5. Pegue o índice e o valor, na forma de tupla, para os itens na lista: ['oi', 4, 8.99, 'mamao', ('t,b', 'n')]. O resultado seria semelhante a (indice, valor), (indice, valor);"
   ]
  },
  {
   "cell_type": "code",
   "execution_count": 18,
   "id": "5a66bd5f",
   "metadata": {
    "ExecuteTime": {
     "end_time": "2023-07-19T22:14:56.230037Z",
     "start_time": "2023-07-19T22:14:56.223032Z"
    }
   },
   "outputs": [
    {
     "name": "stdout",
     "output_type": "stream",
     "text": [
      "[(0, 'oi'), (1, 4), (2, 8.99), (3, 'mamao'), (4, ('t,b', 'n'))]\n",
      "(0, 'oi')\n",
      "(1, 4)\n",
      "(2, 8.99)\n",
      "(3, 'mamao')\n",
      "(4, ('t,b', 'n'))\n"
     ]
    }
   ],
   "source": [
    "lista = ['oi', 4, 8.99, 'mamao', ('t,b', 'n')]\n",
    "\n",
    "resultado = [(indice, valor) for indice, valor in enumerate(lista)]\n",
    "\n",
    "print(resultado)\n",
    "\n",
    "# Saida com tuplas separadas\n",
    "for i in resultado:\n",
    "    print(i)"
   ]
  },
  {
   "cell_type": "markdown",
   "metadata": {},
   "source": [
    "6. Encontre os números em comum em duas listas (sem utilizar \"tupla\" ou \"set\"), sendo ambas as listas recebidas pelo *standard input* e com, pelo menos, 5 valores em cada;"
   ]
  },
  {
   "cell_type": "code",
   "execution_count": 5,
   "id": "614400b0",
   "metadata": {
    "ExecuteTime": {
     "end_time": "2023-07-19T22:16:19.771169Z",
     "start_time": "2023-07-19T22:16:19.764644Z"
    }
   },
   "outputs": [
    {
     "name": "stdout",
     "output_type": "stream",
     "text": [
      "[1, 2, 3, 6]\n"
     ]
    }
   ],
   "source": [
    "lista1 = input('Digite uma lista de números separando com espaço').split()\n",
    "lista2 = input('Digite outra lista de números separando com espaço').split()\n",
    "\n",
    "lista1 = [int(x) for x in lista1]\n",
    "lista2 = [int(x) for x in lista2]\n",
    "\n",
    "numerosEmComum = [num1 for num1 in lista1 if num1 in lista2]\n",
    "\n",
    "print(numerosEmComum)\n"
   ]
  },
  {
   "cell_type": "markdown",
   "metadata": {},
   "source": [
    "7. Receba uma frase pelo *standard input* e salve apenas os números encontrados nesta frase em uma lista;"
   ]
  },
  {
   "cell_type": "code",
   "execution_count": 33,
   "id": "7c198d66",
   "metadata": {
    "ExecuteTime": {
     "end_time": "2023-07-19T22:17:39.289290Z",
     "start_time": "2023-07-19T22:17:39.282267Z"
    }
   },
   "outputs": [
    {
     "name": "stdout",
     "output_type": "stream",
     "text": [
      "['1', '4', '4', '1', '1', '4', '3', '3', '0']\n"
     ]
    }
   ],
   "source": [
    "# entrada = input('Digite uma frase com números')\n",
    "\n",
    "def encontraNumerosGenerator(entrada):\n",
    "    '''\n",
    "    Função retorna o endereço do objeto gerador\n",
    "    '''\n",
    "    yield [frase for frase in entrada if frase.isdigit()]\n",
    "\n",
    "def encontraNumeros(entrada):\n",
    "    '''\n",
    "    Função retorna o resultado dos numeros contidos na entrada\n",
    "    '''\n",
    "    return [frase for frase in entrada if frase.isdigit()]\n",
    "\n",
    "\n",
    "entrada = 'M1nh4 4t1v1d4d3 3m pyth0n'\n",
    "resultado = encontraNumeros(entrada)\n",
    "print(resultado)"
   ]
  },
  {
   "cell_type": "markdown",
   "metadata": {},
   "source": [
    "8. Dado o  seguinte iterável: numeros = range(20), produza uma lista contendo as palavras 'par' e 'impar' caso o número daquela posição seja par/impar. Teremos, ao final, uma segunda lista com ['impar', 'par', 'par', 'impar', etc];"
   ]
  },
  {
   "cell_type": "code",
   "execution_count": 1,
   "id": "6e6696d9",
   "metadata": {
    "ExecuteTime": {
     "end_time": "2023-07-19T22:20:22.771052Z",
     "start_time": "2023-07-19T22:20:22.766058Z"
    }
   },
   "outputs": [
    {
     "name": "stdout",
     "output_type": "stream",
     "text": [
      "['par', 'ímpar', 'par', 'ímpar', 'par', 'ímpar', 'par', 'ímpar', 'par', 'ímpar', 'par', 'ímpar', 'par', 'ímpar', 'par', 'ímpar', 'par', 'ímpar', 'par', 'ímpar']\n"
     ]
    }
   ],
   "source": [
    "numeros = range(20)\n",
    "segunda_lista = ['ímpar' if numero % 2 != 0 else 'par' for numero in numeros]\n",
    "\n",
    "print(segunda_lista)\n"
   ]
  },
  {
   "cell_type": "markdown",
   "metadata": {},
   "source": [
    "9. Construa uma lista de tuplas que tenha apenas os números em comum entre duas listas, sendo: lista1 = [1, 2, 3, 4, 5, 6, 7, 8, 9] e lista2 = [2, 7, 1, 12] e o resultado deve ser algo do tipo: [(1,1), (2,2), etc];"
   ]
  },
  {
   "cell_type": "code",
   "execution_count": 2,
   "id": "374d6d06",
   "metadata": {
    "ExecuteTime": {
     "end_time": "2023-07-19T22:25:32.331715Z",
     "start_time": "2023-07-19T22:25:32.325660Z"
    }
   },
   "outputs": [
    {
     "name": "stdout",
     "output_type": "stream",
     "text": [
      "[(1, 1), (2, 2), (7, 7)]\n"
     ]
    }
   ],
   "source": [
    "lista1 = [1, 2, 3, 4, 5, 6, 7, 8, 9]\n",
    "lista2 = [2, 7, 1, 12]\n",
    "\n",
    "tuplas_em_comum = [(x, x) for x in lista1 if x in lista2]\n",
    "\n",
    "print(tuplas_em_comum)\n"
   ]
  },
  {
   "cell_type": "markdown",
   "metadata": {},
   "source": [
    "10. Encontre todas as palavras em uma *string*, que contenham menos de 4 letras;"
   ]
  },
  {
   "cell_type": "code",
   "execution_count": 3,
   "id": "7c5fdc6a",
   "metadata": {
    "ExecuteTime": {
     "end_time": "2023-07-19T22:26:58.347954Z",
     "start_time": "2023-07-19T22:26:58.343421Z"
    }
   },
   "outputs": [
    {
     "name": "stdout",
     "output_type": "stream",
     "text": [
      "Palavras com menos de 4 letras na frase: []\n"
     ]
    }
   ],
   "source": [
    "import re\n",
    "\n",
    "frase = input(\"Digite uma frase: \")\n",
    "\n",
    "palavras_menos_de_4_letras = re.findall(r'\\b\\w{1,3}\\b', frase)\n",
    "\n",
    "print(\"Palavras com menos de 4 letras na frase:\", palavras_menos_de_4_letras)\n"
   ]
  },
  {
   "cell_type": "markdown",
   "metadata": {},
   "source": [
    "11. Use uma compreensão de lista aninhada para encontrar todos os números entre 1-1000 que sejam divisiveis por algum número entre 2-9."
   ]
  },
  {
   "cell_type": "code",
   "execution_count": 4,
   "id": "ff628c58",
   "metadata": {
    "ExecuteTime": {
     "end_time": "2023-07-19T22:30:05.444115Z",
     "start_time": "2023-07-19T22:30:05.432504Z"
    }
   },
   "outputs": [
    {
     "name": "stdout",
     "output_type": "stream",
     "text": [
      "[2, 3, 4, 5, 6, 7, 8, 9, 10, 12, 14, 15, 16, 18, 20, 21, 22, 24, 25, 26, 27, 28, 30, 32, 33, 34, 35, 36, 38, 39, 40, 42, 44, 45, 46, 48, 49, 50, 51, 52, 54, 55, 56, 57, 58, 60, 62, 63, 64, 65, 66, 68, 69, 70, 72, 74, 75, 76, 77, 78, 80, 81, 82, 84, 85, 86, 87, 88, 90, 91, 92, 93, 94, 95, 96, 98, 99, 100, 102, 104, 105, 106, 108, 110, 111, 112, 114, 115, 116, 117, 118, 119, 120, 122, 123, 124, 125, 126, 128, 129, 130, 132, 133, 134, 135, 136, 138, 140, 141, 142, 144, 145, 146, 147, 148, 150, 152, 153, 154, 155, 156, 158, 159, 160, 161, 162, 164, 165, 166, 168, 170, 171, 172, 174, 175, 176, 177, 178, 180, 182, 183, 184, 185, 186, 188, 189, 190, 192, 194, 195, 196, 198, 200, 201, 202, 203, 204, 205, 206, 207, 208, 210, 212, 213, 214, 215, 216, 217, 218, 219, 220, 222, 224, 225, 226, 228, 230, 231, 232, 234, 235, 236, 237, 238, 240, 242, 243, 244, 245, 246, 248, 249, 250, 252, 254, 255, 256, 258, 259, 260, 261, 262, 264, 265, 266, 267, 268, 270, 272, 273, 274, 275, 276, 278, 279, 280, 282, 284, 285, 286, 287, 288, 290, 291, 292, 294, 295, 296, 297, 298, 300, 301, 302, 303, 304, 305, 306, 308, 309, 310, 312, 314, 315, 316, 318, 320, 321, 322, 324, 325, 326, 327, 328, 329, 330, 332, 333, 334, 335, 336, 338, 339, 340, 342, 343, 344, 345, 346, 348, 350, 351, 352, 354, 355, 356, 357, 358, 360, 362, 363, 364, 365, 366, 368, 369, 370, 371, 372, 374, 375, 376, 378, 380, 381, 382, 384, 385, 386, 387, 388, 390, 392, 393, 394, 395, 396, 398, 399, 400, 402, 404, 405, 406, 408, 410, 411, 412, 413, 414, 415, 416, 417, 418, 420, 422, 423, 424, 425, 426, 427, 428, 429, 430, 432, 434, 435, 436, 438, 440, 441, 442, 444, 445, 446, 447, 448, 450, 452, 453, 454, 455, 456, 458, 459, 460, 462, 464, 465, 466, 468, 469, 470, 471, 472, 474, 475, 476, 477, 478, 480, 482, 483, 484, 485, 486, 488, 489, 490, 492, 494, 495, 496, 497, 498, 500, 501, 502, 504, 505, 506, 507, 508, 510, 511, 512, 513, 514, 515, 516, 518, 519, 520, 522, 524, 525, 526, 528, 530, 531, 532, 534, 535, 536, 537, 538, 539, 540, 542, 543, 544, 545, 546, 548, 549, 550, 552, 553, 554, 555, 556, 558, 560, 561, 562, 564, 565, 566, 567, 568, 570, 572, 573, 574, 575, 576, 578, 579, 580, 581, 582, 584, 585, 586, 588, 590, 591, 592, 594, 595, 596, 597, 598, 600, 602, 603, 604, 605, 606, 608, 609, 610, 612, 614, 615, 616, 618, 620, 621, 622, 623, 624, 625, 626, 627, 628, 630, 632, 633, 634, 635, 636, 637, 638, 639, 640, 642, 644, 645, 646, 648, 650, 651, 652, 654, 655, 656, 657, 658, 660, 662, 663, 664, 665, 666, 668, 669, 670, 672, 674, 675, 676, 678, 679, 680, 681, 682, 684, 685, 686, 687, 688, 690, 692, 693, 694, 695, 696, 698, 699, 700, 702, 704, 705, 706, 707, 708, 710, 711, 712, 714, 715, 716, 717, 718, 720, 721, 722, 723, 724, 725, 726, 728, 729, 730, 732, 734, 735, 736, 738, 740, 741, 742, 744, 745, 746, 747, 748, 749, 750, 752, 753, 754, 755, 756, 758, 759, 760, 762, 763, 764, 765, 766, 768, 770, 771, 772, 774, 775, 776, 777, 778, 780, 782, 783, 784, 785, 786, 788, 789, 790, 791, 792, 794, 795, 796, 798, 800, 801, 802, 804, 805, 806, 807, 808, 810, 812, 813, 814, 815, 816, 818, 819, 820, 822, 824, 825, 826, 828, 830, 831, 832, 833, 834, 835, 836, 837, 838, 840, 842, 843, 844, 845, 846, 847, 848, 849, 850, 852, 854, 855, 856, 858, 860, 861, 862, 864, 865, 866, 867, 868, 870, 872, 873, 874, 875, 876, 878, 879, 880, 882, 884, 885, 886, 888, 889, 890, 891, 892, 894, 895, 896, 897, 898, 900, 902, 903, 904, 905, 906, 908, 909, 910, 912, 914, 915, 916, 917, 918, 920, 921, 922, 924, 925, 926, 927, 928, 930, 931, 932, 933, 934, 935, 936, 938, 939, 940, 942, 944, 945, 946, 948, 950, 951, 952, 954, 955, 956, 957, 958, 959, 960, 962, 963, 964, 965, 966, 968, 969, 970, 972, 973, 974, 975, 976, 978, 980, 981, 982, 984, 985, 986, 987, 988, 990, 992, 993, 994, 995, 996, 998, 999, 1000]\n"
     ]
    }
   ],
   "source": [
    "divisiveis = [numero for numero in range(1, 1001) if any(numero % divisor == 0 for divisor in range(2, 10))]\n",
    "\n",
    "print(divisiveis)\n"
   ]
  }
 ],
 "metadata": {
  "kernelspec": {
   "display_name": "Python 3 (ipykernel)",
   "language": "python",
   "name": "python3"
  },
  "language_info": {
   "codemirror_mode": {
    "name": "ipython",
    "version": 3
   },
   "file_extension": ".py",
   "mimetype": "text/x-python",
   "name": "python",
   "nbconvert_exporter": "python",
   "pygments_lexer": "ipython3",
   "version": "3.11.4"
  },
  "latex_envs": {
   "LaTeX_envs_menu_present": true,
   "autoclose": false,
   "autocomplete": true,
   "bibliofile": "biblio.bib",
   "cite_by": "apalike",
   "current_citInitial": 1,
   "eqLabelWithNumbers": true,
   "eqNumInitial": 1,
   "hotkeys": {
    "equation": "Ctrl-E",
    "itemize": "Ctrl-I"
   },
   "labels_anchors": false,
   "latex_user_defs": false,
   "report_style_numbering": false,
   "user_envs_cfg": false
  },
  "toc": {
   "base_numbering": 1,
   "nav_menu": {},
   "number_sections": true,
   "sideBar": true,
   "skip_h1_title": false,
   "title_cell": "Table of Contents",
   "title_sidebar": "Contents",
   "toc_cell": false,
   "toc_position": {},
   "toc_section_display": true,
   "toc_window_display": false
  },
  "varInspector": {
   "cols": {
    "lenName": 16,
    "lenType": 16,
    "lenVar": 40
   },
   "kernels_config": {
    "python": {
     "delete_cmd_postfix": "",
     "delete_cmd_prefix": "del ",
     "library": "var_list.py",
     "varRefreshCmd": "print(var_dic_list())"
    },
    "r": {
     "delete_cmd_postfix": ") ",
     "delete_cmd_prefix": "rm(",
     "library": "var_list.r",
     "varRefreshCmd": "cat(var_dic_list()) "
    }
   },
   "types_to_exclude": [
    "module",
    "function",
    "builtin_function_or_method",
    "instance",
    "_Feature"
   ],
   "window_display": false
  }
 },
 "nbformat": 4,
 "nbformat_minor": 5
}
