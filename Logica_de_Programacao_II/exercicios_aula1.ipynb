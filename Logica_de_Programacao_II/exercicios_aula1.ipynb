{
 "cells": [
  {
   "cell_type": "markdown",
   "metadata": {},
   "source": [
    "1. Defina duas tuplas: uma com nomes de comida (pelo menos 5 nomes) e outra com os preços das comidas - preservando a ordem. Mostre no *standard output* a relação de comida-preço."
   ]
  },
  {
   "cell_type": "code",
   "execution_count": 13,
   "metadata": {},
   "outputs": [
    {
     "name": "stdout",
     "output_type": "stream",
     "text": [
      "O prato Carne custa R$10,90\n"
     ]
    },
    {
     "ename": "NameError",
     "evalue": "name 'prato' is not defined",
     "output_type": "error",
     "traceback": [
      "\u001b[0;31m---------------------------------------------------------------------------\u001b[0m",
      "\u001b[0;31mNameError\u001b[0m                                 Traceback (most recent call last)",
      "\u001b[1;32m/home/jumbeba/Downloads/PESSOAL/3. DataScience/Lógica de Programação II (PY)/exercicios_aula1.ipynb Célula 2\u001b[0m line \u001b[0;36m1\n\u001b[1;32m     <a href='vscode-notebook-cell:/home/jumbeba/Downloads/PESSOAL/3.%20DataScience/L%C3%B3gica%20de%20Programa%C3%A7%C3%A3o%20II%20%28PY%29/exercicios_aula1.ipynb#W0sZmlsZQ%3D%3D?line=16'>17</a>\u001b[0m \u001b[39mfor\u001b[39;00m comida, preco \u001b[39min\u001b[39;00m \u001b[39mzip\u001b[39m(comidas, precos):\n\u001b[1;32m     <a href='vscode-notebook-cell:/home/jumbeba/Downloads/PESSOAL/3.%20DataScience/L%C3%B3gica%20de%20Programa%C3%A7%C3%A3o%20II%20%28PY%29/exercicios_aula1.ipynb#W0sZmlsZQ%3D%3D?line=17'>18</a>\u001b[0m     \u001b[39mprint\u001b[39m(\u001b[39mf\u001b[39m\u001b[39m'\u001b[39m\u001b[39mO prato \u001b[39m\u001b[39m{\u001b[39;00mcomida\u001b[39m}\u001b[39;00m\u001b[39m custa R$\u001b[39m\u001b[39m{\u001b[39;00mpreco\u001b[39m}\u001b[39;00m\u001b[39m'\u001b[39m)\n\u001b[0;32m---> <a href='vscode-notebook-cell:/home/jumbeba/Downloads/PESSOAL/3.%20DataScience/L%C3%B3gica%20de%20Programa%C3%A7%C3%A3o%20II%20%28PY%29/exercicios_aula1.ipynb#W0sZmlsZQ%3D%3D?line=18'>19</a>\u001b[0m     comida, preco \u001b[39m=\u001b[39m prato\u001b[39m.\u001b[39mappend(pratos)\n\u001b[1;32m     <a href='vscode-notebook-cell:/home/jumbeba/Downloads/PESSOAL/3.%20DataScience/L%C3%B3gica%20de%20Programa%C3%A7%C3%A3o%20II%20%28PY%29/exercicios_aula1.ipynb#W0sZmlsZQ%3D%3D?line=20'>21</a>\u001b[0m \u001b[39mprint\u001b[39m(pratos)\n",
      "\u001b[0;31mNameError\u001b[0m: name 'prato' is not defined"
     ]
    }
   ],
   "source": [
    "comidas = (\n",
    "    'Carne',\n",
    "    'Frango',\n",
    "    'Arroz',\n",
    "    'Feijão',\n",
    "    'Batata'\n",
    "    )\n",
    "precos = (\n",
    "    '10,90',\n",
    "    '10,91',\n",
    "    '10,92',\n",
    "    '10,93',\n",
    "    '10,94'\n",
    "    )\n",
    "\n",
    "for comida, preco in zip(comidas, precos):\n",
    "    print(f'O prato {comida} custa R${preco}')\n",
    "\n",
    "\n"
   ]
  },
  {
   "cell_type": "markdown",
   "metadata": {},
   "source": [
    "2. Agora, ainda com as tuplas acima, pegue apenas o nome e o preço das três comidas no meio da tupla. (considere \"meio da lista\" como sendo, por exemplo: ('A', 'B', 'C', 'D', 'E') --> ('B', 'C', 'D')."
   ]
  },
  {
   "cell_type": "code",
   "execution_count": 19,
   "metadata": {},
   "outputs": [
    {
     "name": "stdout",
     "output_type": "stream",
     "text": [
      "Os pratos do meio são:  Frango que custa R$10,91\n",
      "Os pratos do meio são:  Arroz que custa R$10,92\n",
      "Os pratos do meio são:  Feijão que custa R$10,93\n"
     ]
    }
   ],
   "source": [
    "meio_comidas = comidas[1:4]\n",
    "meio_precos = precos[1:4]\n",
    "\n",
    "for meio_comida, meio_preco in zip(meio_comidas, meio_precos):\n",
    "    print(f'Os pratos do meio são:  {meio_comida} que custa R${meio_preco}')\n"
   ]
  },
  {
   "cell_type": "markdown",
   "metadata": {},
   "source": [
    "3. Defina uma tupla com pelo menos cinco valores e mostre no *standar output* esta tupla invertida. (exemplo, (1, 2, 3, 4) --> (4, 3, 2, 1)"
   ]
  },
  {
   "cell_type": "code",
   "execution_count": 20,
   "metadata": {},
   "outputs": [
    {
     "name": "stdout",
     "output_type": "stream",
     "text": [
      "Os pratos do invertidos são:  Batata que custa R$10,94\n",
      "Os pratos do invertidos são:  Feijão que custa R$10,93\n",
      "Os pratos do invertidos são:  Arroz que custa R$10,92\n",
      "Os pratos do invertidos são:  Frango que custa R$10,91\n",
      "Os pratos do invertidos são:  Carne que custa R$10,90\n"
     ]
    }
   ],
   "source": [
    "invertidos_comidas = comidas[-1::-1]\n",
    "invertidos_precos =  precos[-1::-1]\n",
    "\n",
    "for invertidos_comida, invertidos_preco in zip(invertidos_comidas, invertidos_precos):\n",
    "    print(f'Os pratos do invertidos são:  {invertidos_comida} que custa R${invertidos_preco}')"
   ]
  },
  {
   "cell_type": "markdown",
   "metadata": {},
   "source": [
    "\n",
    "4. Dada a seguinte tupla: (('a', 23),('b', 37),('c', 11), ('d',29)). Ordene esta tupla de acordo com o segundo item."
   ]
  },
  {
   "cell_type": "code",
   "execution_count": null,
   "metadata": {},
   "outputs": [],
   "source": [
    "itens = (('a', 23),('b', 37),('c', 11), ('d',29))\n",
    "\n",
    "lista = list(itens)\n",
    "\n"
   ]
  },
  {
   "cell_type": "markdown",
   "metadata": {},
   "source": [
    "5. Defina uma tupla com pelo menos dez itens e crie uma nova tupla com apenas os itens de índice PAR da tupla original."
   ]
  },
  {
   "cell_type": "code",
   "execution_count": 22,
   "metadata": {},
   "outputs": [
    {
     "name": "stdout",
     "output_type": "stream",
     "text": [
      "0\n",
      "1\n",
      "1\n",
      "2\n",
      "2\n",
      "3\n",
      "3\n",
      "4\n",
      "4\n",
      "5\n"
     ]
    }
   ],
   "source": [
    "original = (1, 2, 3, 4, 5, 6, 7, 8, 9, 10)\n",
    "\n",
    "for numeros in original:\n",
    "    pares = numeros * 2\n",
    "    print(pares)"
   ]
  }
 ],
 "metadata": {
  "kernelspec": {
   "display_name": "base",
   "language": "python",
   "name": "python3"
  },
  "language_info": {
   "codemirror_mode": {
    "name": "ipython",
    "version": 3
   },
   "file_extension": ".py",
   "mimetype": "text/x-python",
   "name": "python",
   "nbconvert_exporter": "python",
   "pygments_lexer": "ipython3",
   "version": "3.11.4"
  }
 },
 "nbformat": 4,
 "nbformat_minor": 2
}
