{
 "cells": [
  {
   "cell_type": "markdown",
   "id": "e9954ef1",
   "metadata": {},
   "source": [
    "# Exercício 1:\n",
    "\n",
    "Aplique a primeira, segunda e terceira forma normal na seguinte tabela:\n",
    "\n",
    "<img src='./exemplo.PNG' width=600>"
   ]
  },
  {
   "cell_type": "markdown",
   "id": "b5acea0c",
   "metadata": {},
   "source": [
    "### Primeria forma normal\n",
    "\n",
    "Passo 1: Identificar a chave primaria \n",
    "\n",
    "Passo 2: Remover colunas de grupo repetitivo"
   ]
  },
  {
   "cell_type": "markdown",
   "metadata": {},
   "source": [
    "## 1ª forma - Identificando a chave primária\n",
    "\n",
    "Dicas: \n",
    "* Valores compostos aplica a 1FN direto, nem precisa pensar. \n",
    "* Verifique quais valores se repete e aplique a 1FN\n",
    "  \n",
    "PK: Repetidas varias vezes -> Grupos repetitivos -> Aplica 1FN\n",
    "\n",
    "Retirando as colunas repetitivas/Chaves primárias: Nome_estudante, Nome_disciplina, Nome_Professor, Categoria_professor\n",
    "\n",
    "#### Tabela 1\n",
    "| Num_estudante | Nome_estudante | Curso | Num_disciplina | Cod_professor | Notas | \n",
    "| ------------- | -------------- | ----- |  ------------- | ------------- | ----- | \n",
    "| ------------- | -------------- | ----- |  ------------- | ------------- | ----- |\n",
    "| ------------- | -------------- | ----- |  ------------- | ------------- | ----- | \n",
    "\n",
    "#### Tabela 2\n",
    "| Num_estudante | Nome_estudante | Num_disciplina | Nome_disciplina | Cod_professor | Nome_Professor | \n",
    "| ------------- | -------------- |  ------------- | --------------- | ------------- | -------------- | \n",
    "| ------------- | -------------- |  ------------- | --------------- | ------------- | -------------- |\n",
    "| ------------- | -------------- |  ------------- | --------------- | ------------- | -------------- | "
   ]
  },
  {
   "cell_type": "markdown",
   "id": "cbbc4608",
   "metadata": {},
   "source": [
    "### Segunda Forma Normal\n",
    "\n",
    "Pré-requisito: A chave primaria deve ser composta\n",
    "\n",
    "Passo 1: Identificar os atributos que não são dependentes somente da chave primária;\n",
    "    \n",
    "Passo 2:\n"
   ]
  },
  {
   "cell_type": "markdown",
   "id": "fd1d3ae3",
   "metadata": {},
   "source": [
    "### Terceira Forma Normal\n",
    "\n",
    "Passo 1: Identificar as colunas não chave que dependem de outras colunas não chave;\n",
    "    \n",
    "Passo 2:"
   ]
  }
 ],
 "metadata": {
  "kernelspec": {
   "display_name": "Python 3 (ipykernel)",
   "language": "python",
   "name": "python3"
  },
  "language_info": {
   "codemirror_mode": {
    "name": "ipython",
    "version": 3
   },
   "file_extension": ".py",
   "mimetype": "text/x-python",
   "name": "python",
   "nbconvert_exporter": "python",
   "pygments_lexer": "ipython3",
   "version": "3.11.2"
  }
 },
 "nbformat": 4,
 "nbformat_minor": 5
}
